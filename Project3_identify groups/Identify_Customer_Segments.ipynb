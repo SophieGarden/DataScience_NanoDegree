{
 "cells": [
  {
   "cell_type": "markdown",
   "metadata": {},
   "source": [
    "# Project: Identify Customer Segments\n",
    "\n",
    "In this project, you will apply unsupervised learning techniques to identify segments of the population that form the core customer base for a mail-order sales company in Germany. These segments can then be used to direct marketing campaigns towards audiences that will have the highest expected rate of returns. The data that you will use has been provided by our partners at Bertelsmann Arvato Analytics, and represents a real-life data science task.\n",
    "\n",
    "This notebook will help you complete this task by providing a framework within which you will perform your analysis steps. In each step of the project, you will see some text describing the subtask that you will perform, followed by one or more code cells for you to complete your work. **Feel free to add additional code and markdown cells as you go along so that you can explore everything in precise chunks.** The code cells provided in the base template will outline only the major tasks, and will usually not be enough to cover all of the minor tasks that comprise it.\n",
    "\n",
    "It should be noted that while there will be precise guidelines on how you should handle certain tasks in the project, there will also be places where an exact specification is not provided. **There will be times in the project where you will need to make and justify your own decisions on how to treat the data.** These are places where there may not be only one way to handle the data. In real-life tasks, there may be many valid ways to approach an analysis task. One of the most important things you can do is clearly document your approach so that other scientists can understand the decisions you've made.\n",
    "\n",
    "At the end of most sections, there will be a Markdown cell labeled **Discussion**. In these cells, you will report your findings for the completed section, as well as document the decisions that you made in your approach to each subtask. **Your project will be evaluated not just on the code used to complete the tasks outlined, but also your communication about your observations and conclusions at each stage.**"
   ]
  },
  {
   "cell_type": "code",
   "execution_count": 84,
   "metadata": {},
   "outputs": [],
   "source": [
    "# import libraries here; add more as necessary\n",
    "import numpy as np\n",
    "import pandas as pd\n",
    "import matplotlib.pyplot as plt\n",
    "import seaborn as sns\n",
    "import random\n",
    "\n",
    "from sklearn import preprocessing, decomposition, cluster\n",
    "\n",
    "# magic word for producing visualizations in notebook\n",
    "%matplotlib inline"
   ]
  },
  {
   "cell_type": "markdown",
   "metadata": {},
   "source": [
    "### Step 0: Load the Data\n",
    "\n",
    "There are four files associated with this project (not including this one):\n",
    "\n",
    "- `Udacity_AZDIAS_Subset.csv`: Demographics data for the general population of Germany; 891211 persons (rows) x 85 features (columns).\n",
    "- `Udacity_CUSTOMERS_Subset.csv`: Demographics data for customers of a mail-order company; 191652 persons (rows) x 85 features (columns).\n",
    "- `Data_Dictionary.md`: Detailed information file about the features in the provided datasets.\n",
    "- `AZDIAS_Feature_Summary.csv`: Summary of feature attributes for demographics data; 85 features (rows) x 4 columns\n",
    "\n",
    "Each row of the demographics files represents a single person, but also includes information outside of individuals, including information about their household, building, and neighborhood. You will use this information to cluster the general population into groups with similar demographic properties. Then, you will see how the people in the customers dataset fit into those created clusters. The hope here is that certain clusters are over-represented in the customers data, as compared to the general population; those over-represented clusters will be assumed to be part of the core userbase. This information can then be used for further applications, such as targeting for a marketing campaign.\n",
    "\n",
    "To start off with, load in the demographics data for the general population into a pandas DataFrame, and do the same for the feature attributes summary. Note for all of the `.csv` data files in this project: they're semicolon (`;`) delimited, so you'll need an additional argument in your [`read_csv()`](https://pandas.pydata.org/pandas-docs/stable/generated/pandas.read_csv.html) call to read in the data properly. Also, considering the size of the main dataset, it may take some time for it to load completely.\n",
    "\n",
    "Once the dataset is loaded, it's recommended that you take a little bit of time just browsing the general structure of the dataset and feature summary file. You'll be getting deep into the innards of the cleaning in the first major step of the project, so gaining some general familiarity can help you get your bearings."
   ]
  },
  {
   "cell_type": "code",
   "execution_count": 85,
   "metadata": {},
   "outputs": [],
   "source": [
    "# Load in the general demographics data.\n",
    "azdias = pd.read_csv('Udacity_AZDIAS_Subset.csv', sep = ';')"
   ]
  },
  {
   "cell_type": "code",
   "execution_count": 86,
   "metadata": {},
   "outputs": [],
   "source": [
    "# Load in the feature summary file.\n",
    "feat_info = pd.read_csv('AZDIAS_Feature_Summary.csv', sep = ';')"
   ]
  },
  {
   "cell_type": "code",
   "execution_count": 87,
   "metadata": {
    "scrolled": true
   },
   "outputs": [
    {
     "name": "stdout",
     "output_type": "stream",
     "text": [
      "<class 'pandas.core.frame.DataFrame'>\n",
      "RangeIndex: 891221 entries, 0 to 891220\n",
      "Data columns (total 85 columns):\n",
      "AGER_TYP                 891221 non-null int64\n",
      "ALTERSKATEGORIE_GROB     891221 non-null int64\n",
      "ANREDE_KZ                891221 non-null int64\n",
      "CJT_GESAMTTYP            886367 non-null float64\n",
      "FINANZ_MINIMALIST        891221 non-null int64\n",
      "FINANZ_SPARER            891221 non-null int64\n",
      "FINANZ_VORSORGER         891221 non-null int64\n",
      "FINANZ_ANLEGER           891221 non-null int64\n",
      "FINANZ_UNAUFFAELLIGER    891221 non-null int64\n",
      "FINANZ_HAUSBAUER         891221 non-null int64\n",
      "FINANZTYP                891221 non-null int64\n",
      "GEBURTSJAHR              891221 non-null int64\n",
      "GFK_URLAUBERTYP          886367 non-null float64\n",
      "GREEN_AVANTGARDE         891221 non-null int64\n",
      "HEALTH_TYP               891221 non-null int64\n",
      "LP_LEBENSPHASE_FEIN      886367 non-null float64\n",
      "LP_LEBENSPHASE_GROB      886367 non-null float64\n",
      "LP_FAMILIE_FEIN          886367 non-null float64\n",
      "LP_FAMILIE_GROB          886367 non-null float64\n",
      "LP_STATUS_FEIN           886367 non-null float64\n",
      "LP_STATUS_GROB           886367 non-null float64\n",
      "NATIONALITAET_KZ         891221 non-null int64\n",
      "PRAEGENDE_JUGENDJAHRE    891221 non-null int64\n",
      "RETOURTYP_BK_S           886367 non-null float64\n",
      "SEMIO_SOZ                891221 non-null int64\n",
      "SEMIO_FAM                891221 non-null int64\n",
      "SEMIO_REL                891221 non-null int64\n",
      "SEMIO_MAT                891221 non-null int64\n",
      "SEMIO_VERT               891221 non-null int64\n",
      "SEMIO_LUST               891221 non-null int64\n",
      "SEMIO_ERL                891221 non-null int64\n",
      "SEMIO_KULT               891221 non-null int64\n",
      "SEMIO_RAT                891221 non-null int64\n",
      "SEMIO_KRIT               891221 non-null int64\n",
      "SEMIO_DOM                891221 non-null int64\n",
      "SEMIO_KAEM               891221 non-null int64\n",
      "SEMIO_PFLICHT            891221 non-null int64\n",
      "SEMIO_TRADV              891221 non-null int64\n",
      "SHOPPER_TYP              891221 non-null int64\n",
      "SOHO_KZ                  817722 non-null float64\n",
      "TITEL_KZ                 817722 non-null float64\n",
      "VERS_TYP                 891221 non-null int64\n",
      "ZABEOTYP                 891221 non-null int64\n",
      "ALTER_HH                 817722 non-null float64\n",
      "ANZ_PERSONEN             817722 non-null float64\n",
      "ANZ_TITEL                817722 non-null float64\n",
      "HH_EINKOMMEN_SCORE       872873 non-null float64\n",
      "KK_KUNDENTYP             306609 non-null float64\n",
      "W_KEIT_KIND_HH           783619 non-null float64\n",
      "WOHNDAUER_2008           817722 non-null float64\n",
      "ANZ_HAUSHALTE_AKTIV      798073 non-null float64\n",
      "ANZ_HH_TITEL             794213 non-null float64\n",
      "GEBAEUDETYP              798073 non-null float64\n",
      "KONSUMNAEHE              817252 non-null float64\n",
      "MIN_GEBAEUDEJAHR         798073 non-null float64\n",
      "OST_WEST_KZ              798073 non-null object\n",
      "WOHNLAGE                 798073 non-null float64\n",
      "CAMEO_DEUG_2015          792242 non-null object\n",
      "CAMEO_DEU_2015           792242 non-null object\n",
      "CAMEO_INTL_2015          792242 non-null object\n",
      "KBA05_ANTG1              757897 non-null float64\n",
      "KBA05_ANTG2              757897 non-null float64\n",
      "KBA05_ANTG3              757897 non-null float64\n",
      "KBA05_ANTG4              757897 non-null float64\n",
      "KBA05_BAUMAX             757897 non-null float64\n",
      "KBA05_GBZ                757897 non-null float64\n",
      "BALLRAUM                 797481 non-null float64\n",
      "EWDICHTE                 797481 non-null float64\n",
      "INNENSTADT               797481 non-null float64\n",
      "GEBAEUDETYP_RASTER       798066 non-null float64\n",
      "KKK                      770025 non-null float64\n",
      "MOBI_REGIO               757897 non-null float64\n",
      "ONLINE_AFFINITAET        886367 non-null float64\n",
      "REGIOTYP                 770025 non-null float64\n",
      "KBA13_ANZAHL_PKW         785421 non-null float64\n",
      "PLZ8_ANTG1               774706 non-null float64\n",
      "PLZ8_ANTG2               774706 non-null float64\n",
      "PLZ8_ANTG3               774706 non-null float64\n",
      "PLZ8_ANTG4               774706 non-null float64\n",
      "PLZ8_BAUMAX              774706 non-null float64\n",
      "PLZ8_HHZ                 774706 non-null float64\n",
      "PLZ8_GBZ                 774706 non-null float64\n",
      "ARBEIT                   794005 non-null float64\n",
      "ORTSGR_KLS9              794005 non-null float64\n",
      "RELAT_AB                 794005 non-null float64\n",
      "dtypes: float64(49), int64(32), object(4)\n",
      "memory usage: 578.0+ MB\n"
     ]
    }
   ],
   "source": [
    "# Check the structure of the data after it's loaded (e.g. print the number of\n",
    "# rows and columns, print the first few rows).\n",
    "\n",
    "azdias.info()"
   ]
  },
  {
   "cell_type": "code",
   "execution_count": 88,
   "metadata": {},
   "outputs": [
    {
     "data": {
      "text/html": [
       "<div>\n",
       "<style scoped>\n",
       "    .dataframe tbody tr th:only-of-type {\n",
       "        vertical-align: middle;\n",
       "    }\n",
       "\n",
       "    .dataframe tbody tr th {\n",
       "        vertical-align: top;\n",
       "    }\n",
       "\n",
       "    .dataframe thead th {\n",
       "        text-align: right;\n",
       "    }\n",
       "</style>\n",
       "<table border=\"1\" class=\"dataframe\">\n",
       "  <thead>\n",
       "    <tr style=\"text-align: right;\">\n",
       "      <th></th>\n",
       "      <th>AGER_TYP</th>\n",
       "      <th>ALTERSKATEGORIE_GROB</th>\n",
       "      <th>ANREDE_KZ</th>\n",
       "      <th>CJT_GESAMTTYP</th>\n",
       "      <th>FINANZ_MINIMALIST</th>\n",
       "      <th>FINANZ_SPARER</th>\n",
       "      <th>FINANZ_VORSORGER</th>\n",
       "      <th>FINANZ_ANLEGER</th>\n",
       "      <th>FINANZ_UNAUFFAELLIGER</th>\n",
       "      <th>FINANZ_HAUSBAUER</th>\n",
       "      <th>...</th>\n",
       "      <th>PLZ8_ANTG1</th>\n",
       "      <th>PLZ8_ANTG2</th>\n",
       "      <th>PLZ8_ANTG3</th>\n",
       "      <th>PLZ8_ANTG4</th>\n",
       "      <th>PLZ8_BAUMAX</th>\n",
       "      <th>PLZ8_HHZ</th>\n",
       "      <th>PLZ8_GBZ</th>\n",
       "      <th>ARBEIT</th>\n",
       "      <th>ORTSGR_KLS9</th>\n",
       "      <th>RELAT_AB</th>\n",
       "    </tr>\n",
       "  </thead>\n",
       "  <tbody>\n",
       "    <tr>\n",
       "      <th>count</th>\n",
       "      <td>891221.000000</td>\n",
       "      <td>891221.000000</td>\n",
       "      <td>891221.000000</td>\n",
       "      <td>886367.000000</td>\n",
       "      <td>891221.000000</td>\n",
       "      <td>891221.000000</td>\n",
       "      <td>891221.000000</td>\n",
       "      <td>891221.000000</td>\n",
       "      <td>891221.000000</td>\n",
       "      <td>891221.000000</td>\n",
       "      <td>...</td>\n",
       "      <td>774706.000000</td>\n",
       "      <td>774706.000000</td>\n",
       "      <td>774706.000000</td>\n",
       "      <td>774706.000000</td>\n",
       "      <td>774706.000000</td>\n",
       "      <td>774706.000000</td>\n",
       "      <td>774706.000000</td>\n",
       "      <td>794005.000000</td>\n",
       "      <td>794005.000000</td>\n",
       "      <td>794005.00000</td>\n",
       "    </tr>\n",
       "    <tr>\n",
       "      <th>mean</th>\n",
       "      <td>-0.358435</td>\n",
       "      <td>2.777398</td>\n",
       "      <td>1.522098</td>\n",
       "      <td>3.632838</td>\n",
       "      <td>3.074528</td>\n",
       "      <td>2.821039</td>\n",
       "      <td>3.401106</td>\n",
       "      <td>3.033328</td>\n",
       "      <td>2.874167</td>\n",
       "      <td>3.075121</td>\n",
       "      <td>...</td>\n",
       "      <td>2.253330</td>\n",
       "      <td>2.801858</td>\n",
       "      <td>1.595426</td>\n",
       "      <td>0.699166</td>\n",
       "      <td>1.943913</td>\n",
       "      <td>3.612821</td>\n",
       "      <td>3.381087</td>\n",
       "      <td>3.167854</td>\n",
       "      <td>5.293002</td>\n",
       "      <td>3.07222</td>\n",
       "    </tr>\n",
       "    <tr>\n",
       "      <th>std</th>\n",
       "      <td>1.198724</td>\n",
       "      <td>1.068775</td>\n",
       "      <td>0.499512</td>\n",
       "      <td>1.595021</td>\n",
       "      <td>1.321055</td>\n",
       "      <td>1.464749</td>\n",
       "      <td>1.322134</td>\n",
       "      <td>1.529603</td>\n",
       "      <td>1.486731</td>\n",
       "      <td>1.353248</td>\n",
       "      <td>...</td>\n",
       "      <td>0.972008</td>\n",
       "      <td>0.920309</td>\n",
       "      <td>0.986736</td>\n",
       "      <td>0.727137</td>\n",
       "      <td>1.459654</td>\n",
       "      <td>0.973967</td>\n",
       "      <td>1.111598</td>\n",
       "      <td>1.002376</td>\n",
       "      <td>2.303739</td>\n",
       "      <td>1.36298</td>\n",
       "    </tr>\n",
       "    <tr>\n",
       "      <th>min</th>\n",
       "      <td>-1.000000</td>\n",
       "      <td>1.000000</td>\n",
       "      <td>1.000000</td>\n",
       "      <td>1.000000</td>\n",
       "      <td>1.000000</td>\n",
       "      <td>1.000000</td>\n",
       "      <td>1.000000</td>\n",
       "      <td>1.000000</td>\n",
       "      <td>1.000000</td>\n",
       "      <td>1.000000</td>\n",
       "      <td>...</td>\n",
       "      <td>0.000000</td>\n",
       "      <td>0.000000</td>\n",
       "      <td>0.000000</td>\n",
       "      <td>0.000000</td>\n",
       "      <td>1.000000</td>\n",
       "      <td>1.000000</td>\n",
       "      <td>1.000000</td>\n",
       "      <td>1.000000</td>\n",
       "      <td>0.000000</td>\n",
       "      <td>1.00000</td>\n",
       "    </tr>\n",
       "    <tr>\n",
       "      <th>25%</th>\n",
       "      <td>-1.000000</td>\n",
       "      <td>2.000000</td>\n",
       "      <td>1.000000</td>\n",
       "      <td>2.000000</td>\n",
       "      <td>2.000000</td>\n",
       "      <td>1.000000</td>\n",
       "      <td>3.000000</td>\n",
       "      <td>2.000000</td>\n",
       "      <td>2.000000</td>\n",
       "      <td>2.000000</td>\n",
       "      <td>...</td>\n",
       "      <td>1.000000</td>\n",
       "      <td>2.000000</td>\n",
       "      <td>1.000000</td>\n",
       "      <td>0.000000</td>\n",
       "      <td>1.000000</td>\n",
       "      <td>3.000000</td>\n",
       "      <td>3.000000</td>\n",
       "      <td>3.000000</td>\n",
       "      <td>4.000000</td>\n",
       "      <td>2.00000</td>\n",
       "    </tr>\n",
       "    <tr>\n",
       "      <th>50%</th>\n",
       "      <td>-1.000000</td>\n",
       "      <td>3.000000</td>\n",
       "      <td>2.000000</td>\n",
       "      <td>4.000000</td>\n",
       "      <td>3.000000</td>\n",
       "      <td>3.000000</td>\n",
       "      <td>3.000000</td>\n",
       "      <td>3.000000</td>\n",
       "      <td>3.000000</td>\n",
       "      <td>3.000000</td>\n",
       "      <td>...</td>\n",
       "      <td>2.000000</td>\n",
       "      <td>3.000000</td>\n",
       "      <td>2.000000</td>\n",
       "      <td>1.000000</td>\n",
       "      <td>1.000000</td>\n",
       "      <td>4.000000</td>\n",
       "      <td>3.000000</td>\n",
       "      <td>3.000000</td>\n",
       "      <td>5.000000</td>\n",
       "      <td>3.00000</td>\n",
       "    </tr>\n",
       "    <tr>\n",
       "      <th>75%</th>\n",
       "      <td>-1.000000</td>\n",
       "      <td>4.000000</td>\n",
       "      <td>2.000000</td>\n",
       "      <td>5.000000</td>\n",
       "      <td>4.000000</td>\n",
       "      <td>4.000000</td>\n",
       "      <td>5.000000</td>\n",
       "      <td>5.000000</td>\n",
       "      <td>4.000000</td>\n",
       "      <td>4.000000</td>\n",
       "      <td>...</td>\n",
       "      <td>3.000000</td>\n",
       "      <td>3.000000</td>\n",
       "      <td>2.000000</td>\n",
       "      <td>1.000000</td>\n",
       "      <td>3.000000</td>\n",
       "      <td>4.000000</td>\n",
       "      <td>4.000000</td>\n",
       "      <td>4.000000</td>\n",
       "      <td>7.000000</td>\n",
       "      <td>4.00000</td>\n",
       "    </tr>\n",
       "    <tr>\n",
       "      <th>max</th>\n",
       "      <td>3.000000</td>\n",
       "      <td>9.000000</td>\n",
       "      <td>2.000000</td>\n",
       "      <td>6.000000</td>\n",
       "      <td>5.000000</td>\n",
       "      <td>5.000000</td>\n",
       "      <td>5.000000</td>\n",
       "      <td>5.000000</td>\n",
       "      <td>5.000000</td>\n",
       "      <td>5.000000</td>\n",
       "      <td>...</td>\n",
       "      <td>4.000000</td>\n",
       "      <td>4.000000</td>\n",
       "      <td>3.000000</td>\n",
       "      <td>2.000000</td>\n",
       "      <td>5.000000</td>\n",
       "      <td>5.000000</td>\n",
       "      <td>5.000000</td>\n",
       "      <td>9.000000</td>\n",
       "      <td>9.000000</td>\n",
       "      <td>9.00000</td>\n",
       "    </tr>\n",
       "  </tbody>\n",
       "</table>\n",
       "<p>8 rows × 81 columns</p>\n",
       "</div>"
      ],
      "text/plain": [
       "            AGER_TYP  ALTERSKATEGORIE_GROB      ANREDE_KZ  CJT_GESAMTTYP  \\\n",
       "count  891221.000000         891221.000000  891221.000000  886367.000000   \n",
       "mean       -0.358435              2.777398       1.522098       3.632838   \n",
       "std         1.198724              1.068775       0.499512       1.595021   \n",
       "min        -1.000000              1.000000       1.000000       1.000000   \n",
       "25%        -1.000000              2.000000       1.000000       2.000000   \n",
       "50%        -1.000000              3.000000       2.000000       4.000000   \n",
       "75%        -1.000000              4.000000       2.000000       5.000000   \n",
       "max         3.000000              9.000000       2.000000       6.000000   \n",
       "\n",
       "       FINANZ_MINIMALIST  FINANZ_SPARER  FINANZ_VORSORGER  FINANZ_ANLEGER  \\\n",
       "count      891221.000000  891221.000000     891221.000000   891221.000000   \n",
       "mean            3.074528       2.821039          3.401106        3.033328   \n",
       "std             1.321055       1.464749          1.322134        1.529603   \n",
       "min             1.000000       1.000000          1.000000        1.000000   \n",
       "25%             2.000000       1.000000          3.000000        2.000000   \n",
       "50%             3.000000       3.000000          3.000000        3.000000   \n",
       "75%             4.000000       4.000000          5.000000        5.000000   \n",
       "max             5.000000       5.000000          5.000000        5.000000   \n",
       "\n",
       "       FINANZ_UNAUFFAELLIGER  FINANZ_HAUSBAUER      ...          PLZ8_ANTG1  \\\n",
       "count          891221.000000     891221.000000      ...       774706.000000   \n",
       "mean                2.874167          3.075121      ...            2.253330   \n",
       "std                 1.486731          1.353248      ...            0.972008   \n",
       "min                 1.000000          1.000000      ...            0.000000   \n",
       "25%                 2.000000          2.000000      ...            1.000000   \n",
       "50%                 3.000000          3.000000      ...            2.000000   \n",
       "75%                 4.000000          4.000000      ...            3.000000   \n",
       "max                 5.000000          5.000000      ...            4.000000   \n",
       "\n",
       "          PLZ8_ANTG2     PLZ8_ANTG3     PLZ8_ANTG4    PLZ8_BAUMAX  \\\n",
       "count  774706.000000  774706.000000  774706.000000  774706.000000   \n",
       "mean        2.801858       1.595426       0.699166       1.943913   \n",
       "std         0.920309       0.986736       0.727137       1.459654   \n",
       "min         0.000000       0.000000       0.000000       1.000000   \n",
       "25%         2.000000       1.000000       0.000000       1.000000   \n",
       "50%         3.000000       2.000000       1.000000       1.000000   \n",
       "75%         3.000000       2.000000       1.000000       3.000000   \n",
       "max         4.000000       3.000000       2.000000       5.000000   \n",
       "\n",
       "            PLZ8_HHZ       PLZ8_GBZ         ARBEIT    ORTSGR_KLS9  \\\n",
       "count  774706.000000  774706.000000  794005.000000  794005.000000   \n",
       "mean        3.612821       3.381087       3.167854       5.293002   \n",
       "std         0.973967       1.111598       1.002376       2.303739   \n",
       "min         1.000000       1.000000       1.000000       0.000000   \n",
       "25%         3.000000       3.000000       3.000000       4.000000   \n",
       "50%         4.000000       3.000000       3.000000       5.000000   \n",
       "75%         4.000000       4.000000       4.000000       7.000000   \n",
       "max         5.000000       5.000000       9.000000       9.000000   \n",
       "\n",
       "           RELAT_AB  \n",
       "count  794005.00000  \n",
       "mean        3.07222  \n",
       "std         1.36298  \n",
       "min         1.00000  \n",
       "25%         2.00000  \n",
       "50%         3.00000  \n",
       "75%         4.00000  \n",
       "max         9.00000  \n",
       "\n",
       "[8 rows x 81 columns]"
      ]
     },
     "execution_count": 88,
     "metadata": {},
     "output_type": "execute_result"
    }
   ],
   "source": [
    "azdias.describe()"
   ]
  },
  {
   "cell_type": "code",
   "execution_count": 89,
   "metadata": {
    "scrolled": true
   },
   "outputs": [
    {
     "data": {
      "text/html": [
       "<div>\n",
       "<style scoped>\n",
       "    .dataframe tbody tr th:only-of-type {\n",
       "        vertical-align: middle;\n",
       "    }\n",
       "\n",
       "    .dataframe tbody tr th {\n",
       "        vertical-align: top;\n",
       "    }\n",
       "\n",
       "    .dataframe thead th {\n",
       "        text-align: right;\n",
       "    }\n",
       "</style>\n",
       "<table border=\"1\" class=\"dataframe\">\n",
       "  <thead>\n",
       "    <tr style=\"text-align: right;\">\n",
       "      <th></th>\n",
       "      <th>AGER_TYP</th>\n",
       "      <th>ALTERSKATEGORIE_GROB</th>\n",
       "      <th>ANREDE_KZ</th>\n",
       "      <th>CJT_GESAMTTYP</th>\n",
       "      <th>FINANZ_MINIMALIST</th>\n",
       "      <th>FINANZ_SPARER</th>\n",
       "      <th>FINANZ_VORSORGER</th>\n",
       "      <th>FINANZ_ANLEGER</th>\n",
       "      <th>FINANZ_UNAUFFAELLIGER</th>\n",
       "      <th>FINANZ_HAUSBAUER</th>\n",
       "      <th>...</th>\n",
       "      <th>PLZ8_ANTG1</th>\n",
       "      <th>PLZ8_ANTG2</th>\n",
       "      <th>PLZ8_ANTG3</th>\n",
       "      <th>PLZ8_ANTG4</th>\n",
       "      <th>PLZ8_BAUMAX</th>\n",
       "      <th>PLZ8_HHZ</th>\n",
       "      <th>PLZ8_GBZ</th>\n",
       "      <th>ARBEIT</th>\n",
       "      <th>ORTSGR_KLS9</th>\n",
       "      <th>RELAT_AB</th>\n",
       "    </tr>\n",
       "  </thead>\n",
       "  <tbody>\n",
       "    <tr>\n",
       "      <th>0</th>\n",
       "      <td>-1</td>\n",
       "      <td>2</td>\n",
       "      <td>1</td>\n",
       "      <td>2.0</td>\n",
       "      <td>3</td>\n",
       "      <td>4</td>\n",
       "      <td>3</td>\n",
       "      <td>5</td>\n",
       "      <td>5</td>\n",
       "      <td>3</td>\n",
       "      <td>...</td>\n",
       "      <td>NaN</td>\n",
       "      <td>NaN</td>\n",
       "      <td>NaN</td>\n",
       "      <td>NaN</td>\n",
       "      <td>NaN</td>\n",
       "      <td>NaN</td>\n",
       "      <td>NaN</td>\n",
       "      <td>NaN</td>\n",
       "      <td>NaN</td>\n",
       "      <td>NaN</td>\n",
       "    </tr>\n",
       "    <tr>\n",
       "      <th>1</th>\n",
       "      <td>-1</td>\n",
       "      <td>1</td>\n",
       "      <td>2</td>\n",
       "      <td>5.0</td>\n",
       "      <td>1</td>\n",
       "      <td>5</td>\n",
       "      <td>2</td>\n",
       "      <td>5</td>\n",
       "      <td>4</td>\n",
       "      <td>5</td>\n",
       "      <td>...</td>\n",
       "      <td>2.0</td>\n",
       "      <td>3.0</td>\n",
       "      <td>2.0</td>\n",
       "      <td>1.0</td>\n",
       "      <td>1.0</td>\n",
       "      <td>5.0</td>\n",
       "      <td>4.0</td>\n",
       "      <td>3.0</td>\n",
       "      <td>5.0</td>\n",
       "      <td>4.0</td>\n",
       "    </tr>\n",
       "    <tr>\n",
       "      <th>2</th>\n",
       "      <td>-1</td>\n",
       "      <td>3</td>\n",
       "      <td>2</td>\n",
       "      <td>3.0</td>\n",
       "      <td>1</td>\n",
       "      <td>4</td>\n",
       "      <td>1</td>\n",
       "      <td>2</td>\n",
       "      <td>3</td>\n",
       "      <td>5</td>\n",
       "      <td>...</td>\n",
       "      <td>3.0</td>\n",
       "      <td>3.0</td>\n",
       "      <td>1.0</td>\n",
       "      <td>0.0</td>\n",
       "      <td>1.0</td>\n",
       "      <td>4.0</td>\n",
       "      <td>4.0</td>\n",
       "      <td>3.0</td>\n",
       "      <td>5.0</td>\n",
       "      <td>2.0</td>\n",
       "    </tr>\n",
       "    <tr>\n",
       "      <th>3</th>\n",
       "      <td>2</td>\n",
       "      <td>4</td>\n",
       "      <td>2</td>\n",
       "      <td>2.0</td>\n",
       "      <td>4</td>\n",
       "      <td>2</td>\n",
       "      <td>5</td>\n",
       "      <td>2</td>\n",
       "      <td>1</td>\n",
       "      <td>2</td>\n",
       "      <td>...</td>\n",
       "      <td>2.0</td>\n",
       "      <td>2.0</td>\n",
       "      <td>2.0</td>\n",
       "      <td>0.0</td>\n",
       "      <td>1.0</td>\n",
       "      <td>3.0</td>\n",
       "      <td>4.0</td>\n",
       "      <td>2.0</td>\n",
       "      <td>3.0</td>\n",
       "      <td>3.0</td>\n",
       "    </tr>\n",
       "    <tr>\n",
       "      <th>4</th>\n",
       "      <td>-1</td>\n",
       "      <td>3</td>\n",
       "      <td>1</td>\n",
       "      <td>5.0</td>\n",
       "      <td>4</td>\n",
       "      <td>3</td>\n",
       "      <td>4</td>\n",
       "      <td>1</td>\n",
       "      <td>3</td>\n",
       "      <td>2</td>\n",
       "      <td>...</td>\n",
       "      <td>2.0</td>\n",
       "      <td>4.0</td>\n",
       "      <td>2.0</td>\n",
       "      <td>1.0</td>\n",
       "      <td>2.0</td>\n",
       "      <td>3.0</td>\n",
       "      <td>3.0</td>\n",
       "      <td>4.0</td>\n",
       "      <td>6.0</td>\n",
       "      <td>5.0</td>\n",
       "    </tr>\n",
       "  </tbody>\n",
       "</table>\n",
       "<p>5 rows × 85 columns</p>\n",
       "</div>"
      ],
      "text/plain": [
       "   AGER_TYP  ALTERSKATEGORIE_GROB  ANREDE_KZ  CJT_GESAMTTYP  \\\n",
       "0        -1                     2          1            2.0   \n",
       "1        -1                     1          2            5.0   \n",
       "2        -1                     3          2            3.0   \n",
       "3         2                     4          2            2.0   \n",
       "4        -1                     3          1            5.0   \n",
       "\n",
       "   FINANZ_MINIMALIST  FINANZ_SPARER  FINANZ_VORSORGER  FINANZ_ANLEGER  \\\n",
       "0                  3              4                 3               5   \n",
       "1                  1              5                 2               5   \n",
       "2                  1              4                 1               2   \n",
       "3                  4              2                 5               2   \n",
       "4                  4              3                 4               1   \n",
       "\n",
       "   FINANZ_UNAUFFAELLIGER  FINANZ_HAUSBAUER    ...     PLZ8_ANTG1  PLZ8_ANTG2  \\\n",
       "0                      5                 3    ...            NaN         NaN   \n",
       "1                      4                 5    ...            2.0         3.0   \n",
       "2                      3                 5    ...            3.0         3.0   \n",
       "3                      1                 2    ...            2.0         2.0   \n",
       "4                      3                 2    ...            2.0         4.0   \n",
       "\n",
       "   PLZ8_ANTG3  PLZ8_ANTG4  PLZ8_BAUMAX  PLZ8_HHZ  PLZ8_GBZ  ARBEIT  \\\n",
       "0         NaN         NaN          NaN       NaN       NaN     NaN   \n",
       "1         2.0         1.0          1.0       5.0       4.0     3.0   \n",
       "2         1.0         0.0          1.0       4.0       4.0     3.0   \n",
       "3         2.0         0.0          1.0       3.0       4.0     2.0   \n",
       "4         2.0         1.0          2.0       3.0       3.0     4.0   \n",
       "\n",
       "   ORTSGR_KLS9  RELAT_AB  \n",
       "0          NaN       NaN  \n",
       "1          5.0       4.0  \n",
       "2          5.0       2.0  \n",
       "3          3.0       3.0  \n",
       "4          6.0       5.0  \n",
       "\n",
       "[5 rows x 85 columns]"
      ]
     },
     "execution_count": 89,
     "metadata": {},
     "output_type": "execute_result"
    }
   ],
   "source": [
    "azdias.head()"
   ]
  },
  {
   "cell_type": "code",
   "execution_count": 90,
   "metadata": {},
   "outputs": [
    {
     "name": "stdout",
     "output_type": "stream",
     "text": [
      "<class 'pandas.core.frame.DataFrame'>\n",
      "RangeIndex: 85 entries, 0 to 84\n",
      "Data columns (total 4 columns):\n",
      "attribute             85 non-null object\n",
      "information_level     85 non-null object\n",
      "type                  85 non-null object\n",
      "missing_or_unknown    85 non-null object\n",
      "dtypes: object(4)\n",
      "memory usage: 2.7+ KB\n"
     ]
    }
   ],
   "source": [
    "feat_info.info()"
   ]
  },
  {
   "cell_type": "code",
   "execution_count": 91,
   "metadata": {},
   "outputs": [
    {
     "data": {
      "text/html": [
       "<div>\n",
       "<style scoped>\n",
       "    .dataframe tbody tr th:only-of-type {\n",
       "        vertical-align: middle;\n",
       "    }\n",
       "\n",
       "    .dataframe tbody tr th {\n",
       "        vertical-align: top;\n",
       "    }\n",
       "\n",
       "    .dataframe thead th {\n",
       "        text-align: right;\n",
       "    }\n",
       "</style>\n",
       "<table border=\"1\" class=\"dataframe\">\n",
       "  <thead>\n",
       "    <tr style=\"text-align: right;\">\n",
       "      <th></th>\n",
       "      <th>attribute</th>\n",
       "      <th>information_level</th>\n",
       "      <th>type</th>\n",
       "      <th>missing_or_unknown</th>\n",
       "    </tr>\n",
       "  </thead>\n",
       "  <tbody>\n",
       "    <tr>\n",
       "      <th>count</th>\n",
       "      <td>85</td>\n",
       "      <td>85</td>\n",
       "      <td>85</td>\n",
       "      <td>85</td>\n",
       "    </tr>\n",
       "    <tr>\n",
       "      <th>unique</th>\n",
       "      <td>85</td>\n",
       "      <td>9</td>\n",
       "      <td>5</td>\n",
       "      <td>9</td>\n",
       "    </tr>\n",
       "    <tr>\n",
       "      <th>top</th>\n",
       "      <td>SEMIO_VERT</td>\n",
       "      <td>person</td>\n",
       "      <td>ordinal</td>\n",
       "      <td>[-1]</td>\n",
       "    </tr>\n",
       "    <tr>\n",
       "      <th>freq</th>\n",
       "      <td>1</td>\n",
       "      <td>43</td>\n",
       "      <td>49</td>\n",
       "      <td>26</td>\n",
       "    </tr>\n",
       "  </tbody>\n",
       "</table>\n",
       "</div>"
      ],
      "text/plain": [
       "         attribute information_level     type missing_or_unknown\n",
       "count           85                85       85                 85\n",
       "unique          85                 9        5                  9\n",
       "top     SEMIO_VERT            person  ordinal               [-1]\n",
       "freq             1                43       49                 26"
      ]
     },
     "execution_count": 91,
     "metadata": {},
     "output_type": "execute_result"
    }
   ],
   "source": [
    "feat_info.describe()"
   ]
  },
  {
   "cell_type": "code",
   "execution_count": 92,
   "metadata": {
    "scrolled": true
   },
   "outputs": [
    {
     "data": {
      "text/html": [
       "<div>\n",
       "<style scoped>\n",
       "    .dataframe tbody tr th:only-of-type {\n",
       "        vertical-align: middle;\n",
       "    }\n",
       "\n",
       "    .dataframe tbody tr th {\n",
       "        vertical-align: top;\n",
       "    }\n",
       "\n",
       "    .dataframe thead th {\n",
       "        text-align: right;\n",
       "    }\n",
       "</style>\n",
       "<table border=\"1\" class=\"dataframe\">\n",
       "  <thead>\n",
       "    <tr style=\"text-align: right;\">\n",
       "      <th></th>\n",
       "      <th>attribute</th>\n",
       "      <th>information_level</th>\n",
       "      <th>type</th>\n",
       "      <th>missing_or_unknown</th>\n",
       "    </tr>\n",
       "  </thead>\n",
       "  <tbody>\n",
       "    <tr>\n",
       "      <th>0</th>\n",
       "      <td>AGER_TYP</td>\n",
       "      <td>person</td>\n",
       "      <td>categorical</td>\n",
       "      <td>[-1,0]</td>\n",
       "    </tr>\n",
       "    <tr>\n",
       "      <th>1</th>\n",
       "      <td>ALTERSKATEGORIE_GROB</td>\n",
       "      <td>person</td>\n",
       "      <td>ordinal</td>\n",
       "      <td>[-1,0,9]</td>\n",
       "    </tr>\n",
       "    <tr>\n",
       "      <th>2</th>\n",
       "      <td>ANREDE_KZ</td>\n",
       "      <td>person</td>\n",
       "      <td>categorical</td>\n",
       "      <td>[-1,0]</td>\n",
       "    </tr>\n",
       "    <tr>\n",
       "      <th>3</th>\n",
       "      <td>CJT_GESAMTTYP</td>\n",
       "      <td>person</td>\n",
       "      <td>categorical</td>\n",
       "      <td>[0]</td>\n",
       "    </tr>\n",
       "    <tr>\n",
       "      <th>4</th>\n",
       "      <td>FINANZ_MINIMALIST</td>\n",
       "      <td>person</td>\n",
       "      <td>ordinal</td>\n",
       "      <td>[-1]</td>\n",
       "    </tr>\n",
       "  </tbody>\n",
       "</table>\n",
       "</div>"
      ],
      "text/plain": [
       "              attribute information_level         type missing_or_unknown\n",
       "0              AGER_TYP            person  categorical             [-1,0]\n",
       "1  ALTERSKATEGORIE_GROB            person      ordinal           [-1,0,9]\n",
       "2             ANREDE_KZ            person  categorical             [-1,0]\n",
       "3         CJT_GESAMTTYP            person  categorical                [0]\n",
       "4     FINANZ_MINIMALIST            person      ordinal               [-1]"
      ]
     },
     "execution_count": 92,
     "metadata": {},
     "output_type": "execute_result"
    }
   ],
   "source": [
    "feat_info.head()"
   ]
  },
  {
   "cell_type": "markdown",
   "metadata": {},
   "source": [
    "> **Tip**: Add additional cells to keep everything in reasonably-sized chunks! Keyboard shortcut `esc --> a` (press escape to enter command mode, then press the 'A' key) adds a new cell before the active cell, and `esc --> b` adds a new cell after the active cell. If you need to convert an active cell to a markdown cell, use `esc --> m` and to convert to a code cell, use `esc --> y`. \n",
    "\n",
    "## Step 1: Preprocessing\n",
    "\n",
    "### Step 1.1: Assess Missing Data\n",
    "\n",
    "The feature summary file contains a summary of properties for each demographics data column. You will use this file to help you make cleaning decisions during this stage of the project. First of all, you should assess the demographics data in terms of missing data. Pay attention to the following points as you perform your analysis, and take notes on what you observe. Make sure that you fill in the **Discussion** cell with your findings and decisions at the end of each step that has one!\n",
    "\n",
    "#### Step 1.1.1: Convert Missing Value Codes to NaNs\n",
    "The fourth column of the feature attributes summary (loaded in above as `feat_info`) documents the codes from the data dictionary that indicate missing or unknown data. While the file encodes this as a list (e.g. `[-1,0]`), this will get read in as a string object. You'll need to do a little bit of parsing to make use of it to identify and clean the data. Convert data that matches a 'missing' or 'unknown' value code into a numpy NaN value. You might want to see how much data takes on a 'missing' or 'unknown' code, and how much data is naturally missing, as a point of interest.\n",
    "\n",
    "**As one more reminder, you are encouraged to add additional cells to break up your analysis into manageable chunks.**"
   ]
  },
  {
   "cell_type": "code",
   "execution_count": 93,
   "metadata": {},
   "outputs": [],
   "source": [
    "# Identify missing or unknown data values and convert them to NaNs.=\n",
    "missing = feat_info.missing_or_unknown.copy()\n",
    "\n",
    "missing = missing.str.replace('[', '')\n",
    "missing = missing.str.replace(']', '')\n",
    "missing = missing.str.split(',')"
   ]
  },
  {
   "cell_type": "code",
   "execution_count": 94,
   "metadata": {},
   "outputs": [
    {
     "data": {
      "text/plain": [
       "pandas.core.series.Series"
      ]
     },
     "execution_count": 94,
     "metadata": {},
     "output_type": "execute_result"
    }
   ],
   "source": [
    "type(missing)"
   ]
  },
  {
   "cell_type": "code",
   "execution_count": 95,
   "metadata": {},
   "outputs": [],
   "source": [
    "a = azdias.copy()"
   ]
  },
  {
   "cell_type": "code",
   "execution_count": 96,
   "metadata": {},
   "outputs": [
    {
     "data": {
      "text/plain": [
       "pandas.core.series.Series"
      ]
     },
     "execution_count": 96,
     "metadata": {},
     "output_type": "execute_result"
    }
   ],
   "source": [
    "c = (feat_info.attribute == a.columns)\n",
    "type(c)"
   ]
  },
  {
   "cell_type": "code",
   "execution_count": 97,
   "metadata": {
    "scrolled": true
   },
   "outputs": [
    {
     "data": {
      "text/plain": [
       "count       85\n",
       "unique       1\n",
       "top       True\n",
       "freq        85\n",
       "dtype: object"
      ]
     },
     "execution_count": 97,
     "metadata": {},
     "output_type": "execute_result"
    }
   ],
   "source": [
    "c.describe()"
   ]
  },
  {
   "cell_type": "code",
   "execution_count": 98,
   "metadata": {},
   "outputs": [
    {
     "data": {
      "text/plain": [
       "85"
      ]
     },
     "execution_count": 98,
     "metadata": {},
     "output_type": "execute_result"
    }
   ],
   "source": [
    "azdias.shape[1]"
   ]
  },
  {
   "cell_type": "code",
   "execution_count": 99,
   "metadata": {},
   "outputs": [],
   "source": [
    "for i in range(a.shape[1]):\n",
    "    a.iloc[:,i].mask(a.iloc[:,i].isin(missing[i]), inplace=True)"
   ]
  },
  {
   "cell_type": "code",
   "execution_count": 100,
   "metadata": {},
   "outputs": [
    {
     "data": {
      "text/plain": [
       "numpy.int64"
      ]
     },
     "execution_count": 100,
     "metadata": {},
     "output_type": "execute_result"
    }
   ],
   "source": [
    "type(a.iloc[0,2])"
   ]
  },
  {
   "cell_type": "code",
   "execution_count": 101,
   "metadata": {},
   "outputs": [
    {
     "data": {
      "text/plain": [
       "['-1', '0']"
      ]
     },
     "execution_count": 101,
     "metadata": {},
     "output_type": "execute_result"
    }
   ],
   "source": [
    "missing[0]"
   ]
  },
  {
   "cell_type": "code",
   "execution_count": 102,
   "metadata": {},
   "outputs": [],
   "source": [
    "azdias = a.copy()\n",
    "del a,missing"
   ]
  },
  {
   "cell_type": "code",
   "execution_count": 103,
   "metadata": {},
   "outputs": [
    {
     "name": "stdout",
     "output_type": "stream",
     "text": [
      "<class 'pandas.core.frame.DataFrame'>\n",
      "RangeIndex: 891221 entries, 0 to 891220\n",
      "Data columns (total 85 columns):\n",
      "AGER_TYP                 205378 non-null float64\n",
      "ALTERSKATEGORIE_GROB     888340 non-null float64\n",
      "ANREDE_KZ                891221 non-null int64\n",
      "CJT_GESAMTTYP            886367 non-null float64\n",
      "FINANZ_MINIMALIST        891221 non-null int64\n",
      "FINANZ_SPARER            891221 non-null int64\n",
      "FINANZ_VORSORGER         891221 non-null int64\n",
      "FINANZ_ANLEGER           891221 non-null int64\n",
      "FINANZ_UNAUFFAELLIGER    891221 non-null int64\n",
      "FINANZ_HAUSBAUER         891221 non-null int64\n",
      "FINANZTYP                891221 non-null int64\n",
      "GEBURTSJAHR              498903 non-null float64\n",
      "GFK_URLAUBERTYP          886367 non-null float64\n",
      "GREEN_AVANTGARDE         891221 non-null int64\n",
      "HEALTH_TYP               780025 non-null float64\n",
      "LP_LEBENSPHASE_FEIN      793589 non-null float64\n",
      "LP_LEBENSPHASE_GROB      796649 non-null float64\n",
      "LP_FAMILIE_FEIN          813429 non-null float64\n",
      "LP_FAMILIE_GROB          813429 non-null float64\n",
      "LP_STATUS_FEIN           886367 non-null float64\n",
      "LP_STATUS_GROB           886367 non-null float64\n",
      "NATIONALITAET_KZ         782906 non-null float64\n",
      "PRAEGENDE_JUGENDJAHRE    783057 non-null float64\n",
      "RETOURTYP_BK_S           886367 non-null float64\n",
      "SEMIO_SOZ                891221 non-null int64\n",
      "SEMIO_FAM                891221 non-null int64\n",
      "SEMIO_REL                891221 non-null int64\n",
      "SEMIO_MAT                891221 non-null int64\n",
      "SEMIO_VERT               891221 non-null int64\n",
      "SEMIO_LUST               891221 non-null int64\n",
      "SEMIO_ERL                891221 non-null int64\n",
      "SEMIO_KULT               891221 non-null int64\n",
      "SEMIO_RAT                891221 non-null int64\n",
      "SEMIO_KRIT               891221 non-null int64\n",
      "SEMIO_DOM                891221 non-null int64\n",
      "SEMIO_KAEM               891221 non-null int64\n",
      "SEMIO_PFLICHT            891221 non-null int64\n",
      "SEMIO_TRADV              891221 non-null int64\n",
      "SHOPPER_TYP              780025 non-null float64\n",
      "SOHO_KZ                  817722 non-null float64\n",
      "TITEL_KZ                 2160 non-null float64\n",
      "VERS_TYP                 780025 non-null float64\n",
      "ZABEOTYP                 891221 non-null int64\n",
      "ALTER_HH                 580954 non-null float64\n",
      "ANZ_PERSONEN             817722 non-null float64\n",
      "ANZ_TITEL                817722 non-null float64\n",
      "HH_EINKOMMEN_SCORE       872873 non-null float64\n",
      "KK_KUNDENTYP             306609 non-null float64\n",
      "W_KEIT_KIND_HH           743233 non-null float64\n",
      "WOHNDAUER_2008           817722 non-null float64\n",
      "ANZ_HAUSHALTE_AKTIV      791610 non-null float64\n",
      "ANZ_HH_TITEL             794213 non-null float64\n",
      "GEBAEUDETYP              798073 non-null float64\n",
      "KONSUMNAEHE              817252 non-null float64\n",
      "MIN_GEBAEUDEJAHR         798073 non-null float64\n",
      "OST_WEST_KZ              798073 non-null object\n",
      "WOHNLAGE                 798073 non-null float64\n",
      "CAMEO_DEUG_2015          791869 non-null object\n",
      "CAMEO_DEU_2015           791869 non-null object\n",
      "CAMEO_INTL_2015          791869 non-null object\n",
      "KBA05_ANTG1              757897 non-null float64\n",
      "KBA05_ANTG2              757897 non-null float64\n",
      "KBA05_ANTG3              757897 non-null float64\n",
      "KBA05_ANTG4              757897 non-null float64\n",
      "KBA05_BAUMAX             414697 non-null float64\n",
      "KBA05_GBZ                757897 non-null float64\n",
      "BALLRAUM                 797481 non-null float64\n",
      "EWDICHTE                 797481 non-null float64\n",
      "INNENSTADT               797481 non-null float64\n",
      "GEBAEUDETYP_RASTER       798066 non-null float64\n",
      "KKK                      733157 non-null float64\n",
      "MOBI_REGIO               757897 non-null float64\n",
      "ONLINE_AFFINITAET        886367 non-null float64\n",
      "REGIOTYP                 733157 non-null float64\n",
      "KBA13_ANZAHL_PKW         785421 non-null float64\n",
      "PLZ8_ANTG1               774706 non-null float64\n",
      "PLZ8_ANTG2               774706 non-null float64\n",
      "PLZ8_ANTG3               774706 non-null float64\n",
      "PLZ8_ANTG4               774706 non-null float64\n",
      "PLZ8_BAUMAX              774706 non-null float64\n",
      "PLZ8_HHZ                 774706 non-null float64\n",
      "PLZ8_GBZ                 774706 non-null float64\n",
      "ARBEIT                   793846 non-null float64\n",
      "ORTSGR_KLS9              793947 non-null float64\n",
      "RELAT_AB                 793846 non-null float64\n",
      "dtypes: float64(57), int64(24), object(4)\n",
      "memory usage: 578.0+ MB\n"
     ]
    }
   ],
   "source": [
    "azdias.info()"
   ]
  },
  {
   "cell_type": "markdown",
   "metadata": {},
   "source": [
    "#### Step 1.1.2: Assess Missing Data in Each Column\n",
    "\n",
    "How much missing data is present in each column? There are a few columns that are outliers in terms of the proportion of values that are missing. You will want to use matplotlib's [`hist()`](https://matplotlib.org/api/_as_gen/matplotlib.pyplot.hist.html) function to visualize the distribution of missing value counts to find these columns. Identify and document these columns. While some of these columns might have justifications for keeping or re-encoding the data, for this project you should just remove them from the dataframe. (Feel free to make remarks about these outlier columns in the discussion, however!)\n",
    "\n",
    "For the remaining features, are there any patterns in which columns have, or share, missing data?"
   ]
  },
  {
   "cell_type": "code",
   "execution_count": 104,
   "metadata": {
    "scrolled": true
   },
   "outputs": [
    {
     "data": {
      "text/plain": [
       "AGER_TYP                 685843\n",
       "ALTERSKATEGORIE_GROB       2881\n",
       "ANREDE_KZ                     0\n",
       "CJT_GESAMTTYP              4854\n",
       "FINANZ_MINIMALIST             0\n",
       "FINANZ_SPARER                 0\n",
       "FINANZ_VORSORGER              0\n",
       "FINANZ_ANLEGER                0\n",
       "FINANZ_UNAUFFAELLIGER         0\n",
       "FINANZ_HAUSBAUER              0\n",
       "FINANZTYP                     0\n",
       "GEBURTSJAHR              392318\n",
       "GFK_URLAUBERTYP            4854\n",
       "GREEN_AVANTGARDE              0\n",
       "HEALTH_TYP               111196\n",
       "LP_LEBENSPHASE_FEIN       97632\n",
       "LP_LEBENSPHASE_GROB       94572\n",
       "LP_FAMILIE_FEIN           77792\n",
       "LP_FAMILIE_GROB           77792\n",
       "LP_STATUS_FEIN             4854\n",
       "LP_STATUS_GROB             4854\n",
       "NATIONALITAET_KZ         108315\n",
       "PRAEGENDE_JUGENDJAHRE    108164\n",
       "RETOURTYP_BK_S             4854\n",
       "SEMIO_SOZ                     0\n",
       "SEMIO_FAM                     0\n",
       "SEMIO_REL                     0\n",
       "SEMIO_MAT                     0\n",
       "SEMIO_VERT                    0\n",
       "SEMIO_LUST                    0\n",
       "                          ...  \n",
       "OST_WEST_KZ               93148\n",
       "WOHNLAGE                  93148\n",
       "CAMEO_DEUG_2015           99352\n",
       "CAMEO_DEU_2015            99352\n",
       "CAMEO_INTL_2015           99352\n",
       "KBA05_ANTG1              133324\n",
       "KBA05_ANTG2              133324\n",
       "KBA05_ANTG3              133324\n",
       "KBA05_ANTG4              133324\n",
       "KBA05_BAUMAX             476524\n",
       "KBA05_GBZ                133324\n",
       "BALLRAUM                  93740\n",
       "EWDICHTE                  93740\n",
       "INNENSTADT                93740\n",
       "GEBAEUDETYP_RASTER        93155\n",
       "KKK                      158064\n",
       "MOBI_REGIO               133324\n",
       "ONLINE_AFFINITAET          4854\n",
       "REGIOTYP                 158064\n",
       "KBA13_ANZAHL_PKW         105800\n",
       "PLZ8_ANTG1               116515\n",
       "PLZ8_ANTG2               116515\n",
       "PLZ8_ANTG3               116515\n",
       "PLZ8_ANTG4               116515\n",
       "PLZ8_BAUMAX              116515\n",
       "PLZ8_HHZ                 116515\n",
       "PLZ8_GBZ                 116515\n",
       "ARBEIT                    97375\n",
       "ORTSGR_KLS9               97274\n",
       "RELAT_AB                  97375\n",
       "Length: 85, dtype: int64"
      ]
     },
     "execution_count": 104,
     "metadata": {},
     "output_type": "execute_result"
    }
   ],
   "source": [
    "# Perform an assessment of how much missing data there is in each column of the\n",
    "# dataset.\n",
    "null_col_count = azdias.isnull().sum()\n",
    "null_col_count"
   ]
  },
  {
   "cell_type": "code",
   "execution_count": 105,
   "metadata": {},
   "outputs": [
    {
     "data": {
      "text/plain": [
       "(85,)"
      ]
     },
     "execution_count": 105,
     "metadata": {},
     "output_type": "execute_result"
    }
   ],
   "source": [
    "null_col_count.shape"
   ]
  },
  {
   "cell_type": "code",
   "execution_count": 106,
   "metadata": {},
   "outputs": [
    {
     "data": {
      "text/plain": [
       "685843"
      ]
     },
     "execution_count": 106,
     "metadata": {},
     "output_type": "execute_result"
    }
   ],
   "source": [
    "# Investigate patterns in the amount of missing data in each column.\n",
    "\n",
    "null_col_count['AGER_TYP']"
   ]
  },
  {
   "cell_type": "code",
   "execution_count": 107,
   "metadata": {
    "scrolled": false
   },
   "outputs": [
    {
     "data": {
      "text/plain": [
       "(array([31.,  1.,  0.,  0.,  7., 19., 12.,  6.,  3.,  0.,  0.,  0.,  0.,\n",
       "         0.,  0.,  0.,  0.,  1.,  0.,  0.,  0.,  0.,  1.,  0.,  0.,  0.,\n",
       "         1.,  0.,  0.,  0.,  0.,  0.,  1.,  0.,  0.,  0.,  0.,  0.,  1.,\n",
       "         0.,  0.,  0.,  0.,  0.,  0.,  0.,  0.,  0.,  0.,  1.]),\n",
       " array([     0.  ,  17781.22,  35562.44,  53343.66,  71124.88,  88906.1 ,\n",
       "        106687.32, 124468.54, 142249.76, 160030.98, 177812.2 , 195593.42,\n",
       "        213374.64, 231155.86, 248937.08, 266718.3 , 284499.52, 302280.74,\n",
       "        320061.96, 337843.18, 355624.4 , 373405.62, 391186.84, 408968.06,\n",
       "        426749.28, 444530.5 , 462311.72, 480092.94, 497874.16, 515655.38,\n",
       "        533436.6 , 551217.82, 568999.04, 586780.26, 604561.48, 622342.7 ,\n",
       "        640123.92, 657905.14, 675686.36, 693467.58, 711248.8 , 729030.02,\n",
       "        746811.24, 764592.46, 782373.68, 800154.9 , 817936.12, 835717.34,\n",
       "        853498.56, 871279.78, 889061.  ]),\n",
       " <a list of 50 Patch objects>)"
      ]
     },
     "execution_count": 107,
     "metadata": {},
     "output_type": "execute_result"
    },
    {
     "data": {
      "image/png": "[encoded data removed]",
      "text/plain": [
       "<Figure size 432x288 with 1 Axes>"
      ]
     },
     "metadata": {},
     "output_type": "display_data"
    }
   ],
   "source": [
    "plt.hist(null_col_count,bins = 50)"
   ]
  },
  {
   "cell_type": "code",
   "execution_count": 108,
   "metadata": {},
   "outputs": [
    {
     "data": {
      "text/plain": [
       "(891221, 85)"
      ]
     },
     "execution_count": 108,
     "metadata": {},
     "output_type": "execute_result"
    }
   ],
   "source": [
    "azdias.shape"
   ]
  },
  {
   "cell_type": "code",
   "execution_count": 109,
   "metadata": {},
   "outputs": [],
   "source": [
    "# Remove the outlier columns from the dataset. (You'll perform other data\n",
    "# engineering task such as re-encoding and imputation later.)\n",
    "# RangeIndex: 891221 entries, 0 to 891220\n",
    "# Data columns (total 85 columns):\n",
    "max_number_of_nas_col = 200000\n"
   ]
  },
  {
   "cell_type": "code",
   "execution_count": 110,
   "metadata": {},
   "outputs": [],
   "source": [
    "nas_col_ratio = 200000/891220"
   ]
  },
  {
   "cell_type": "code",
   "execution_count": 111,
   "metadata": {
    "scrolled": true
   },
   "outputs": [
    {
     "data": {
      "text/plain": [
       "Index(['AGER_TYP', 'GEBURTSJAHR', 'TITEL_KZ', 'ALTER_HH', 'KK_KUNDENTYP',\n",
       "       'KBA05_BAUMAX'],\n",
       "      dtype='object')"
      ]
     },
     "execution_count": 111,
     "metadata": {},
     "output_type": "execute_result"
    }
   ],
   "source": [
    "azdias.loc[:, (null_col_count > max_number_of_nas_col)].columns"
   ]
  },
  {
   "cell_type": "code",
   "execution_count": 112,
   "metadata": {},
   "outputs": [
    {
     "data": {
      "text/plain": [
       "(891221, 79)"
      ]
     },
     "execution_count": 112,
     "metadata": {},
     "output_type": "execute_result"
    }
   ],
   "source": [
    "azdias = azdias.loc[:, (null_col_count <= max_number_of_nas_col)]\n",
    "azdias.shape"
   ]
  },
  {
   "cell_type": "markdown",
   "metadata": {},
   "source": [
    "#### Discussion 1.1.2: Assess Missing Data in Each Column\n",
    "\n",
    "(Double click this cell and replace this text with your own text, reporting your observations regarding the amount of missing data in each column. Are there any patterns in missing values? Which columns were removed from the dataset?)\n",
    "\n",
    "**Discuss:** Most of the columns has missing values less than 200,000 entries, so those (79 of 85) are kept.\n",
    "The columns ['AGER_TYP', 'GEBURTSJAHR', 'TITEL_KZ', 'ALTER_HH', 'KK_KUNDENTYP',\n",
    "       'KBA05_BAUMAX'] are removed."
   ]
  },
  {
   "cell_type": "markdown",
   "metadata": {},
   "source": [
    "#### Step 1.1.3: Assess Missing Data in Each Row\n",
    "\n",
    "Now, you'll perform a similar assessment for the rows of the dataset. How much data is missing in each row? As with the columns, you should see some groups of points that have a very different numbers of missing values. Divide the data into two subsets: one for data points that are above some threshold for missing values, and a second subset for points below that threshold.\n",
    "\n",
    "In order to know what to do with the outlier rows, we should see if the distribution of data values on columns that are not missing data (or are missing very little data) are similar or different between the two groups. Select at least five of these columns and compare the distribution of values.\n",
    "- You can use seaborn's [`countplot()`](https://seaborn.pydata.org/generated/seaborn.countplot.html) function to create a bar chart of code frequencies and matplotlib's [`subplot()`](https://matplotlib.org/api/_as_gen/matplotlib.pyplot.subplot.html) function to put bar charts for the two subplots side by side.\n",
    "- To reduce repeated code, you might want to write a function that can perform this comparison, taking as one of its arguments a column to be compared.\n",
    "\n",
    "Depending on what you observe in your comparison, this will have implications on how you approach your conclusions later in the analysis. If the distributions of non-missing features look similar between the data with many missing values and the data with few or no missing values, then we could argue that simply dropping those points from the analysis won't present a major issue. On the other hand, if the data with many missing values looks very different from the data with few or no missing values, then we should make a note on those data as special. We'll revisit these data later on. **Either way, you should continue your analysis for now using just the subset of the data with few or no missing values.**"
   ]
  },
  {
   "cell_type": "code",
   "execution_count": 113,
   "metadata": {},
   "outputs": [
    {
     "data": {
      "text/plain": [
       "(array([6.38947e+05, 4.55550e+04, 3.51220e+04, 2.74850e+04, 2.76340e+04,\n",
       "        6.53700e+03, 4.02100e+03, 6.98600e+03, 3.18200e+03, 1.60800e+03,\n",
       "        4.99000e+02, 2.61000e+02, 1.24000e+02, 8.30000e+01, 1.70000e+01,\n",
       "        9.00000e+00, 3.19100e+03, 1.47270e+04, 6.22000e+02, 4.98000e+02,\n",
       "        4.93000e+02, 2.73900e+04, 6.49000e+02, 4.55780e+04, 3.00000e+00]),\n",
       " array([ 0.  ,  1.96,  3.92,  5.88,  7.84,  9.8 , 11.76, 13.72, 15.68,\n",
       "        17.64, 19.6 , 21.56, 23.52, 25.48, 27.44, 29.4 , 31.36, 33.32,\n",
       "        35.28, 37.24, 39.2 , 41.16, 43.12, 45.08, 47.04, 49.  ]),\n",
       " <a list of 25 Patch objects>)"
      ]
     },
     "execution_count": 113,
     "metadata": {},
     "output_type": "execute_result"
    },
    {
     "data": {
      "image/png": "[encoded data removed]",
      "text/plain": [
       "<Figure size 432x288 with 1 Axes>"
      ]
     },
     "metadata": {},
     "output_type": "display_data"
    }
   ],
   "source": [
    "# How much data is missing in each row of the dataset?\n",
    "\n",
    "null_row_count = azdias.isnull().sum(axis=1)\n",
    "plt.hist(null_row_count, bins = 25)"
   ]
  },
  {
   "cell_type": "code",
   "execution_count": 114,
   "metadata": {},
   "outputs": [],
   "source": [
    "# Write code to divide the data into two subsets based on the number of missing\n",
    "# values in each row.\n",
    "max_number_of_nas_row = 20\n",
    "df1 = azdias.loc[(null_row_count <= max_number_of_nas_row),:]\n",
    "df2 = azdias.loc[(null_row_count > max_number_of_nas_row),:]"
   ]
  },
  {
   "cell_type": "code",
   "execution_count": 115,
   "metadata": {},
   "outputs": [],
   "source": [
    "nas_row_ratio = 20 / 85"
   ]
  },
  {
   "cell_type": "code",
   "execution_count": 116,
   "metadata": {
    "scrolled": true
   },
   "outputs": [
    {
     "data": {
      "image/png": "[encoded data removed]",
      "text/plain": [
       "<Figure size 432x288 with 2 Axes>"
      ]
     },
     "metadata": {},
     "output_type": "display_data"
    },
    {
     "data": {
      "image/png": "[encoded data removed]",
      "text/plain": [
       "<Figure size 432x288 with 2 Axes>"
      ]
     },
     "metadata": {},
     "output_type": "display_data"
    },
    {
     "data": {
      "image/png": "[encoded data removed]",
      "text/plain": [
       "<Figure size 432x288 with 2 Axes>"
      ]
     },
     "metadata": {},
     "output_type": "display_data"
    },
    {
     "data": {
      "image/png": "[encoded data removed]",
      "text/plain": [
       "<Figure size 432x288 with 2 Axes>"
      ]
     },
     "metadata": {},
     "output_type": "display_data"
    },
    {
     "data": {
      "image/png": "[encoded data removed]",
      "text/plain": [
       "<Figure size 432x288 with 2 Axes>"
      ]
     },
     "metadata": {},
     "output_type": "display_data"
    }
   ],
   "source": [
    "# Compare the distribution of values for at least five columns where there are\n",
    "# no or few missing values, between the two subsets.\n",
    "for i in random.sample(range(79), 5):\n",
    "    plt.figure()\n",
    "    plt.subplot(1,2,1)\n",
    "    sns.countplot(x = df1.columns[i], data = df1)\n",
    "    plt.title('less missing')\n",
    "    \n",
    "    plt.subplot(1,2,2)\n",
    "    sns.countplot(x = df2.columns[i], data = df2)\n",
    "    plt.title('more missing')\n",
    "    #plt.tight_layout"
   ]
  },
  {
   "cell_type": "code",
   "execution_count": 117,
   "metadata": {},
   "outputs": [
    {
     "data": {
      "text/plain": [
       "(797426, 79)"
      ]
     },
     "execution_count": 117,
     "metadata": {},
     "output_type": "execute_result"
    }
   ],
   "source": [
    "df1.shape"
   ]
  },
  {
   "cell_type": "code",
   "execution_count": 118,
   "metadata": {},
   "outputs": [],
   "source": [
    "df = df1\n",
    "#del df1, df2\n"
   ]
  },
  {
   "cell_type": "markdown",
   "metadata": {},
   "source": [
    "#### Discussion 1.1.3: Assess Missing Data in Each Row\n",
    "\n",
    "(Double-click this cell and replace this text with your own text, reporting your observations regarding missing data in rows. Are the data with lots of missing values are qualitatively different from data with few or no missing values?)\n",
    "\n",
    "**Discuss**\n",
    "The data with lots of missing values are somewhat different from data with few or no missing values. \n",
    "\n",
    "We should keep this in mind in later analysis since now we are using just the subset of the data with few or no missing values. \n"
   ]
  },
  {
   "cell_type": "markdown",
   "metadata": {},
   "source": [
    "### Step 1.2: Select and Re-Encode Features\n",
    "\n",
    "Checking for missing data isn't the only way in which you can prepare a dataset for analysis. Since the unsupervised learning techniques to be used will only work on data that is encoded numerically, you need to make a few encoding changes or additional assumptions to be able to make progress. In addition, while almost all of the values in the dataset are encoded using numbers, not all of them represent numeric values. Check the third column of the feature summary (`feat_info`) for a summary of types of measurement.\n",
    "- For numeric and interval data, these features can be kept without changes.\n",
    "- Most of the variables in the dataset are ordinal in nature. While ordinal values may technically be non-linear in spacing, make the simplifying assumption that the ordinal variables can be treated as being interval in nature (that is, kept without any changes).\n",
    "- Special handling may be necessary for the remaining two variable types: categorical, and 'mixed'.\n",
    "\n",
    "In the first two parts of this sub-step, you will perform an investigation of the categorical and mixed-type features and make a decision on each of them, whether you will keep, drop, or re-encode each. Then, in the last part, you will create a new data frame with only the selected and engineered columns.\n",
    "\n",
    "Data wrangling is often the trickiest part of the data analysis process, and there's a lot of it to be done here. But stick with it: once you're done with this step, you'll be ready to get to the machine learning parts of the project!"
   ]
  },
  {
   "cell_type": "code",
   "execution_count": 119,
   "metadata": {},
   "outputs": [
    {
     "data": {
      "text/plain": [
       "Int64Index([     1,      2,      3,      4,      5,      6,      7,      8,\n",
       "                 9,     10,\n",
       "            ...\n",
       "            891211, 891212, 891213, 891214, 891215, 891216, 891217, 891218,\n",
       "            891219, 891220],\n",
       "           dtype='int64', length=797426)"
      ]
     },
     "execution_count": 119,
     "metadata": {},
     "output_type": "execute_result"
    }
   ],
   "source": [
    "# How many features are there of each data type?\n",
    "df.index"
   ]
  },
  {
   "cell_type": "code",
   "execution_count": 120,
   "metadata": {
    "scrolled": false
   },
   "outputs": [
    {
     "data": {
      "text/html": [
       "<div>\n",
       "<style scoped>\n",
       "    .dataframe tbody tr th:only-of-type {\n",
       "        vertical-align: middle;\n",
       "    }\n",
       "\n",
       "    .dataframe tbody tr th {\n",
       "        vertical-align: top;\n",
       "    }\n",
       "\n",
       "    .dataframe thead th {\n",
       "        text-align: right;\n",
       "    }\n",
       "</style>\n",
       "<table border=\"1\" class=\"dataframe\">\n",
       "  <thead>\n",
       "    <tr style=\"text-align: right;\">\n",
       "      <th></th>\n",
       "      <th>attribute</th>\n",
       "      <th>information_level</th>\n",
       "      <th>type</th>\n",
       "      <th>missing_or_unknown</th>\n",
       "    </tr>\n",
       "  </thead>\n",
       "  <tbody>\n",
       "    <tr>\n",
       "      <th>0</th>\n",
       "      <td>AGER_TYP</td>\n",
       "      <td>person</td>\n",
       "      <td>categorical</td>\n",
       "      <td>[-1,0]</td>\n",
       "    </tr>\n",
       "    <tr>\n",
       "      <th>1</th>\n",
       "      <td>ALTERSKATEGORIE_GROB</td>\n",
       "      <td>person</td>\n",
       "      <td>ordinal</td>\n",
       "      <td>[-1,0,9]</td>\n",
       "    </tr>\n",
       "    <tr>\n",
       "      <th>2</th>\n",
       "      <td>ANREDE_KZ</td>\n",
       "      <td>person</td>\n",
       "      <td>categorical</td>\n",
       "      <td>[-1,0]</td>\n",
       "    </tr>\n",
       "    <tr>\n",
       "      <th>3</th>\n",
       "      <td>CJT_GESAMTTYP</td>\n",
       "      <td>person</td>\n",
       "      <td>categorical</td>\n",
       "      <td>[0]</td>\n",
       "    </tr>\n",
       "    <tr>\n",
       "      <th>4</th>\n",
       "      <td>FINANZ_MINIMALIST</td>\n",
       "      <td>person</td>\n",
       "      <td>ordinal</td>\n",
       "      <td>[-1]</td>\n",
       "    </tr>\n",
       "  </tbody>\n",
       "</table>\n",
       "</div>"
      ],
      "text/plain": [
       "              attribute information_level         type missing_or_unknown\n",
       "0              AGER_TYP            person  categorical             [-1,0]\n",
       "1  ALTERSKATEGORIE_GROB            person      ordinal           [-1,0,9]\n",
       "2             ANREDE_KZ            person  categorical             [-1,0]\n",
       "3         CJT_GESAMTTYP            person  categorical                [0]\n",
       "4     FINANZ_MINIMALIST            person      ordinal               [-1]"
      ]
     },
     "execution_count": 120,
     "metadata": {},
     "output_type": "execute_result"
    }
   ],
   "source": [
    "feat_info.head()"
   ]
  },
  {
   "cell_type": "code",
   "execution_count": 121,
   "metadata": {},
   "outputs": [
    {
     "data": {
      "text/html": [
       "<div>\n",
       "<style scoped>\n",
       "    .dataframe tbody tr th:only-of-type {\n",
       "        vertical-align: middle;\n",
       "    }\n",
       "\n",
       "    .dataframe tbody tr th {\n",
       "        vertical-align: top;\n",
       "    }\n",
       "\n",
       "    .dataframe thead th {\n",
       "        text-align: right;\n",
       "    }\n",
       "</style>\n",
       "<table border=\"1\" class=\"dataframe\">\n",
       "  <thead>\n",
       "    <tr style=\"text-align: right;\">\n",
       "      <th></th>\n",
       "      <th>attribute</th>\n",
       "      <th>information_level</th>\n",
       "      <th>missing_or_unknown</th>\n",
       "    </tr>\n",
       "    <tr>\n",
       "      <th>type</th>\n",
       "      <th></th>\n",
       "      <th></th>\n",
       "      <th></th>\n",
       "    </tr>\n",
       "  </thead>\n",
       "  <tbody>\n",
       "    <tr>\n",
       "      <th>categorical</th>\n",
       "      <td>18</td>\n",
       "      <td>18</td>\n",
       "      <td>18</td>\n",
       "    </tr>\n",
       "    <tr>\n",
       "      <th>mixed</th>\n",
       "      <td>6</td>\n",
       "      <td>6</td>\n",
       "      <td>6</td>\n",
       "    </tr>\n",
       "    <tr>\n",
       "      <th>numeric</th>\n",
       "      <td>6</td>\n",
       "      <td>6</td>\n",
       "      <td>6</td>\n",
       "    </tr>\n",
       "    <tr>\n",
       "      <th>ordinal</th>\n",
       "      <td>49</td>\n",
       "      <td>49</td>\n",
       "      <td>49</td>\n",
       "    </tr>\n",
       "  </tbody>\n",
       "</table>\n",
       "</div>"
      ],
      "text/plain": [
       "             attribute  information_level  missing_or_unknown\n",
       "type                                                         \n",
       "categorical         18                 18                  18\n",
       "mixed                6                  6                   6\n",
       "numeric              6                  6                   6\n",
       "ordinal             49                 49                  49"
      ]
     },
     "execution_count": 121,
     "metadata": {},
     "output_type": "execute_result"
    }
   ],
   "source": [
    "feat_info.loc[feat_info.attribute.isin(df.columns)].groupby('type').count()"
   ]
  },
  {
   "cell_type": "markdown",
   "metadata": {},
   "source": [
    "#### Step 1.2.1: Re-Encode Categorical Features\n",
    "\n",
    "For categorical data, you would ordinarily need to encode the levels as dummy variables. Depending on the number of categories, perform one of the following:\n",
    "- For binary (two-level) categoricals that take numeric values, you can keep them without needing to do anything.\n",
    "- There is one binary variable that takes on non-numeric values. For this one, you need to re-encode the values as numbers or create a dummy variable.\n",
    "- For multi-level categoricals (three or more values), you can choose to encode the values using multiple dummy variables (e.g. via [OneHotEncoder](http://scikit-learn.org/stable/modules/generated/sklearn.preprocessing.OneHotEncoder.html)), or (to keep things straightforward) just drop them from the analysis. As always, document your choices in the Discussion section."
   ]
  },
  {
   "cell_type": "markdown",
   "metadata": {},
   "source": [
    "OneHotEncoder cannot process string values directly. If your nominal features are strings, then you need to first map them into integers.\n",
    "\n",
    "pandas.get_dummies is kind of the opposite. By default, it only converts string columns into one-hot representation, unless columns are specified."
   ]
  },
  {
   "cell_type": "code",
   "execution_count": 122,
   "metadata": {},
   "outputs": [
    {
     "data": {
      "text/plain": [
       "array(['ANREDE_KZ', 'CJT_GESAMTTYP', 'FINANZTYP', 'GFK_URLAUBERTYP',\n",
       "       'GREEN_AVANTGARDE', 'LP_FAMILIE_FEIN', 'LP_FAMILIE_GROB',\n",
       "       'LP_STATUS_FEIN', 'LP_STATUS_GROB', 'NATIONALITAET_KZ',\n",
       "       'SHOPPER_TYP', 'SOHO_KZ', 'VERS_TYP', 'ZABEOTYP', 'GEBAEUDETYP',\n",
       "       'OST_WEST_KZ', 'CAMEO_DEUG_2015', 'CAMEO_DEU_2015'], dtype=object)"
      ]
     },
     "execution_count": 122,
     "metadata": {},
     "output_type": "execute_result"
    }
   ],
   "source": [
    "# Assess categorical variables: which are binary, which are multi-level, and\n",
    "# which one needs to be re-encoded?\n",
    "categ = feat_info.loc[feat_info.attribute.isin(df.columns) & (feat_info.type == 'categorical')].attribute.values\n",
    "categ"
   ]
  },
  {
   "cell_type": "code",
   "execution_count": 123,
   "metadata": {},
   "outputs": [
    {
     "data": {
      "text/plain": [
       "18"
      ]
     },
     "execution_count": 123,
     "metadata": {},
     "output_type": "execute_result"
    }
   ],
   "source": [
    "len(categ)"
   ]
  },
  {
   "cell_type": "code",
   "execution_count": 124,
   "metadata": {
    "scrolled": false
   },
   "outputs": [
    {
     "name": "stdout",
     "output_type": "stream",
     "text": [
      "<class 'pandas.core.frame.DataFrame'>\n",
      "Int64Index: 797426 entries, 1 to 891220\n",
      "Data columns (total 18 columns):\n",
      "ANREDE_KZ           797426 non-null int64\n",
      "CJT_GESAMTTYP       792792 non-null float64\n",
      "FINANZTYP           797426 non-null int64\n",
      "GFK_URLAUBERTYP     792792 non-null float64\n",
      "GREEN_AVANTGARDE    797426 non-null int64\n",
      "LP_FAMILIE_FEIN     766305 non-null float64\n",
      "LP_FAMILIE_GROB     766305 non-null float64\n",
      "LP_STATUS_FEIN      792792 non-null float64\n",
      "LP_STATUS_GROB      792792 non-null float64\n",
      "NATIONALITAET_KZ    763793 non-null float64\n",
      "SHOPPER_TYP         761009 non-null float64\n",
      "SOHO_KZ             797426 non-null float64\n",
      "VERS_TYP            761009 non-null float64\n",
      "ZABEOTYP            797426 non-null int64\n",
      "GEBAEUDETYP         797426 non-null float64\n",
      "OST_WEST_KZ         797426 non-null object\n",
      "CAMEO_DEUG_2015     791423 non-null object\n",
      "CAMEO_DEU_2015      791423 non-null object\n",
      "dtypes: float64(11), int64(4), object(3)\n",
      "memory usage: 135.6+ MB\n"
     ]
    }
   ],
   "source": [
    "df.loc[:,categ].info()"
   ]
  },
  {
   "cell_type": "code",
   "execution_count": 125,
   "metadata": {
    "scrolled": false
   },
   "outputs": [
    {
     "data": {
      "text/html": [
       "<div>\n",
       "<style scoped>\n",
       "    .dataframe tbody tr th:only-of-type {\n",
       "        vertical-align: middle;\n",
       "    }\n",
       "\n",
       "    .dataframe tbody tr th {\n",
       "        vertical-align: top;\n",
       "    }\n",
       "\n",
       "    .dataframe thead th {\n",
       "        text-align: right;\n",
       "    }\n",
       "</style>\n",
       "<table border=\"1\" class=\"dataframe\">\n",
       "  <thead>\n",
       "    <tr style=\"text-align: right;\">\n",
       "      <th></th>\n",
       "      <th>OST_WEST_KZ</th>\n",
       "      <th>CAMEO_DEUG_2015</th>\n",
       "      <th>CAMEO_DEU_2015</th>\n",
       "    </tr>\n",
       "  </thead>\n",
       "  <tbody>\n",
       "    <tr>\n",
       "      <th>count</th>\n",
       "      <td>797426</td>\n",
       "      <td>791423</td>\n",
       "      <td>791423</td>\n",
       "    </tr>\n",
       "    <tr>\n",
       "      <th>unique</th>\n",
       "      <td>2</td>\n",
       "      <td>9</td>\n",
       "      <td>44</td>\n",
       "    </tr>\n",
       "    <tr>\n",
       "      <th>top</th>\n",
       "      <td>W</td>\n",
       "      <td>8</td>\n",
       "      <td>6B</td>\n",
       "    </tr>\n",
       "    <tr>\n",
       "      <th>freq</th>\n",
       "      <td>628987</td>\n",
       "      <td>134408</td>\n",
       "      <td>56653</td>\n",
       "    </tr>\n",
       "  </tbody>\n",
       "</table>\n",
       "</div>"
      ],
      "text/plain": [
       "       OST_WEST_KZ CAMEO_DEUG_2015 CAMEO_DEU_2015\n",
       "count       797426          791423         791423\n",
       "unique           2               9             44\n",
       "top              W               8             6B\n",
       "freq        628987          134408          56653"
      ]
     },
     "execution_count": 125,
     "metadata": {},
     "output_type": "execute_result"
    }
   ],
   "source": [
    "df.loc[:,['OST_WEST_KZ', 'CAMEO_DEUG_2015', 'CAMEO_DEU_2015']].describe()"
   ]
  },
  {
   "cell_type": "code",
   "execution_count": 126,
   "metadata": {},
   "outputs": [],
   "source": [
    "# #X_3 = np.reshape(df['CAMEO_DEUG_2015'],(-1,1))\n",
    "\n",
    "# # one hot encoder (doesn' work for col including Nans...)\n",
    "# enc = preprocessing.OneHotEncoder()\n",
    "# imputer = preprocessing.Imputer\n",
    "# #enc.n_values_\n",
    "# onehotlabels = enc.fit_transform(X_3).toarray()\n",
    "# onehotlabels.shape"
   ]
  },
  {
   "cell_type": "markdown",
   "metadata": {},
   "source": [
    "## find multi-categorical features, and drop them."
   ]
  },
  {
   "cell_type": "code",
   "execution_count": 127,
   "metadata": {
    "scrolled": false
   },
   "outputs": [
    {
     "data": {
      "text/plain": [
       "array([[<matplotlib.axes._subplots.AxesSubplot object at 0x11f7c9b00>,\n",
       "        <matplotlib.axes._subplots.AxesSubplot object at 0x11f5a80f0>,\n",
       "        <matplotlib.axes._subplots.AxesSubplot object at 0x11f5d1400>,\n",
       "        <matplotlib.axes._subplots.AxesSubplot object at 0x11f65e710>],\n",
       "       [<matplotlib.axes._subplots.AxesSubplot object at 0x11fc98a20>,\n",
       "        <matplotlib.axes._subplots.AxesSubplot object at 0x11fc98a58>,\n",
       "        <matplotlib.axes._subplots.AxesSubplot object at 0x11fcf4080>,\n",
       "        <matplotlib.axes._subplots.AxesSubplot object at 0x11ffcd390>],\n",
       "       [<matplotlib.axes._subplots.AxesSubplot object at 0x11bd25a58>,\n",
       "        <matplotlib.axes._subplots.AxesSubplot object at 0x11fb954a8>,\n",
       "        <matplotlib.axes._subplots.AxesSubplot object at 0x11fb9f358>,\n",
       "        <matplotlib.axes._subplots.AxesSubplot object at 0x11fbae470>],\n",
       "       [<matplotlib.axes._subplots.AxesSubplot object at 0x11f7c1278>,\n",
       "        <matplotlib.axes._subplots.AxesSubplot object at 0x11f544cc0>,\n",
       "        <matplotlib.axes._subplots.AxesSubplot object at 0x11fc79da0>,\n",
       "        <matplotlib.axes._subplots.AxesSubplot object at 0x1201b20f0>]],\n",
       "      dtype=object)"
      ]
     },
     "execution_count": 127,
     "metadata": {},
     "output_type": "execute_result"
    },
    {
     "data": {
      "image/png": "[encoded data removed]",
      "text/plain": [
       "<Figure size 1440x720 with 16 Axes>"
      ]
     },
     "metadata": {},
     "output_type": "display_data"
    }
   ],
   "source": [
    "df.loc[:,categ].hist(figsize = (20,10))"
   ]
  },
  {
   "cell_type": "code",
   "execution_count": 128,
   "metadata": {},
   "outputs": [],
   "source": [
    "categ_mul = []\n",
    "for col in categ:\n",
    "    if len(df.loc[:,col].value_counts()) > 2:\n",
    "        categ_mul.append(col)"
   ]
  },
  {
   "cell_type": "code",
   "execution_count": 129,
   "metadata": {
    "scrolled": false
   },
   "outputs": [
    {
     "data": {
      "text/plain": [
       "['CJT_GESAMTTYP',\n",
       " 'FINANZTYP',\n",
       " 'GFK_URLAUBERTYP',\n",
       " 'LP_FAMILIE_FEIN',\n",
       " 'LP_FAMILIE_GROB',\n",
       " 'LP_STATUS_FEIN',\n",
       " 'LP_STATUS_GROB',\n",
       " 'NATIONALITAET_KZ',\n",
       " 'SHOPPER_TYP',\n",
       " 'ZABEOTYP',\n",
       " 'GEBAEUDETYP',\n",
       " 'CAMEO_DEUG_2015',\n",
       " 'CAMEO_DEU_2015']"
      ]
     },
     "execution_count": 129,
     "metadata": {},
     "output_type": "execute_result"
    }
   ],
   "source": [
    "categ_mul"
   ]
  },
  {
   "cell_type": "code",
   "execution_count": 130,
   "metadata": {},
   "outputs": [
    {
     "name": "stderr",
     "output_type": "stream",
     "text": [
      "/usr/local/lib/python3.6/site-packages/pandas/core/frame.py:3697: SettingWithCopyWarning: \n",
      "A value is trying to be set on a copy of a slice from a DataFrame\n",
      "\n",
      "See the caveats in the documentation: http://pandas.pydata.org/pandas-docs/stable/indexing.html#indexing-view-versus-copy\n",
      "  errors=errors)\n"
     ]
    }
   ],
   "source": [
    "df.drop(categ_mul, axis = 1, inplace = True)"
   ]
  },
  {
   "cell_type": "code",
   "execution_count": 131,
   "metadata": {},
   "outputs": [
    {
     "data": {
      "text/plain": [
       "(797426, 66)"
      ]
     },
     "execution_count": 131,
     "metadata": {},
     "output_type": "execute_result"
    }
   ],
   "source": [
    "df.shape"
   ]
  },
  {
   "cell_type": "code",
   "execution_count": 132,
   "metadata": {},
   "outputs": [],
   "source": [
    "# Re-encode categorical variable(s) to be kept in the analysis.\n"
   ]
  },
  {
   "cell_type": "code",
   "execution_count": 133,
   "metadata": {},
   "outputs": [],
   "source": [
    "df['OST_WEST_KZ'].value_counts()\n",
    "\n",
    "#pd.get_dummies(df['OST_WEST_KZ'])\n",
    "\n",
    "df = pd.concat([df.drop('OST_WEST_KZ', axis=1), pd.get_dummies(df['OST_WEST_KZ'])], axis=1)"
   ]
  },
  {
   "cell_type": "markdown",
   "metadata": {},
   "source": [
    "#### Discussion 1.2.1: Re-Encode Categorical Features\n",
    "\n",
    "(Double-click this cell and replace this text with your own text, reporting your findings and decisions regarding categorical features. Which ones did you keep, which did you drop, and what engineering steps did you perform?)\n",
    "\n",
    "**Discuss**\n",
    "I kept the binary ones, and dropped the multi-categorical ones.\n",
    "\n",
    "For the no-numerical binary column, I encoded it to dummy variables.\n",
    "\n",
    "For multi-categorical variables, if we one-hot-encoder them, they will generate a large amount of columns which would slow down the data analysis process. \n",
    "\n",
    "Another reason to drop them is that some of the multi-categorical columns have redundant information that is already included in other non-multi-categorical columns, e.g., information of FINANZTYP is distributed to other FINANZ related columns; family and status information in LP set is also already included in wealth, age variables; housing information in GEBAEUDETYP is also somewhat presented in KBA05 set. "
   ]
  },
  {
   "cell_type": "markdown",
   "metadata": {},
   "source": [
    "#### Step 1.2.2: Engineer Mixed-Type Features\n",
    "\n",
    "There are a handful of features that are marked as \"mixed\" in the feature summary that require special treatment in order to be included in the analysis. There are two in particular that deserve attention; the handling of the rest are up to your own choices:\n",
    "- \"PRAEGENDE_JUGENDJAHRE\" combines information on three dimensions: generation by decade, movement (mainstream vs. avantgarde), and nation (east vs. west). While there aren't enough levels to disentangle east from west, you should create two new variables to capture the other two dimensions: an interval-type variable for decade, and a binary variable for movement.\n",
    "- \"CAMEO_INTL_2015\" combines information on two axes: wealth and life stage. Break up the two-digit codes by their 'tens'-place and 'ones'-place digits into two new ordinal variables (which, for the purposes of this project, is equivalent to just treating them as their raw numeric values).\n",
    "- If you decide to keep or engineer new features around the other mixed-type features, make sure you note your steps in the Discussion section.\n",
    "\n",
    "Be sure to check `Data_Dictionary.md` for the details needed to finish these tasks."
   ]
  },
  {
   "cell_type": "code",
   "execution_count": 134,
   "metadata": {},
   "outputs": [
    {
     "data": {
      "text/plain": [
       "array(['LP_LEBENSPHASE_FEIN', 'LP_LEBENSPHASE_GROB',\n",
       "       'PRAEGENDE_JUGENDJAHRE', 'WOHNLAGE', 'CAMEO_INTL_2015',\n",
       "       'PLZ8_BAUMAX'], dtype=object)"
      ]
     },
     "execution_count": 134,
     "metadata": {},
     "output_type": "execute_result"
    }
   ],
   "source": [
    "mix = feat_info.loc[feat_info.attribute.isin(df.columns) & (feat_info.type == 'mixed')].attribute.values\n",
    "\n",
    "mix"
   ]
  },
  {
   "cell_type": "code",
   "execution_count": 135,
   "metadata": {},
   "outputs": [
    {
     "name": "stdout",
     "output_type": "stream",
     "text": [
      "<class 'pandas.core.frame.DataFrame'>\n",
      "Int64Index: 797426 entries, 1 to 891220\n",
      "Data columns (total 6 columns):\n",
      "LP_LEBENSPHASE_FEIN      747775 non-null float64\n",
      "LP_LEBENSPHASE_GROB      750596 non-null float64\n",
      "PRAEGENDE_JUGENDJAHRE    768968 non-null float64\n",
      "WOHNLAGE                 797426 non-null float64\n",
      "CAMEO_INTL_2015          791423 non-null object\n",
      "PLZ8_BAUMAX              774697 non-null float64\n",
      "dtypes: float64(5), object(1)\n",
      "memory usage: 62.6+ MB\n"
     ]
    }
   ],
   "source": [
    "df.loc[:,mix].info()"
   ]
  },
  {
   "cell_type": "code",
   "execution_count": 136,
   "metadata": {},
   "outputs": [],
   "source": [
    "# for col in mix:\n",
    "#     print(df.loc[:,col].value_counts())"
   ]
  },
  {
   "cell_type": "code",
   "execution_count": null,
   "metadata": {},
   "outputs": [],
   "source": []
  },
  {
   "cell_type": "markdown",
   "metadata": {},
   "source": [
    "### Investigate \"PRAEGENDE_JUGENDJAHRE\" and engineer two new variables.\n",
    "'''### 1.18. PRAEGENDE_JUGENDJAHRE\n",
    "Dominating movement of person's youth (avantgarde vs. mainstream; east vs. west)\n",
    "- -1: unknown\n",
    "-  0: unknown\n",
    "-  1: 40s - war years (Mainstream, E+W)\n",
    "-  2: 40s - reconstruction years (Avantgarde, E+W)\n",
    "-  3: 50s - economic miracle (Mainstream, E+W)\n",
    "-  4: 50s - milk bar / Individualisation (Avantgarde, E+W)\n",
    "-  5: 60s - economic miracle (Mainstream, E+W)\n",
    "-  6: 60s - generation 68 / student protestors (Avantgarde, W)\n",
    "-  7: 60s - opponents to the building of the Wall (Avantgarde, E)\n",
    "-  8: 70s - family orientation (Mainstream, E+W)\n",
    "-  9: 70s - peace movement (Avantgarde, E+W)\n",
    "- 10: 80s - Generation Golf (Mainstream, W)\n",
    "- 11: 80s - ecological awareness (Avantgarde, W)\n",
    "- 12: 80s - FDJ / communist party youth organisation (Mainstream, E)\n",
    "- 13: 80s - Swords into ploughshares (Avantgarde, E)\n",
    "- 14: 90s - digital media kids (Mainstream, E+W)\n",
    "- 15: 90s - ecological awareness (Avantgarde, E+W)\n",
    "\n",
    " \"PRAEGENDE_JUGENDJAHRE\" combines information on three dimensions: generation by decade, \n",
    " movement (mainstream vs. avantgarde), and nation (east vs. west). \n",
    " While there aren't enough levels to disentangle east from west, \n",
    " you should create two new variables to capture the other two dimensions:\n",
    " an interval-type variable for decade, and a binary variable for movement.\n",
    " '''"
   ]
  },
  {
   "cell_type": "code",
   "execution_count": 137,
   "metadata": {},
   "outputs": [
    {
     "data": {
      "text/plain": [
       "dtype('float64')"
      ]
     },
     "execution_count": 137,
     "metadata": {},
     "output_type": "execute_result"
    }
   ],
   "source": [
    "df['PRAEGENDE_JUGENDJAHRE'].dtype"
   ]
  },
  {
   "cell_type": "code",
   "execution_count": 138,
   "metadata": {},
   "outputs": [
    {
     "data": {
      "text/plain": [
       "pandas.core.series.Series"
      ]
     },
     "execution_count": 138,
     "metadata": {},
     "output_type": "execute_result"
    }
   ],
   "source": [
    "type(df['PRAEGENDE_JUGENDJAHRE'])"
   ]
  },
  {
   "cell_type": "code",
   "execution_count": 139,
   "metadata": {},
   "outputs": [],
   "source": [
    "cond1 = df['PRAEGENDE_JUGENDJAHRE'].isin([1,2])\n",
    "cond2 =  df['PRAEGENDE_JUGENDJAHRE'].isin([3,4])\n",
    "cond3 = df['PRAEGENDE_JUGENDJAHRE'].isin([5,6,7])\n",
    "cond4 = df['PRAEGENDE_JUGENDJAHRE'].isin([8,9])\n",
    "cond5 = df['PRAEGENDE_JUGENDJAHRE'].isin([10,11,12,13])\n",
    "cond6 = df['PRAEGENDE_JUGENDJAHRE'].isin([14,15])\n",
    "\n",
    "df['decade'] = np.select( [cond1, cond2, cond3, cond4, cond5, cond6], [40,50,60,70,80,90], default = None)\n",
    "\n",
    "cond7 = (df['PRAEGENDE_JUGENDJAHRE']==9)\n",
    "cond8 = df['PRAEGENDE_JUGENDJAHRE'].notna() & (df['PRAEGENDE_JUGENDJAHRE'] != 9)\n",
    "df['movement'] = np.select([cond7, cond8], [1,0], default = None)"
   ]
  },
  {
   "cell_type": "markdown",
   "metadata": {},
   "source": [
    "# Investigate \"CAMEO_INTL_2015\" and engineer two new variables.\n",
    "'''### 4.3. CAMEO_INTL_2015\n",
    "German CAMEO: Wealth / Life Stage Typology, mapped to international code\n",
    "- -1: unknown\n",
    "- 11: Wealthy Households - Pre-Family Couples & Singles\n",
    "- 12: Wealthy Households - Young Couples With Children\n",
    "- 13: Wealthy Households - Families With School Age Children\n",
    "- 14: Wealthy Households - Older Families &  Mature Couples\n",
    "- 15: Wealthy Households - Elders In Retirement\n",
    "- 21: Prosperous Households - Pre-Family Couples & Singles\n",
    "- 22: Prosperous Households - Young Couples With Children\n",
    "- 23: Prosperous Households - Families With School Age Children\n",
    "- 24: Prosperous Households - Older Families & Mature Couples\n",
    "- 25: Prosperous Households - Elders In Retirement\n",
    "- 31: Comfortable Households - Pre-Family Couples & Singles\n",
    "- 32: Comfortable Households - Young Couples With Children\n",
    "- 33: Comfortable Households - Families With School Age Children\n",
    "- 34: Comfortable Households - Older Families & Mature Couples\n",
    "- 35: Comfortable Households - Elders In Retirement\n",
    "- 41: Less Affluent Households - Pre-Family Couples & Singles\n",
    "- 42: Less Affluent Households - Young Couples With Children\n",
    "- 43: Less Affluent Households - Families With School Age Children\n",
    "- 44: Less Affluent Households - Older Families & Mature Couples\n",
    "- 45: Less Affluent Households - Elders In Retirement\n",
    "- 51: Poorer Households - Pre-Family Couples & Singles\n",
    "- 52: Poorer Households - Young Couples With Children\n",
    "- 53: Poorer Households - Families With School Age Children\n",
    "- 54: Poorer Households - Older Families & Mature Couples\n",
    "- 55: Poorer Households - Elders In Retirement\n",
    "- XX: unknown\n",
    "'''\n",
    "'''\"CAMEO_INTL_2015\" combines information on two axes: wealth and life stage. \n",
    "Break up the two-digit codes by their 'tens'-place and 'ones'-place digits into two new ordinal variables \n",
    "(which, for the purposes of this project, is equivalent to just treating them as their raw numeric values).\n",
    "'''"
   ]
  },
  {
   "cell_type": "code",
   "execution_count": 140,
   "metadata": {},
   "outputs": [],
   "source": [
    "df['CAMEO_INTL_2015'] = df['CAMEO_INTL_2015'].astype('float')"
   ]
  },
  {
   "cell_type": "code",
   "execution_count": 141,
   "metadata": {},
   "outputs": [],
   "source": [
    "cond1 = df['CAMEO_INTL_2015'].isin(range(11,16))\n",
    "cond2 = df['CAMEO_INTL_2015'].isin(range(21,26))\n",
    "cond3 = df['CAMEO_INTL_2015'].isin(range(31,36))\n",
    "cond4 = df['CAMEO_INTL_2015'].isin(range(41,46))\n",
    "cond5 = df['CAMEO_INTL_2015'].isin(range(51,56))\n",
    "\n",
    "# wealth_level = ['Wealthy Households','Prosperous Households','Comfortable Households','Less Affluent Households',\\\n",
    "#                 'Poorer Households']\n",
    "df['wealth'] = np.select([cond1, cond2, cond3, cond4, cond5], [1,2,3,4,5], default = None)\n",
    "\n",
    "cond1 = df['CAMEO_INTL_2015'].isin(range(11,61,10))\n",
    "cond2 = df['CAMEO_INTL_2015'].isin(range(12,62,10))\n",
    "cond3 = df['CAMEO_INTL_2015'].isin(range(13,63,10))\n",
    "cond4 = df['CAMEO_INTL_2015'].isin(range(14,64,10))\n",
    "cond5 = df['CAMEO_INTL_2015'].isin(range(15,65,10))\n",
    "\n",
    "# life_stage_level = ['Pre-Family Couples & Singles','Young Couples With Children','Families With School Age Children',\\\n",
    "#                     'Older Families & Mature Couples', 'Elders In Retirement']\n",
    "df['life_stage'] = np.select([cond1, cond2, cond3, cond4, cond5], [1,2,3,4,5], default = None)\n"
   ]
  },
  {
   "cell_type": "code",
   "execution_count": 142,
   "metadata": {},
   "outputs": [],
   "source": [
    "df.drop(mix,axis=1, inplace = True)"
   ]
  },
  {
   "cell_type": "code",
   "execution_count": 143,
   "metadata": {},
   "outputs": [],
   "source": [
    "df[['O','W','decade','movement','wealth','life_stage']] = df[['O','W','decade','movement','wealth','life_stage']].astype(float)"
   ]
  },
  {
   "cell_type": "code",
   "execution_count": 144,
   "metadata": {
    "scrolled": false
   },
   "outputs": [
    {
     "name": "stdout",
     "output_type": "stream",
     "text": [
      "<class 'pandas.core.frame.DataFrame'>\n",
      "Int64Index: 797426 entries, 1 to 891220\n",
      "Data columns (total 65 columns):\n",
      "ALTERSKATEGORIE_GROB     794642 non-null float64\n",
      "ANREDE_KZ                797426 non-null int64\n",
      "FINANZ_MINIMALIST        797426 non-null int64\n",
      "FINANZ_SPARER            797426 non-null int64\n",
      "FINANZ_VORSORGER         797426 non-null int64\n",
      "FINANZ_ANLEGER           797426 non-null int64\n",
      "FINANZ_UNAUFFAELLIGER    797426 non-null int64\n",
      "FINANZ_HAUSBAUER         797426 non-null int64\n",
      "GREEN_AVANTGARDE         797426 non-null int64\n",
      "HEALTH_TYP               761009 non-null float64\n",
      "RETOURTYP_BK_S           792792 non-null float64\n",
      "SEMIO_SOZ                797426 non-null int64\n",
      "SEMIO_FAM                797426 non-null int64\n",
      "SEMIO_REL                797426 non-null int64\n",
      "SEMIO_MAT                797426 non-null int64\n",
      "SEMIO_VERT               797426 non-null int64\n",
      "SEMIO_LUST               797426 non-null int64\n",
      "SEMIO_ERL                797426 non-null int64\n",
      "SEMIO_KULT               797426 non-null int64\n",
      "SEMIO_RAT                797426 non-null int64\n",
      "SEMIO_KRIT               797426 non-null int64\n",
      "SEMIO_DOM                797426 non-null int64\n",
      "SEMIO_KAEM               797426 non-null int64\n",
      "SEMIO_PFLICHT            797426 non-null int64\n",
      "SEMIO_TRADV              797426 non-null int64\n",
      "SOHO_KZ                  797426 non-null float64\n",
      "VERS_TYP                 761009 non-null float64\n",
      "ANZ_PERSONEN             797426 non-null float64\n",
      "ANZ_TITEL                797426 non-null float64\n",
      "HH_EINKOMMEN_SCORE       797426 non-null float64\n",
      "W_KEIT_KIND_HH           738526 non-null float64\n",
      "WOHNDAUER_2008           797426 non-null float64\n",
      "ANZ_HAUSHALTE_AKTIV      791096 non-null float64\n",
      "ANZ_HH_TITEL             793698 non-null float64\n",
      "KONSUMNAEHE              797358 non-null float64\n",
      "MIN_GEBAEUDEJAHR         797426 non-null float64\n",
      "KBA05_ANTG1              757890 non-null float64\n",
      "KBA05_ANTG2              757890 non-null float64\n",
      "KBA05_ANTG3              757890 non-null float64\n",
      "KBA05_ANTG4              757890 non-null float64\n",
      "KBA05_GBZ                757890 non-null float64\n",
      "BALLRAUM                 796835 non-null float64\n",
      "EWDICHTE                 796835 non-null float64\n",
      "INNENSTADT               796835 non-null float64\n",
      "GEBAEUDETYP_RASTER       797421 non-null float64\n",
      "KKK                      732993 non-null float64\n",
      "MOBI_REGIO               757890 non-null float64\n",
      "ONLINE_AFFINITAET        792792 non-null float64\n",
      "REGIOTYP                 732993 non-null float64\n",
      "KBA13_ANZAHL_PKW         785169 non-null float64\n",
      "PLZ8_ANTG1               774697 non-null float64\n",
      "PLZ8_ANTG2               774697 non-null float64\n",
      "PLZ8_ANTG3               774697 non-null float64\n",
      "PLZ8_ANTG4               774697 non-null float64\n",
      "PLZ8_HHZ                 774697 non-null float64\n",
      "PLZ8_GBZ                 774697 non-null float64\n",
      "ARBEIT                   793208 non-null float64\n",
      "ORTSGR_KLS9              793308 non-null float64\n",
      "RELAT_AB                 793208 non-null float64\n",
      "O                        797426 non-null float64\n",
      "W                        797426 non-null float64\n",
      "decade                   768968 non-null float64\n",
      "movement                 768968 non-null float64\n",
      "wealth                   791423 non-null float64\n",
      "life_stage               791423 non-null float64\n",
      "dtypes: float64(43), int64(22)\n",
      "memory usage: 421.5 MB\n"
     ]
    }
   ],
   "source": [
    "df.info()"
   ]
  },
  {
   "cell_type": "markdown",
   "metadata": {},
   "source": [
    "#### Discussion 1.2.2: Engineer Mixed-Type Features\n",
    "\n",
    "(Double-click this cell and replace this text with your own text, reporting your findings and decisions regarding mixed-value features. Which ones did you keep, which did you drop, and what engineering steps did you perform?)\n",
    "\n",
    "**Discuss**\n",
    "I engineered PRAEGENDE_JUGENDJAHRE  and CAMEO_INTL_2015 as instructed, and dropped the other mixed type data.\n",
    "\n",
    "The reason that I drop them is that  they have redundent information that are already somewhat presented in other variables. For instance:\n",
    "LP_LEBENSPHASE_FEIN, LP_LEBENSPHASE_GROB are about life-stage which are already included in the life-stage variable that I just split from CAMEO_INTL_2015.\n",
    "\n",
    "WOHNLAGE is about neighborhood quality or rural flag which is also already appears in variables in EWDICHTE, KBA05 and PLZ8 sets.\n",
    "\n",
    "PLZ8_BAUMAX  is also about information that is included in KBA05 set.\n"
   ]
  },
  {
   "cell_type": "markdown",
   "metadata": {},
   "source": [
    "#### Step 1.2.3: Complete Feature Selection\n",
    "\n",
    "In order to finish this step up, you need to make sure that your data frame now only has the columns that you want to keep. To summarize, the dataframe should consist of the following:\n",
    "- All numeric, interval, and ordinal type columns from the original dataset.\n",
    "- Binary categorical features (all numerically-encoded).\n",
    "- Engineered features from other multi-level categorical features and mixed features.\n",
    "\n",
    "Make sure that for any new columns that you have engineered, that you've excluded the original columns from the final dataset. Otherwise, their values will interfere with the analysis later on the project. For example, you should not keep \"PRAEGENDE_JUGENDJAHRE\", since its values won't be useful for the algorithm: only the values derived from it in the engineered features you created should be retained. As a reminder, your data should only be from **the subset with few or no missing values**."
   ]
  },
  {
   "cell_type": "code",
   "execution_count": 145,
   "metadata": {},
   "outputs": [
    {
     "data": {
      "text/plain": [
       "(797426, 65)"
      ]
     },
     "execution_count": 145,
     "metadata": {},
     "output_type": "execute_result"
    }
   ],
   "source": [
    "# If there are other re-engineering tasks you need to perform, make sure you\n",
    "# take care of them here. (Dealing with missing data will come in step 2.1.)\n",
    "df.shape\n"
   ]
  },
  {
   "cell_type": "code",
   "execution_count": 146,
   "metadata": {
    "scrolled": false
   },
   "outputs": [
    {
     "data": {
      "text/html": [
       "<div>\n",
       "<style scoped>\n",
       "    .dataframe tbody tr th:only-of-type {\n",
       "        vertical-align: middle;\n",
       "    }\n",
       "\n",
       "    .dataframe tbody tr th {\n",
       "        vertical-align: top;\n",
       "    }\n",
       "\n",
       "    .dataframe thead th {\n",
       "        text-align: right;\n",
       "    }\n",
       "</style>\n",
       "<table border=\"1\" class=\"dataframe\">\n",
       "  <thead>\n",
       "    <tr style=\"text-align: right;\">\n",
       "      <th></th>\n",
       "      <th>attribute</th>\n",
       "      <th>information_level</th>\n",
       "      <th>missing_or_unknown</th>\n",
       "    </tr>\n",
       "    <tr>\n",
       "      <th>type</th>\n",
       "      <th></th>\n",
       "      <th></th>\n",
       "      <th></th>\n",
       "    </tr>\n",
       "  </thead>\n",
       "  <tbody>\n",
       "    <tr>\n",
       "      <th>categorical</th>\n",
       "      <td>4</td>\n",
       "      <td>4</td>\n",
       "      <td>4</td>\n",
       "    </tr>\n",
       "    <tr>\n",
       "      <th>numeric</th>\n",
       "      <td>6</td>\n",
       "      <td>6</td>\n",
       "      <td>6</td>\n",
       "    </tr>\n",
       "    <tr>\n",
       "      <th>ordinal</th>\n",
       "      <td>49</td>\n",
       "      <td>49</td>\n",
       "      <td>49</td>\n",
       "    </tr>\n",
       "  </tbody>\n",
       "</table>\n",
       "</div>"
      ],
      "text/plain": [
       "             attribute  information_level  missing_or_unknown\n",
       "type                                                         \n",
       "categorical          4                  4                   4\n",
       "numeric              6                  6                   6\n",
       "ordinal             49                 49                  49"
      ]
     },
     "execution_count": 146,
     "metadata": {},
     "output_type": "execute_result"
    }
   ],
   "source": [
    "feat_info.loc[feat_info.attribute.isin(df.columns)].groupby('type').count()"
   ]
  },
  {
   "cell_type": "code",
   "execution_count": 147,
   "metadata": {},
   "outputs": [],
   "source": [
    "# Do whatever you need to in order to ensure that the dataframe only contains\n",
    "# the columns that should be passed to the algorithm functions.\n",
    "\n"
   ]
  },
  {
   "cell_type": "markdown",
   "metadata": {},
   "source": [
    "### Step 1.3: Create a Cleaning Function\n",
    "\n",
    "Even though you've finished cleaning up the general population demographics data, it's important to look ahead to the future and realize that you'll need to perform the same cleaning steps on the customer demographics data. In this substep, complete the function below to execute the main feature selection, encoding, and re-engineering steps you performed above. Then, when it comes to looking at the customer data in Step 3, you can just run this function on that DataFrame to get the trimmed dataset in a single step."
   ]
  },
  {
   "cell_type": "code",
   "execution_count": 319,
   "metadata": {},
   "outputs": [],
   "source": [
    "def clean_data(df):\n",
    "    \"\"\"\n",
    "    Perform feature trimming, re-encoding, and engineering for demographics\n",
    "    data\n",
    "\n",
    "    INPUT: Demographics DataFrame\n",
    "    OUTPUT: Trimmed and cleaned demographics DataFrame\n",
    "    \"\"\"\n",
    "\n",
    "    # Put in code here to execute all main cleaning steps:\n",
    "    # convert missing value codes into NaNs, ...\n",
    "    missing = feat_info.missing_or_unknown.copy()\n",
    "\n",
    "    missing = missing.str.replace('[', '')\n",
    "    missing = missing.str.replace(']', '')\n",
    "    missing = missing.str.split(',')\n",
    "    a = df.copy()\n",
    "    for i in range(a.shape[1]):\n",
    "        a.iloc[:,i].mask(a.iloc[:,i].isin(missing[i]), inplace=True)\n",
    "    df = a.copy()\n",
    "    del a,missing\n",
    "\n",
    "    # remove selected columns and rows, ...\n",
    "#     null_col_count = df.isnull().sum()\n",
    "#     nas_col_ratio = 200000/891220\n",
    "#     max_number_of_nas_col = nas_col_ratio * df.shape[0]\n",
    "    \n",
    "#     df = df.loc[:, (null_col_count <= max_number_of_nas_col)]\n",
    "    df.drop(['AGER_TYP', 'GEBURTSJAHR', 'TITEL_KZ', 'ALTER_HH', 'KK_KUNDENTYP',\n",
    "       'KBA05_BAUMAX'], axis = 1, inplace = True)\n",
    "    \n",
    "    print('remove missing cols', df.shape)\n",
    "\n",
    "        \n",
    "    null_row_count = df.isnull().sum(axis=1)\n",
    "    max_number_of_nas_row = 20\n",
    "    df = df.loc[(null_row_count <= max_number_of_nas_row),:]\n",
    "    print('remove missing rows', df.shape)\n",
    "\n",
    "    # select, re-encode, and engineer column values.\n",
    "\n",
    "    categ_mul = []\n",
    "    for col in categ:\n",
    "        if len(df.loc[:,col].value_counts()) > 2:\n",
    "            categ_mul.append(col)\n",
    "\n",
    "    df.drop(categ_mul, axis = 1, inplace = True)\n",
    "\n",
    "    df = pd.concat([df.drop('OST_WEST_KZ', axis=1), pd.get_dummies(df['OST_WEST_KZ'])], axis=1)\n",
    "\n",
    "\n",
    "    mix = feat_info.loc[feat_info.attribute.isin(df.columns) & (feat_info.type == 'mixed')].attribute.values\n",
    "    cond1 = df['PRAEGENDE_JUGENDJAHRE'].isin([1,2])\n",
    "    cond2 =  df['PRAEGENDE_JUGENDJAHRE'].isin([3,4])\n",
    "    cond3 = df['PRAEGENDE_JUGENDJAHRE'].isin([5,6,7])\n",
    "    cond4 = df['PRAEGENDE_JUGENDJAHRE'].isin([8,9])\n",
    "    cond5 = df['PRAEGENDE_JUGENDJAHRE'].isin([10,11,12,13])\n",
    "    cond6 = df['PRAEGENDE_JUGENDJAHRE'].isin([14,15])\n",
    "\n",
    "    df['decade'] = np.select( [cond1, cond2, cond3, cond4, cond5, cond6], [40,50,60,70,80,90], default = None)\n",
    "\n",
    "    cond7 = (df['PRAEGENDE_JUGENDJAHRE']==9)\n",
    "    cond8 = df['PRAEGENDE_JUGENDJAHRE'].notna() & (df['PRAEGENDE_JUGENDJAHRE'] != 9)\n",
    "    df['movement'] = np.select([cond7, cond8], [1,0], default = None)\n",
    "\n",
    "    cond1 = df['CAMEO_INTL_2015'].isin(range(11,16))\n",
    "    cond2 = df['CAMEO_INTL_2015'].isin(range(21,26))\n",
    "    cond3 = df['CAMEO_INTL_2015'].isin(range(31,36))\n",
    "    cond4 = df['CAMEO_INTL_2015'].isin(range(41,46))\n",
    "    cond5 = df['CAMEO_INTL_2015'].isin(range(51,56))\n",
    "\n",
    "    # wealth_level = ['Wealthy Households','Prosperous Households','Comfortable Households','Less Affluent Households',\\\n",
    "    #                 'Poorer Households']\n",
    "    df['wealth'] = np.select([cond1, cond2, cond3, cond4, cond5], [1,2,3,4,5], default = None)\n",
    "\n",
    "    cond1 = df['CAMEO_INTL_2015'].isin(range(11,61,10))\n",
    "    cond2 = df['CAMEO_INTL_2015'].isin(range(12,62,10))\n",
    "    cond3 = df['CAMEO_INTL_2015'].isin(range(13,63,10))\n",
    "    cond4 = df['CAMEO_INTL_2015'].isin(range(14,64,10))\n",
    "    cond5 = df['CAMEO_INTL_2015'].isin(range(15,65,10))\n",
    "\n",
    "    # life_stage_level = ['Pre-Family Couples & Singles','Young Couples With Children','Families With School Age Children',\\\n",
    "    #                     'Older Families & Mature Couples', 'Elders In Retirement']\n",
    "    df['life_stage'] = np.select([cond1, cond2, cond3, cond4, cond5], [1,2,3,4,5], default = None)\n",
    "\n",
    "\n",
    "    df.drop(mix,axis=1, inplace = True)\n",
    "    df[['O','W','decade','movement','wealth','life_stage']] = df[['O','W','decade','movement','wealth','life_stage']].astype(float)\n",
    "\n",
    "    # Return the cleaned dataframe.\n",
    "    return df"
   ]
  },
  {
   "cell_type": "markdown",
   "metadata": {},
   "source": [
    "## Step 2: Feature Transformation\n",
    "\n",
    "### Step 2.1: Apply Feature Scaling\n",
    "\n",
    "Before we apply dimensionality reduction techniques to the data, we need to perform feature scaling so that the principal component vectors are not influenced by the natural differences in scale for features. Starting from this part of the project, you'll want to keep an eye on the [API reference page for sklearn](http://scikit-learn.org/stable/modules/classes.html) to help you navigate to all of the classes and functions that you'll need. In this substep, you'll need to check the following:\n",
    "\n",
    "- sklearn requires that data not have missing values in order for its estimators to work properly. So, before applying the scaler to your data, make sure that you've cleaned the DataFrame of the remaining missing values. This can be as simple as just removing all data points with missing data, or applying an [Imputer](http://scikit-learn.org/stable/modules/generated/sklearn.preprocessing.Imputer.html) to replace all missing values. You might also try a more complicated procedure where you temporarily remove missing values in order to compute the scaling parameters before re-introducing those missing values and applying imputation. Think about how much missing data you have and what possible effects each approach might have on your analysis, and justify your decision in the discussion section below.\n",
    "- For the actual scaling function, a [StandardScaler](http://scikit-learn.org/stable/modules/generated/sklearn.preprocessing.StandardScaler.html) instance is suggested, scaling each feature to mean 0 and standard deviation 1.\n",
    "- For these classes, you can make use of the `.fit_transform()` method to both fit a procedure to the data as well as apply the transformation to the data at the same time. Don't forget to keep the fit sklearn objects handy, since you'll be applying them to the customer demographics data towards the end of the project."
   ]
  },
  {
   "cell_type": "code",
   "execution_count": 150,
   "metadata": {},
   "outputs": [],
   "source": [
    "# If you've not yet cleaned the dataset of all NaN values, then investigate and\n",
    "# do that now.\n",
    "imputer = preprocessing.Imputer(strategy='most_frequent')\n",
    "data = imputer.fit_transform(df)"
   ]
  },
  {
   "cell_type": "code",
   "execution_count": 151,
   "metadata": {},
   "outputs": [
    {
     "data": {
      "text/plain": [
       "array([[1., 2., 1., ..., 0., 5., 1.],\n",
       "       [3., 2., 1., ..., 0., 2., 4.],\n",
       "       [4., 2., 4., ..., 0., 1., 2.],\n",
       "       ...,\n",
       "       [2., 2., 2., ..., 0., 2., 4.],\n",
       "       [1., 1., 1., ..., 0., 5., 1.],\n",
       "       [4., 1., 4., ..., 0., 4., 3.]])"
      ]
     },
     "execution_count": 151,
     "metadata": {},
     "output_type": "execute_result"
    }
   ],
   "source": [
    "data"
   ]
  },
  {
   "cell_type": "code",
   "execution_count": 152,
   "metadata": {},
   "outputs": [],
   "source": [
    "# Apply feature scaling to the general population demographics data.\n",
    "ss = preprocessing.StandardScaler()\n",
    "data = ss.fit_transform(data)"
   ]
  },
  {
   "cell_type": "code",
   "execution_count": 153,
   "metadata": {},
   "outputs": [
    {
     "data": {
      "text/plain": [
       "array([[-1.76633375,  0.9580705 , -1.49460938, ..., -0.20961514,\n",
       "         1.17573436, -1.24915665],\n",
       "       [ 0.20058927,  0.9580705 , -1.49460938, ..., -0.20961514,\n",
       "        -0.86967361,  0.76684544],\n",
       "       [ 1.18405078,  0.9580705 ,  0.68314974, ..., -0.20961514,\n",
       "        -1.55147626, -0.57715595],\n",
       "       ...,\n",
       "       [-0.78287224,  0.9580705 , -0.76868968, ..., -0.20961514,\n",
       "        -0.86967361,  0.76684544],\n",
       "       [-1.76633375, -1.04376452, -1.49460938, ..., -0.20961514,\n",
       "         1.17573436, -1.24915665],\n",
       "       [ 1.18405078, -1.04376452,  0.68314974, ..., -0.20961514,\n",
       "         0.49393171,  0.09484474]])"
      ]
     },
     "execution_count": 153,
     "metadata": {},
     "output_type": "execute_result"
    }
   ],
   "source": [
    "data"
   ]
  },
  {
   "cell_type": "code",
   "execution_count": 154,
   "metadata": {},
   "outputs": [
    {
     "data": {
      "text/plain": [
       "(797426, 65)"
      ]
     },
     "execution_count": 154,
     "metadata": {},
     "output_type": "execute_result"
    }
   ],
   "source": [
    "data.shape"
   ]
  },
  {
   "cell_type": "markdown",
   "metadata": {},
   "source": [
    "### Discussion 2.1: Apply Feature Scaling\n",
    "\n",
    "(Double-click this cell and replace this text with your own text, reporting your decisions regarding feature scaling.)\n",
    "\n",
    "**Discuss**\n",
    "I apply an imputer to replace all the NANs with the most frequent ones. I think it probably makes sense because all the rows and columns with lots of NANs are already gotten rid of.\n",
    "\n",
    "Then I normalize the data with sklearn.StandScaler, which is a must before PCA and K-means, to avoid big influence of the variables with large scales."
   ]
  },
  {
   "cell_type": "markdown",
   "metadata": {},
   "source": [
    "### Step 2.2: Perform Dimensionality Reduction\n",
    "\n",
    "On your scaled data, you are now ready to apply dimensionality reduction techniques.\n",
    "\n",
    "- Use sklearn's [PCA](http://scikit-learn.org/stable/modules/generated/sklearn.decomposition.PCA.html) class to apply principal component analysis on the data, thus finding the vectors of maximal variance in the data. To start, you should not set any parameters (so all components are computed) or set a number of components that is at least half the number of features (so there's enough features to see the general trend in variability).\n",
    "- Check out the ratio of variance explained by each principal component as well as the cumulative variance explained. Try plotting the cumulative or sequential values using matplotlib's [`plot()`](https://matplotlib.org/api/_as_gen/matplotlib.pyplot.plot.html) function. Based on what you find, select a value for the number of transformed features you'll retain for the clustering part of the project.\n",
    "- Once you've made a choice for the number of components to keep, make sure you re-fit a PCA instance to perform the decided-on transformation."
   ]
  },
  {
   "cell_type": "code",
   "execution_count": 156,
   "metadata": {},
   "outputs": [
    {
     "data": {
      "text/plain": [
       "array([[ 3.88569831e+00, -2.48067363e+00, -2.92095243e+00, ...,\n",
       "        -1.49096118e-01, -1.38934701e-01, -1.43730538e-14],\n",
       "       [-7.53267150e-01,  2.83115263e-01, -3.19862226e+00, ...,\n",
       "         4.14614629e-03,  8.89389231e-02,  5.38671424e-14],\n",
       "       [-3.93525882e+00,  1.26654230e+00, -6.22605622e-01, ...,\n",
       "        -2.15866285e-01, -6.68104406e-01, -1.44252231e-14],\n",
       "       ...,\n",
       "       [-9.43691695e-01, -3.28268726e+00, -2.81765432e+00, ...,\n",
       "         1.53158610e-01, -1.23388199e-01,  3.79178142e-17],\n",
       "       [ 5.84187902e+00, -3.16128619e+00,  2.34342684e+00, ...,\n",
       "        -2.80041747e-01,  1.12539389e-01, -1.23459573e-17],\n",
       "       [-9.37543297e-01,  9.67962519e-01,  3.17547547e+00, ...,\n",
       "        -5.66714981e-01, -1.99245215e-01, -3.83011131e-16]])"
      ]
     },
     "execution_count": 156,
     "metadata": {},
     "output_type": "execute_result"
    }
   ],
   "source": [
    "# Apply PCA to the data.\n",
    "pca = decomposition.PCA()\n",
    "pca.fit_transform(data)\n"
   ]
  },
  {
   "cell_type": "code",
   "execution_count": 157,
   "metadata": {},
   "outputs": [
    {
     "data": {
      "text/plain": [
       "array([[-1.26725634e-01,  5.48657623e-03, -2.22100159e-01, ...,\n",
       "        -5.68755246e-02,  2.03856164e-01, -1.24250483e-01],\n",
       "       [ 2.55713479e-01,  9.21399587e-02,  5.93947131e-02, ...,\n",
       "         1.37024233e-02,  7.97154682e-02, -1.18993952e-03],\n",
       "       [ 8.07978254e-02, -3.68763071e-01,  1.56186430e-01, ...,\n",
       "         1.04820018e-02,  2.92875579e-02, -9.03733742e-03],\n",
       "       ...,\n",
       "       [ 1.50110000e-01, -3.90959961e-02, -4.56660423e-01, ...,\n",
       "         1.77121737e-03,  1.27408013e-02, -9.44068985e-03],\n",
       "       [-2.87822462e-01, -8.21924847e-01, -2.58454806e-02, ...,\n",
       "        -2.96425108e-03,  2.47530459e-03, -1.70190729e-03],\n",
       "       [ 1.30704238e-16,  4.04955952e-17, -5.30041456e-16, ...,\n",
       "        -4.41645840e-17, -4.25351001e-17, -1.91203594e-17]])"
      ]
     },
     "execution_count": 157,
     "metadata": {},
     "output_type": "execute_result"
    }
   ],
   "source": [
    "pca.components_"
   ]
  },
  {
   "cell_type": "code",
   "execution_count": 158,
   "metadata": {
    "scrolled": true
   },
   "outputs": [
    {
     "data": {
      "text/plain": [
       "array([1.62242057e-01, 1.31231840e-01, 9.31302151e-02, 4.83351808e-02,\n",
       "       3.96963355e-02, 3.20975459e-02, 2.94981143e-02, 2.71146942e-02,\n",
       "       2.46463262e-02, 2.33609369e-02, 2.17244426e-02, 1.98841578e-02,\n",
       "       1.85136577e-02, 1.76404502e-02, 1.68658785e-02, 1.53825186e-02,\n",
       "       1.50645633e-02, 1.43410007e-02, 1.37648986e-02, 1.29265525e-02,\n",
       "       1.21639827e-02, 1.20210016e-02, 1.15754180e-02, 1.11463464e-02,\n",
       "       1.05369588e-02, 8.98292353e-03, 8.31357448e-03, 7.68711974e-03,\n",
       "       7.37947030e-03, 7.13824648e-03, 6.85071858e-03, 6.62852214e-03,\n",
       "       6.39802411e-03, 6.17984501e-03, 6.06579328e-03, 5.86277305e-03,\n",
       "       5.72087348e-03, 5.38887795e-03, 4.89741863e-03, 4.74271903e-03,\n",
       "       4.53763033e-03, 4.26710825e-03, 4.03008113e-03, 3.86304101e-03,\n",
       "       3.76907136e-03, 3.69809451e-03, 3.57832631e-03, 3.48916071e-03,\n",
       "       3.34973490e-03, 3.05465327e-03, 3.03334175e-03, 2.88006381e-03,\n",
       "       2.71433249e-03, 2.66957877e-03, 2.46371252e-03, 2.23922765e-03,\n",
       "       2.20827680e-03, 1.98033144e-03, 1.90869164e-03, 1.76976059e-03,\n",
       "       1.70753691e-03, 1.53279122e-03, 1.27943514e-03, 8.34044014e-04,\n",
       "       3.41598365e-32])"
      ]
     },
     "execution_count": 158,
     "metadata": {},
     "output_type": "execute_result"
    }
   ],
   "source": [
    "# Investigate the variance accounted for by each principal component.\n",
    "pca.explained_variance_ratio_\n"
   ]
  },
  {
   "cell_type": "code",
   "execution_count": 159,
   "metadata": {
    "scrolled": false
   },
   "outputs": [
    {
     "data": {
      "text/plain": [
       "Text(0.5,1,'Explained Variance Per Principal Component')"
      ]
     },
     "execution_count": 159,
     "metadata": {},
     "output_type": "execute_result"
    },
    {
     "data": {
      "image/png": "[encoded data removed]",
      "text/plain": [
       "<Figure size 720x432 with 1 Axes>"
      ]
     },
     "metadata": {},
     "output_type": "display_data"
    }
   ],
   "source": [
    "num_components=len(pca.explained_variance_ratio_)\n",
    "ind = np.arange(num_components)\n",
    "vals = pca.explained_variance_ratio_\n",
    "\n",
    "plt.figure(figsize=(10, 6))\n",
    "ax = plt.subplot(111)\n",
    "cumvals = np.cumsum(vals)\n",
    "ax.bar(ind, vals)\n",
    "ax.plot(ind, cumvals)\n",
    "for i in range(num_components):\n",
    "    ax.annotate(r\"%s%%\" % ((str(vals[i]*100)[:4])), (ind[i]+0.2, vals[i]), va=\"bottom\", ha=\"center\", fontsize=12)\n",
    "\n",
    "ax.xaxis.set_tick_params(width=0)\n",
    "ax.yaxis.set_tick_params(width=2, length=12)\n",
    "\n",
    "ax.set_xlabel(\"Principal Component\")\n",
    "ax.set_ylabel(\"Variance Explained (%)\")\n",
    "plt.title('Explained Variance Per Principal Component')"
   ]
  },
  {
   "cell_type": "code",
   "execution_count": 160,
   "metadata": {},
   "outputs": [
    {
     "data": {
      "text/plain": [
       "array([0.16224206, 0.2934739 , 0.38660411, 0.43493929, 0.47463563,\n",
       "       0.50673317, 0.53623129, 0.56334598, 0.58799231, 0.61135325,\n",
       "       0.63307769, 0.65296185, 0.6714755 , 0.68911595, 0.70598183,\n",
       "       0.72136435, 0.73642891, 0.75076992, 0.76453481, 0.77746137,\n",
       "       0.78962535, 0.80164635, 0.81322177, 0.82436811, 0.83490507,\n",
       "       0.843888  , 0.85220157, 0.85988869, 0.86726816, 0.87440641,\n",
       "       0.88125713, 0.88788565, 0.89428367, 0.90046352, 0.90652931,\n",
       "       0.91239208, 0.91811296, 0.92350184, 0.92839925, 0.93314197,\n",
       "       0.9376796 , 0.94194671, 0.94597679, 0.94983983, 0.95360891,\n",
       "       0.957307  , 0.96088533, 0.96437449, 0.96772422, 0.97077888,\n",
       "       0.97381222, 0.97669228, 0.97940661, 0.98207619, 0.9845399 ,\n",
       "       0.98677913, 0.98898741, 0.99096774, 0.99287643, 0.99464619,\n",
       "       0.99635373, 0.99788652, 0.99916596, 1.        , 1.        ])"
      ]
     },
     "execution_count": 160,
     "metadata": {},
     "output_type": "execute_result"
    }
   ],
   "source": [
    "cumvals"
   ]
  },
  {
   "cell_type": "code",
   "execution_count": 161,
   "metadata": {},
   "outputs": [
    {
     "data": {
      "text/plain": [
       "0.852201571713331"
      ]
     },
     "execution_count": 161,
     "metadata": {},
     "output_type": "execute_result"
    }
   ],
   "source": [
    "cumvals[26]"
   ]
  },
  {
   "cell_type": "code",
   "execution_count": 195,
   "metadata": {},
   "outputs": [],
   "source": [
    "# Re-apply PCA to the data while selecting for number of components to retain.\n",
    "pca = decomposition.PCA(n_components=26)\n",
    "data_pca = pca.fit_transform(data)\n"
   ]
  },
  {
   "cell_type": "code",
   "execution_count": 196,
   "metadata": {},
   "outputs": [
    {
     "data": {
      "text/plain": [
       "(797426, 26)"
      ]
     },
     "execution_count": 196,
     "metadata": {},
     "output_type": "execute_result"
    }
   ],
   "source": [
    "data_pca.shape"
   ]
  },
  {
   "cell_type": "markdown",
   "metadata": {},
   "source": [
    "### Discussion 2.2: Perform Dimensionality Reduction\n",
    "\n",
    "(Double-click this cell and replace this text with your own text, reporting your findings and decisions regarding dimensionality reduction. How many principal components / transformed features are you retaining for the next step of the analysis?)\n",
    "\n",
    "**Discuss**\n",
    "I use the first 26 components, corresponding to a cumulative explained variance of about 85%. This is around where the increase of cumulative explained variance per extra component starts to slow down, i.e., the turning point."
   ]
  },
  {
   "cell_type": "markdown",
   "metadata": {},
   "source": [
    "### Step 2.3: Interpret Principal Components\n",
    "\n",
    "Now that we have our transformed principal components, it's a nice idea to check out the weight of each variable on the first few components to see if they can be interpreted in some fashion.\n",
    "\n",
    "As a reminder, each principal component is a unit vector that points in the direction of highest variance (after accounting for the variance captured by earlier principal components). The further a weight is from zero, the more the principal component is in the direction of the corresponding feature. If two features have large weights of the same sign (both positive or both negative), then increases in one tend expect to be associated with increases in the other. To contrast, features with different signs can be expected to show a negative correlation: increases in one variable should result in a decrease in the other.\n",
    "\n",
    "- To investigate the features, you should map each weight to their corresponding feature name, then sort the features according to weight. The most interesting features for each principal component, then, will be those at the beginning and end of the sorted list. Use the data dictionary document to help you understand these most prominent features, their relationships, and what a positive or negative value on the principal component might indicate.\n",
    "- You should investigate and interpret feature associations from the first three principal components in this substep. To help facilitate this, you should write a function that you can call at any time to print the sorted list of feature weights, for the *i*-th principal component. This might come in handy in the next step of the project, when you interpret the tendencies of the discovered clusters."
   ]
  },
  {
   "cell_type": "code",
   "execution_count": 197,
   "metadata": {},
   "outputs": [],
   "source": [
    "# Map weights for the first principal component to corresponding feature names\n",
    "# and then print the linked values, sorted by weight.\n",
    "# HINT: Try defining a function here or in a new cell that you can reuse in the\n",
    "# other cells.\n",
    "\n"
   ]
  },
  {
   "cell_type": "code",
   "execution_count": 198,
   "metadata": {},
   "outputs": [
    {
     "data": {
      "text/plain": [
       "65"
      ]
     },
     "execution_count": 198,
     "metadata": {},
     "output_type": "execute_result"
    }
   ],
   "source": [
    "len(pca.components_[0])"
   ]
  },
  {
   "cell_type": "code",
   "execution_count": 199,
   "metadata": {},
   "outputs": [],
   "source": [
    "def pca_compo_weight(df, pca, i):\n",
    "    inds = np.argsort(pca.components_[i])\n",
    "    arr = np.vstack([np.round(pca.components_[i][inds], 4),df.columns[inds]])\n",
    "    #print(arr.T)\n",
    "    return arr.T"
   ]
  },
  {
   "cell_type": "code",
   "execution_count": 200,
   "metadata": {},
   "outputs": [],
   "source": [
    "rank1 = pca_compo_weight(df,pca,0)"
   ]
  },
  {
   "cell_type": "code",
   "execution_count": 201,
   "metadata": {},
   "outputs": [],
   "source": [
    "# Map weights for the second principal component to corresponding feature names\n",
    "# and then print the linked values, sorted by weight.\n",
    "\n",
    "rank2 = pca_compo_weight(df,pca,1)"
   ]
  },
  {
   "cell_type": "code",
   "execution_count": 202,
   "metadata": {},
   "outputs": [],
   "source": [
    "# Map weights for the third principal component to corresponding feature names\n",
    "# and then print the linked values, sorted by weight.\n",
    "rank3 = pca_compo_weight(df,pca,2)\n"
   ]
  },
  {
   "cell_type": "code",
   "execution_count": 203,
   "metadata": {},
   "outputs": [],
   "source": [
    "rank_123 = np.hstack([rank1, rank2, rank3])"
   ]
  },
  {
   "cell_type": "code",
   "execution_count": 204,
   "metadata": {},
   "outputs": [
    {
     "data": {
      "text/html": [
       "<div>\n",
       "<style scoped>\n",
       "    .dataframe tbody tr th:only-of-type {\n",
       "        vertical-align: middle;\n",
       "    }\n",
       "\n",
       "    .dataframe tbody tr th {\n",
       "        vertical-align: top;\n",
       "    }\n",
       "\n",
       "    .dataframe thead th {\n",
       "        text-align: right;\n",
       "    }\n",
       "</style>\n",
       "<table border=\"1\" class=\"dataframe\">\n",
       "  <thead>\n",
       "    <tr style=\"text-align: right;\">\n",
       "      <th></th>\n",
       "      <th>0</th>\n",
       "      <th>1</th>\n",
       "      <th>2</th>\n",
       "      <th>3</th>\n",
       "      <th>4</th>\n",
       "      <th>5</th>\n",
       "    </tr>\n",
       "  </thead>\n",
       "  <tbody>\n",
       "    <tr>\n",
       "      <th>0</th>\n",
       "      <td>-0.2273</td>\n",
       "      <td>PLZ8_ANTG1</td>\n",
       "      <td>-0.2529</td>\n",
       "      <td>SEMIO_REL</td>\n",
       "      <td>-0.3688</td>\n",
       "      <td>ANREDE_KZ</td>\n",
       "    </tr>\n",
       "    <tr>\n",
       "      <th>1</th>\n",
       "      <td>-0.2244</td>\n",
       "      <td>MOBI_REGIO</td>\n",
       "      <td>-0.2382</td>\n",
       "      <td>decade</td>\n",
       "      <td>-0.3376</td>\n",
       "      <td>SEMIO_KAEM</td>\n",
       "    </tr>\n",
       "    <tr>\n",
       "      <th>2</th>\n",
       "      <td>-0.2221</td>\n",
       "      <td>FINANZ_MINIMALIST</td>\n",
       "      <td>-0.2313</td>\n",
       "      <td>FINANZ_SPARER</td>\n",
       "      <td>-0.3157</td>\n",
       "      <td>SEMIO_DOM</td>\n",
       "    </tr>\n",
       "    <tr>\n",
       "      <th>3</th>\n",
       "      <td>-0.2156</td>\n",
       "      <td>KBA05_GBZ</td>\n",
       "      <td>-0.2278</td>\n",
       "      <td>SEMIO_TRADV</td>\n",
       "      <td>-0.2761</td>\n",
       "      <td>SEMIO_KRIT</td>\n",
       "    </tr>\n",
       "    <tr>\n",
       "      <th>4</th>\n",
       "      <td>-0.2138</td>\n",
       "      <td>KBA05_ANTG1</td>\n",
       "      <td>-0.226</td>\n",
       "      <td>FINANZ_UNAUFFAELLIGER</td>\n",
       "      <td>-0.219</td>\n",
       "      <td>SEMIO_RAT</td>\n",
       "    </tr>\n",
       "    <tr>\n",
       "      <th>5</th>\n",
       "      <td>-0.1684</td>\n",
       "      <td>KONSUMNAEHE</td>\n",
       "      <td>-0.2253</td>\n",
       "      <td>SEMIO_PFLICHT</td>\n",
       "      <td>-0.1884</td>\n",
       "      <td>FINANZ_ANLEGER</td>\n",
       "    </tr>\n",
       "    <tr>\n",
       "      <th>6</th>\n",
       "      <td>-0.1679</td>\n",
       "      <td>PLZ8_GBZ</td>\n",
       "      <td>-0.2187</td>\n",
       "      <td>SEMIO_KULT</td>\n",
       "      <td>-0.1751</td>\n",
       "      <td>SEMIO_ERL</td>\n",
       "    </tr>\n",
       "    <tr>\n",
       "      <th>7</th>\n",
       "      <td>-0.167</td>\n",
       "      <td>INNENSTADT</td>\n",
       "      <td>-0.2026</td>\n",
       "      <td>FINANZ_ANLEGER</td>\n",
       "      <td>-0.1125</td>\n",
       "      <td>decade</td>\n",
       "    </tr>\n",
       "    <tr>\n",
       "      <th>8</th>\n",
       "      <td>-0.1292</td>\n",
       "      <td>BALLRAUM</td>\n",
       "      <td>-0.1833</td>\n",
       "      <td>SEMIO_FAM</td>\n",
       "      <td>-0.1082</td>\n",
       "      <td>FINANZ_SPARER</td>\n",
       "    </tr>\n",
       "    <tr>\n",
       "      <th>9</th>\n",
       "      <td>-0.1267</td>\n",
       "      <td>ALTERSKATEGORIE_GROB</td>\n",
       "      <td>-0.167</td>\n",
       "      <td>SEMIO_RAT</td>\n",
       "      <td>-0.1035</td>\n",
       "      <td>FINANZ_UNAUFFAELLIGER</td>\n",
       "    </tr>\n",
       "    <tr>\n",
       "      <th>10</th>\n",
       "      <td>-0.1243</td>\n",
       "      <td>life_stage</td>\n",
       "      <td>-0.1649</td>\n",
       "      <td>ONLINE_AFFINITAET</td>\n",
       "      <td>-0.081</td>\n",
       "      <td>SEMIO_PFLICHT</td>\n",
       "    </tr>\n",
       "    <tr>\n",
       "      <th>11</th>\n",
       "      <td>-0.1222</td>\n",
       "      <td>FINANZ_VORSORGER</td>\n",
       "      <td>-0.1611</td>\n",
       "      <td>SEMIO_MAT</td>\n",
       "      <td>-0.0804</td>\n",
       "      <td>SEMIO_TRADV</td>\n",
       "    </tr>\n",
       "    <tr>\n",
       "      <th>12</th>\n",
       "      <td>-0.1182</td>\n",
       "      <td>GEBAEUDETYP_RASTER</td>\n",
       "      <td>-0.102</td>\n",
       "      <td>SEMIO_SOZ</td>\n",
       "      <td>-0.0565</td>\n",
       "      <td>ONLINE_AFFINITAET</td>\n",
       "    </tr>\n",
       "    <tr>\n",
       "      <th>13</th>\n",
       "      <td>-0.1021</td>\n",
       "      <td>GREEN_AVANTGARDE</td>\n",
       "      <td>-0.0981</td>\n",
       "      <td>PLZ8_ANTG1</td>\n",
       "      <td>-0.0459</td>\n",
       "      <td>PLZ8_ANTG1</td>\n",
       "    </tr>\n",
       "    <tr>\n",
       "      <th>14</th>\n",
       "      <td>-0.0825</td>\n",
       "      <td>SEMIO_ERL</td>\n",
       "      <td>-0.0929</td>\n",
       "      <td>KBA05_GBZ</td>\n",
       "      <td>-0.0403</td>\n",
       "      <td>FINANZ_HAUSBAUER</td>\n",
       "    </tr>\n",
       "    <tr>\n",
       "      <th>15</th>\n",
       "      <td>-0.077</td>\n",
       "      <td>ANZ_PERSONEN</td>\n",
       "      <td>-0.0815</td>\n",
       "      <td>MOBI_REGIO</td>\n",
       "      <td>-0.0398</td>\n",
       "      <td>INNENSTADT</td>\n",
       "    </tr>\n",
       "    <tr>\n",
       "      <th>16</th>\n",
       "      <td>-0.077</td>\n",
       "      <td>SEMIO_LUST</td>\n",
       "      <td>-0.0811</td>\n",
       "      <td>INNENSTADT</td>\n",
       "      <td>-0.0394</td>\n",
       "      <td>PLZ8_GBZ</td>\n",
       "    </tr>\n",
       "    <tr>\n",
       "      <th>17</th>\n",
       "      <td>-0.0753</td>\n",
       "      <td>KBA13_ANZAHL_PKW</td>\n",
       "      <td>-0.0768</td>\n",
       "      <td>PLZ8_GBZ</td>\n",
       "      <td>-0.0352</td>\n",
       "      <td>KONSUMNAEHE</td>\n",
       "    </tr>\n",
       "    <tr>\n",
       "      <th>18</th>\n",
       "      <td>-0.0611</td>\n",
       "      <td>WOHNDAUER_2008</td>\n",
       "      <td>-0.0755</td>\n",
       "      <td>KONSUMNAEHE</td>\n",
       "      <td>-0.034</td>\n",
       "      <td>HEALTH_TYP</td>\n",
       "    </tr>\n",
       "    <tr>\n",
       "      <th>19</th>\n",
       "      <td>-0.0589</td>\n",
       "      <td>W</td>\n",
       "      <td>-0.0751</td>\n",
       "      <td>KBA05_ANTG1</td>\n",
       "      <td>-0.0314</td>\n",
       "      <td>BALLRAUM</td>\n",
       "    </tr>\n",
       "    <tr>\n",
       "      <th>20</th>\n",
       "      <td>-0.0569</td>\n",
       "      <td>movement</td>\n",
       "      <td>-0.0718</td>\n",
       "      <td>SEMIO_VERT</td>\n",
       "      <td>-0.0291</td>\n",
       "      <td>GEBAEUDETYP_RASTER</td>\n",
       "    </tr>\n",
       "    <tr>\n",
       "      <th>21</th>\n",
       "      <td>-0.0432</td>\n",
       "      <td>MIN_GEBAEUDEJAHR</td>\n",
       "      <td>-0.0657</td>\n",
       "      <td>BALLRAUM</td>\n",
       "      <td>-0.0265</td>\n",
       "      <td>KBA05_GBZ</td>\n",
       "    </tr>\n",
       "    <tr>\n",
       "      <th>22</th>\n",
       "      <td>-0.0394</td>\n",
       "      <td>ONLINE_AFFINITAET</td>\n",
       "      <td>-0.064</td>\n",
       "      <td>ANZ_PERSONEN</td>\n",
       "      <td>-0.0247</td>\n",
       "      <td>MOBI_REGIO</td>\n",
       "    </tr>\n",
       "    <tr>\n",
       "      <th>23</th>\n",
       "      <td>-0.0383</td>\n",
       "      <td>SEMIO_VERT</td>\n",
       "      <td>-0.0569</td>\n",
       "      <td>HEALTH_TYP</td>\n",
       "      <td>-0.0239</td>\n",
       "      <td>KBA13_ANZAHL_PKW</td>\n",
       "    </tr>\n",
       "    <tr>\n",
       "      <th>24</th>\n",
       "      <td>-0.0225</td>\n",
       "      <td>RETOURTYP_BK_S</td>\n",
       "      <td>-0.049</td>\n",
       "      <td>MIN_GEBAEUDEJAHR</td>\n",
       "      <td>-0.0215</td>\n",
       "      <td>W</td>\n",
       "    </tr>\n",
       "    <tr>\n",
       "      <th>25</th>\n",
       "      <td>-0.0037</td>\n",
       "      <td>ANZ_TITEL</td>\n",
       "      <td>-0.048</td>\n",
       "      <td>GEBAEUDETYP_RASTER</td>\n",
       "      <td>-0.021</td>\n",
       "      <td>KBA05_ANTG1</td>\n",
       "    </tr>\n",
       "    <tr>\n",
       "      <th>26</th>\n",
       "      <td>-0.002</td>\n",
       "      <td>SOHO_KZ</td>\n",
       "      <td>-0.0391</td>\n",
       "      <td>KBA13_ANZAHL_PKW</td>\n",
       "      <td>-0.016</td>\n",
       "      <td>MIN_GEBAEUDEJAHR</td>\n",
       "    </tr>\n",
       "    <tr>\n",
       "      <th>27</th>\n",
       "      <td>0.0013</td>\n",
       "      <td>SEMIO_KRIT</td>\n",
       "      <td>-0.0317</td>\n",
       "      <td>W</td>\n",
       "      <td>-0.0148</td>\n",
       "      <td>HH_EINKOMMEN_SCORE</td>\n",
       "    </tr>\n",
       "    <tr>\n",
       "      <th>28</th>\n",
       "      <td>0.0055</td>\n",
       "      <td>ANREDE_KZ</td>\n",
       "      <td>-0.0161</td>\n",
       "      <td>GREEN_AVANTGARDE</td>\n",
       "      <td>-0.0114</td>\n",
       "      <td>KKK</td>\n",
       "    </tr>\n",
       "    <tr>\n",
       "      <th>29</th>\n",
       "      <td>0.0129</td>\n",
       "      <td>KBA05_ANTG2</td>\n",
       "      <td>-0.002</td>\n",
       "      <td>SOHO_KZ</td>\n",
       "      <td>-0.0109</td>\n",
       "      <td>ANZ_PERSONEN</td>\n",
       "    </tr>\n",
       "    <tr>\n",
       "      <th>...</th>\n",
       "      <td>...</td>\n",
       "      <td>...</td>\n",
       "      <td>...</td>\n",
       "      <td>...</td>\n",
       "      <td>...</td>\n",
       "      <td>...</td>\n",
       "    </tr>\n",
       "    <tr>\n",
       "      <th>35</th>\n",
       "      <td>0.0374</td>\n",
       "      <td>SEMIO_KAEM</td>\n",
       "      <td>0.0137</td>\n",
       "      <td>movement</td>\n",
       "      <td>0.0024</td>\n",
       "      <td>PLZ8_HHZ</td>\n",
       "    </tr>\n",
       "    <tr>\n",
       "      <th>36</th>\n",
       "      <td>0.0405</td>\n",
       "      <td>HEALTH_TYP</td>\n",
       "      <td>0.0157</td>\n",
       "      <td>PLZ8_HHZ</td>\n",
       "      <td>0.0089</td>\n",
       "      <td>ANZ_TITEL</td>\n",
       "    </tr>\n",
       "    <tr>\n",
       "      <th>37</th>\n",
       "      <td>0.0424</td>\n",
       "      <td>PLZ8_HHZ</td>\n",
       "      <td>0.0317</td>\n",
       "      <td>O</td>\n",
       "      <td>0.0105</td>\n",
       "      <td>movement</td>\n",
       "    </tr>\n",
       "    <tr>\n",
       "      <th>38</th>\n",
       "      <td>0.0458</td>\n",
       "      <td>SEMIO_SOZ</td>\n",
       "      <td>0.0321</td>\n",
       "      <td>VERS_TYP</td>\n",
       "      <td>0.011</td>\n",
       "      <td>KBA05_ANTG3</td>\n",
       "    </tr>\n",
       "    <tr>\n",
       "      <th>39</th>\n",
       "      <td>0.0576</td>\n",
       "      <td>REGIOTYP</td>\n",
       "      <td>0.0324</td>\n",
       "      <td>ANZ_HH_TITEL</td>\n",
       "      <td>0.0127</td>\n",
       "      <td>ANZ_HH_TITEL</td>\n",
       "    </tr>\n",
       "    <tr>\n",
       "      <th>40</th>\n",
       "      <td>0.0589</td>\n",
       "      <td>O</td>\n",
       "      <td>0.0508</td>\n",
       "      <td>KBA05_ANTG3</td>\n",
       "      <td>0.0215</td>\n",
       "      <td>O</td>\n",
       "    </tr>\n",
       "    <tr>\n",
       "      <th>41</th>\n",
       "      <td>0.0747</td>\n",
       "      <td>FINANZ_ANLEGER</td>\n",
       "      <td>0.0584</td>\n",
       "      <td>WOHNDAUER_2008</td>\n",
       "      <td>0.0253</td>\n",
       "      <td>ANZ_HAUSHALTE_AKTIV</td>\n",
       "    </tr>\n",
       "    <tr>\n",
       "      <th>42</th>\n",
       "      <td>0.0774</td>\n",
       "      <td>SEMIO_KULT</td>\n",
       "      <td>0.0594</td>\n",
       "      <td>FINANZ_MINIMALIST</td>\n",
       "      <td>0.0279</td>\n",
       "      <td>PLZ8_ANTG2</td>\n",
       "    </tr>\n",
       "    <tr>\n",
       "      <th>43</th>\n",
       "      <td>0.0813</td>\n",
       "      <td>FINANZ_UNAUFFAELLIGER</td>\n",
       "      <td>0.0614</td>\n",
       "      <td>HH_EINKOMMEN_SCORE</td>\n",
       "      <td>0.0283</td>\n",
       "      <td>KBA05_ANTG4</td>\n",
       "    </tr>\n",
       "    <tr>\n",
       "      <th>44</th>\n",
       "      <td>0.083</td>\n",
       "      <td>SEMIO_FAM</td>\n",
       "      <td>0.067</td>\n",
       "      <td>ANZ_HAUSHALTE_AKTIV</td>\n",
       "      <td>0.0293</td>\n",
       "      <td>wealth</td>\n",
       "    </tr>\n",
       "    <tr>\n",
       "      <th>45</th>\n",
       "      <td>0.0836</td>\n",
       "      <td>SEMIO_MAT</td>\n",
       "      <td>0.0684</td>\n",
       "      <td>PLZ8_ANTG2</td>\n",
       "      <td>0.0303</td>\n",
       "      <td>RELAT_AB</td>\n",
       "    </tr>\n",
       "    <tr>\n",
       "      <th>46</th>\n",
       "      <td>0.0949</td>\n",
       "      <td>SEMIO_TRADV</td>\n",
       "      <td>0.07</td>\n",
       "      <td>RELAT_AB</td>\n",
       "      <td>0.0329</td>\n",
       "      <td>WOHNDAUER_2008</td>\n",
       "    </tr>\n",
       "    <tr>\n",
       "      <th>47</th>\n",
       "      <td>0.0993</td>\n",
       "      <td>SEMIO_RAT</td>\n",
       "      <td>0.0739</td>\n",
       "      <td>SEMIO_DOM</td>\n",
       "      <td>0.0357</td>\n",
       "      <td>ARBEIT</td>\n",
       "    </tr>\n",
       "    <tr>\n",
       "      <th>48</th>\n",
       "      <td>0.1128</td>\n",
       "      <td>decade</td>\n",
       "      <td>0.0742</td>\n",
       "      <td>ARBEIT</td>\n",
       "      <td>0.0385</td>\n",
       "      <td>GREEN_AVANTGARDE</td>\n",
       "    </tr>\n",
       "    <tr>\n",
       "      <th>49</th>\n",
       "      <td>0.12</td>\n",
       "      <td>SEMIO_REL</td>\n",
       "      <td>0.0759</td>\n",
       "      <td>KBA05_ANTG4</td>\n",
       "      <td>0.0417</td>\n",
       "      <td>EWDICHTE</td>\n",
       "    </tr>\n",
       "    <tr>\n",
       "      <th>50</th>\n",
       "      <td>0.1215</td>\n",
       "      <td>SEMIO_PFLICHT</td>\n",
       "      <td>0.0797</td>\n",
       "      <td>wealth</td>\n",
       "      <td>0.043</td>\n",
       "      <td>ORTSGR_KLS9</td>\n",
       "    </tr>\n",
       "    <tr>\n",
       "      <th>51</th>\n",
       "      <td>0.1359</td>\n",
       "      <td>RELAT_AB</td>\n",
       "      <td>0.0921</td>\n",
       "      <td>ANREDE_KZ</td>\n",
       "      <td>0.0437</td>\n",
       "      <td>PLZ8_ANTG3</td>\n",
       "    </tr>\n",
       "    <tr>\n",
       "      <th>52</th>\n",
       "      <td>0.1361</td>\n",
       "      <td>ANZ_HAUSHALTE_AKTIV</td>\n",
       "      <td>0.0978</td>\n",
       "      <td>PLZ8_ANTG4</td>\n",
       "      <td>0.045</td>\n",
       "      <td>PLZ8_ANTG4</td>\n",
       "    </tr>\n",
       "    <tr>\n",
       "      <th>53</th>\n",
       "      <td>0.1362</td>\n",
       "      <td>KBA05_ANTG3</td>\n",
       "      <td>0.0983</td>\n",
       "      <td>ORTSGR_KLS9</td>\n",
       "      <td>0.0554</td>\n",
       "      <td>SEMIO_MAT</td>\n",
       "    </tr>\n",
       "    <tr>\n",
       "      <th>54</th>\n",
       "      <td>0.1456</td>\n",
       "      <td>ARBEIT</td>\n",
       "      <td>0.0991</td>\n",
       "      <td>EWDICHTE</td>\n",
       "      <td>0.0645</td>\n",
       "      <td>SEMIO_LUST</td>\n",
       "    </tr>\n",
       "    <tr>\n",
       "      <th>55</th>\n",
       "      <td>0.1536</td>\n",
       "      <td>FINANZ_SPARER</td>\n",
       "      <td>0.0999</td>\n",
       "      <td>PLZ8_ANTG3</td>\n",
       "      <td>0.0677</td>\n",
       "      <td>SEMIO_REL</td>\n",
       "    </tr>\n",
       "    <tr>\n",
       "      <th>56</th>\n",
       "      <td>0.1538</td>\n",
       "      <td>PLZ8_ANTG2</td>\n",
       "      <td>0.1147</td>\n",
       "      <td>W_KEIT_KIND_HH</td>\n",
       "      <td>0.0808</td>\n",
       "      <td>ALTERSKATEGORIE_GROB</td>\n",
       "    </tr>\n",
       "    <tr>\n",
       "      <th>57</th>\n",
       "      <td>0.1541</td>\n",
       "      <td>KBA05_ANTG4</td>\n",
       "      <td>0.1156</td>\n",
       "      <td>SEMIO_KAEM</td>\n",
       "      <td>0.0852</td>\n",
       "      <td>W_KEIT_KIND_HH</td>\n",
       "    </tr>\n",
       "    <tr>\n",
       "      <th>58</th>\n",
       "      <td>0.1594</td>\n",
       "      <td>FINANZ_HAUSBAUER</td>\n",
       "      <td>0.1168</td>\n",
       "      <td>SEMIO_KRIT</td>\n",
       "      <td>0.1017</td>\n",
       "      <td>FINANZ_VORSORGER</td>\n",
       "    </tr>\n",
       "    <tr>\n",
       "      <th>59</th>\n",
       "      <td>0.1968</td>\n",
       "      <td>EWDICHTE</td>\n",
       "      <td>0.1223</td>\n",
       "      <td>FINANZ_HAUSBAUER</td>\n",
       "      <td>0.1086</td>\n",
       "      <td>RETOURTYP_BK_S</td>\n",
       "    </tr>\n",
       "    <tr>\n",
       "      <th>60</th>\n",
       "      <td>0.199</td>\n",
       "      <td>HH_EINKOMMEN_SCORE</td>\n",
       "      <td>0.1618</td>\n",
       "      <td>RETOURTYP_BK_S</td>\n",
       "      <td>0.1562</td>\n",
       "      <td>FINANZ_MINIMALIST</td>\n",
       "    </tr>\n",
       "    <tr>\n",
       "      <th>61</th>\n",
       "      <td>0.1996</td>\n",
       "      <td>ORTSGR_KLS9</td>\n",
       "      <td>0.1799</td>\n",
       "      <td>SEMIO_LUST</td>\n",
       "      <td>0.2348</td>\n",
       "      <td>SEMIO_KULT</td>\n",
       "    </tr>\n",
       "    <tr>\n",
       "      <th>62</th>\n",
       "      <td>0.2039</td>\n",
       "      <td>wealth</td>\n",
       "      <td>0.228</td>\n",
       "      <td>FINANZ_VORSORGER</td>\n",
       "      <td>0.2492</td>\n",
       "      <td>SEMIO_FAM</td>\n",
       "    </tr>\n",
       "    <tr>\n",
       "      <th>63</th>\n",
       "      <td>0.2187</td>\n",
       "      <td>PLZ8_ANTG4</td>\n",
       "      <td>0.2288</td>\n",
       "      <td>SEMIO_ERL</td>\n",
       "      <td>0.2618</td>\n",
       "      <td>SEMIO_SOZ</td>\n",
       "    </tr>\n",
       "    <tr>\n",
       "      <th>64</th>\n",
       "      <td>0.227</td>\n",
       "      <td>PLZ8_ANTG3</td>\n",
       "      <td>0.2557</td>\n",
       "      <td>ALTERSKATEGORIE_GROB</td>\n",
       "      <td>0.346</td>\n",
       "      <td>SEMIO_VERT</td>\n",
       "    </tr>\n",
       "  </tbody>\n",
       "</table>\n",
       "<p>65 rows × 6 columns</p>\n",
       "</div>"
      ],
      "text/plain": [
       "         0                      1       2                      3       4  \\\n",
       "0  -0.2273             PLZ8_ANTG1 -0.2529              SEMIO_REL -0.3688   \n",
       "1  -0.2244             MOBI_REGIO -0.2382                 decade -0.3376   \n",
       "2  -0.2221      FINANZ_MINIMALIST -0.2313          FINANZ_SPARER -0.3157   \n",
       "3  -0.2156              KBA05_GBZ -0.2278            SEMIO_TRADV -0.2761   \n",
       "4  -0.2138            KBA05_ANTG1  -0.226  FINANZ_UNAUFFAELLIGER  -0.219   \n",
       "5  -0.1684            KONSUMNAEHE -0.2253          SEMIO_PFLICHT -0.1884   \n",
       "6  -0.1679               PLZ8_GBZ -0.2187             SEMIO_KULT -0.1751   \n",
       "7   -0.167             INNENSTADT -0.2026         FINANZ_ANLEGER -0.1125   \n",
       "8  -0.1292               BALLRAUM -0.1833              SEMIO_FAM -0.1082   \n",
       "9  -0.1267   ALTERSKATEGORIE_GROB  -0.167              SEMIO_RAT -0.1035   \n",
       "10 -0.1243             life_stage -0.1649      ONLINE_AFFINITAET  -0.081   \n",
       "11 -0.1222       FINANZ_VORSORGER -0.1611              SEMIO_MAT -0.0804   \n",
       "12 -0.1182     GEBAEUDETYP_RASTER  -0.102              SEMIO_SOZ -0.0565   \n",
       "13 -0.1021       GREEN_AVANTGARDE -0.0981             PLZ8_ANTG1 -0.0459   \n",
       "14 -0.0825              SEMIO_ERL -0.0929              KBA05_GBZ -0.0403   \n",
       "15  -0.077           ANZ_PERSONEN -0.0815             MOBI_REGIO -0.0398   \n",
       "16  -0.077             SEMIO_LUST -0.0811             INNENSTADT -0.0394   \n",
       "17 -0.0753       KBA13_ANZAHL_PKW -0.0768               PLZ8_GBZ -0.0352   \n",
       "18 -0.0611         WOHNDAUER_2008 -0.0755            KONSUMNAEHE  -0.034   \n",
       "19 -0.0589                      W -0.0751            KBA05_ANTG1 -0.0314   \n",
       "20 -0.0569               movement -0.0718             SEMIO_VERT -0.0291   \n",
       "21 -0.0432       MIN_GEBAEUDEJAHR -0.0657               BALLRAUM -0.0265   \n",
       "22 -0.0394      ONLINE_AFFINITAET  -0.064           ANZ_PERSONEN -0.0247   \n",
       "23 -0.0383             SEMIO_VERT -0.0569             HEALTH_TYP -0.0239   \n",
       "24 -0.0225         RETOURTYP_BK_S  -0.049       MIN_GEBAEUDEJAHR -0.0215   \n",
       "25 -0.0037              ANZ_TITEL  -0.048     GEBAEUDETYP_RASTER  -0.021   \n",
       "26  -0.002                SOHO_KZ -0.0391       KBA13_ANZAHL_PKW  -0.016   \n",
       "27  0.0013             SEMIO_KRIT -0.0317                      W -0.0148   \n",
       "28  0.0055              ANREDE_KZ -0.0161       GREEN_AVANTGARDE -0.0114   \n",
       "29  0.0129            KBA05_ANTG2  -0.002                SOHO_KZ -0.0109   \n",
       "..     ...                    ...     ...                    ...     ...   \n",
       "35  0.0374             SEMIO_KAEM  0.0137               movement  0.0024   \n",
       "36  0.0405             HEALTH_TYP  0.0157               PLZ8_HHZ  0.0089   \n",
       "37  0.0424               PLZ8_HHZ  0.0317                      O  0.0105   \n",
       "38  0.0458              SEMIO_SOZ  0.0321               VERS_TYP   0.011   \n",
       "39  0.0576               REGIOTYP  0.0324           ANZ_HH_TITEL  0.0127   \n",
       "40  0.0589                      O  0.0508            KBA05_ANTG3  0.0215   \n",
       "41  0.0747         FINANZ_ANLEGER  0.0584         WOHNDAUER_2008  0.0253   \n",
       "42  0.0774             SEMIO_KULT  0.0594      FINANZ_MINIMALIST  0.0279   \n",
       "43  0.0813  FINANZ_UNAUFFAELLIGER  0.0614     HH_EINKOMMEN_SCORE  0.0283   \n",
       "44   0.083              SEMIO_FAM   0.067    ANZ_HAUSHALTE_AKTIV  0.0293   \n",
       "45  0.0836              SEMIO_MAT  0.0684             PLZ8_ANTG2  0.0303   \n",
       "46  0.0949            SEMIO_TRADV    0.07               RELAT_AB  0.0329   \n",
       "47  0.0993              SEMIO_RAT  0.0739              SEMIO_DOM  0.0357   \n",
       "48  0.1128                 decade  0.0742                 ARBEIT  0.0385   \n",
       "49    0.12              SEMIO_REL  0.0759            KBA05_ANTG4  0.0417   \n",
       "50  0.1215          SEMIO_PFLICHT  0.0797                 wealth   0.043   \n",
       "51  0.1359               RELAT_AB  0.0921              ANREDE_KZ  0.0437   \n",
       "52  0.1361    ANZ_HAUSHALTE_AKTIV  0.0978             PLZ8_ANTG4   0.045   \n",
       "53  0.1362            KBA05_ANTG3  0.0983            ORTSGR_KLS9  0.0554   \n",
       "54  0.1456                 ARBEIT  0.0991               EWDICHTE  0.0645   \n",
       "55  0.1536          FINANZ_SPARER  0.0999             PLZ8_ANTG3  0.0677   \n",
       "56  0.1538             PLZ8_ANTG2  0.1147         W_KEIT_KIND_HH  0.0808   \n",
       "57  0.1541            KBA05_ANTG4  0.1156             SEMIO_KAEM  0.0852   \n",
       "58  0.1594       FINANZ_HAUSBAUER  0.1168             SEMIO_KRIT  0.1017   \n",
       "59  0.1968               EWDICHTE  0.1223       FINANZ_HAUSBAUER  0.1086   \n",
       "60   0.199     HH_EINKOMMEN_SCORE  0.1618         RETOURTYP_BK_S  0.1562   \n",
       "61  0.1996            ORTSGR_KLS9  0.1799             SEMIO_LUST  0.2348   \n",
       "62  0.2039                 wealth   0.228       FINANZ_VORSORGER  0.2492   \n",
       "63  0.2187             PLZ8_ANTG4  0.2288              SEMIO_ERL  0.2618   \n",
       "64   0.227             PLZ8_ANTG3  0.2557   ALTERSKATEGORIE_GROB   0.346   \n",
       "\n",
       "                        5  \n",
       "0               ANREDE_KZ  \n",
       "1              SEMIO_KAEM  \n",
       "2               SEMIO_DOM  \n",
       "3              SEMIO_KRIT  \n",
       "4               SEMIO_RAT  \n",
       "5          FINANZ_ANLEGER  \n",
       "6               SEMIO_ERL  \n",
       "7                  decade  \n",
       "8           FINANZ_SPARER  \n",
       "9   FINANZ_UNAUFFAELLIGER  \n",
       "10          SEMIO_PFLICHT  \n",
       "11            SEMIO_TRADV  \n",
       "12      ONLINE_AFFINITAET  \n",
       "13             PLZ8_ANTG1  \n",
       "14       FINANZ_HAUSBAUER  \n",
       "15             INNENSTADT  \n",
       "16               PLZ8_GBZ  \n",
       "17            KONSUMNAEHE  \n",
       "18             HEALTH_TYP  \n",
       "19               BALLRAUM  \n",
       "20     GEBAEUDETYP_RASTER  \n",
       "21              KBA05_GBZ  \n",
       "22             MOBI_REGIO  \n",
       "23       KBA13_ANZAHL_PKW  \n",
       "24                      W  \n",
       "25            KBA05_ANTG1  \n",
       "26       MIN_GEBAEUDEJAHR  \n",
       "27     HH_EINKOMMEN_SCORE  \n",
       "28                    KKK  \n",
       "29           ANZ_PERSONEN  \n",
       "..                    ...  \n",
       "35               PLZ8_HHZ  \n",
       "36              ANZ_TITEL  \n",
       "37               movement  \n",
       "38            KBA05_ANTG3  \n",
       "39           ANZ_HH_TITEL  \n",
       "40                      O  \n",
       "41    ANZ_HAUSHALTE_AKTIV  \n",
       "42             PLZ8_ANTG2  \n",
       "43            KBA05_ANTG4  \n",
       "44                 wealth  \n",
       "45               RELAT_AB  \n",
       "46         WOHNDAUER_2008  \n",
       "47                 ARBEIT  \n",
       "48       GREEN_AVANTGARDE  \n",
       "49               EWDICHTE  \n",
       "50            ORTSGR_KLS9  \n",
       "51             PLZ8_ANTG3  \n",
       "52             PLZ8_ANTG4  \n",
       "53              SEMIO_MAT  \n",
       "54             SEMIO_LUST  \n",
       "55              SEMIO_REL  \n",
       "56   ALTERSKATEGORIE_GROB  \n",
       "57         W_KEIT_KIND_HH  \n",
       "58       FINANZ_VORSORGER  \n",
       "59         RETOURTYP_BK_S  \n",
       "60      FINANZ_MINIMALIST  \n",
       "61             SEMIO_KULT  \n",
       "62              SEMIO_FAM  \n",
       "63              SEMIO_SOZ  \n",
       "64             SEMIO_VERT  \n",
       "\n",
       "[65 rows x 6 columns]"
      ]
     },
     "execution_count": 204,
     "metadata": {},
     "output_type": "execute_result"
    }
   ],
   "source": [
    "df_rank = pd.DataFrame(data = rank_123)\n",
    "\n",
    "df_rank"
   ]
  },
  {
   "cell_type": "markdown",
   "metadata": {},
   "source": [
    "### Discussion 2.3: Interpret Principal Components\n",
    "\n",
    "(Double-click this cell and replace this text with your own text, reporting your observations from detailed investigation of the first few principal components generated. Can we interpret positive and negative values from them in a meaningful way?)\n",
    "\n",
    "**Discuss**:\n",
    "\n",
    "The first few principal components are related with household financial situatoin(includes wealth level and financial intrests types), living condition (including household shares and communities), movement pattern, age/generation, personality, and gender\n",
    "\n",
    "Notice: For the ordinal feature, sometimes, it is positvely related with numbers, sometimes not\n",
    "\n",
    "\n",
    "**Details:**\n",
    "### commone features:\n",
    "\n",
    "### 1.5. FINANZ_MINIMALIST, FINANZ_SPARER, FINANZ_VORSORGER, FINANZ_ANLEGER,  FINANZ_UNAUFFAELLIGER, FINANZ_HAUSBAUER\n",
    "Financial typology, for each dimension:\n",
    "- -1: unknown\n",
    "-  1: very high\n",
    "-  2: high\n",
    "-  3: average\n",
    "-  4: low\n",
    "-  5: very low\n",
    "\n",
    "Dimension translations:\n",
    "- MINIMALIST: low financial interest\n",
    "- SPARER: money-saver\n",
    "- VORSORGER: be prepared\n",
    "- ANLEGER: investor\n",
    "- UNAUFFAELLIGER: inconspicuous\n",
    "- HAUSBAUER: home ownership\n",
    "\n",
    "\n",
    "### 1.20. SEMIO_SOZ, SEMIO_FAM, SEMIO_REL, SEMIO_MAT, SEMIO_VERT, SEMIO_LUST, SEMIO_ERL, SEMIO_KULT, SEMIO_RAT,  SEMIO_PFLICHT, SEMIO_TRADV\n",
    "Personality typology, for each dimension:\n",
    "- -1: unknown\n",
    "-  1: highest affinity\n",
    "-  2: very high affinity\n",
    "-  3: high affinity\n",
    "-  4: average affinity\n",
    "-  5: low affinity\n",
    "-  6: very low affinity\n",
    "-  7: lowest affinity\n",
    "-  9: unknown\n",
    "\n",
    "Dimension translations:\n",
    "- SOZ: socially-minded\n",
    "- FAM: family-minded\n",
    "- REL: religious\n",
    "- MAT: materialistic\n",
    "- VERT: dreamful\n",
    "- LUST: sensual-minded\n",
    "- ERL: event-oriented\n",
    "- KULT: cultural-minded\n",
    "- RAT: rational\n",
    "- KRIT: critical-minded\n",
    "- DOM: dominant-minded\n",
    "- KAEM: combative attitude\n",
    "- PFLICHT: dutiful\n",
    "- TRADV: tradional-minded\n",
    "\n",
    "\n",
    "\n",
    "\n",
    "# component 1\n",
    "**positively related:**\n",
    "\n",
    "(PLZ8 macro-cell features)\n",
    "PLZ8_ANTG3 \n",
    "Number of 6-10 family houses in the PLZ8 region, share\n",
    "Number of 6-10 family houses in the PLZ8 region\n",
    "- -1: unknown\n",
    "-  0: no 6-10 family homes\n",
    "-  1: lower share of 6-10 family homes\n",
    "-  2: average share of 6-10 family homes\n",
    "-  3: high share of 6-10 family homes\n",
    "\n",
    "PLZ8_ANTG4 \n",
    "Number of 10+ family houses in the PLZ8 region, share\n",
    "\n",
    "wealth\n",
    "wealth_level \n",
    "= ['Wealthy Households','Prosperous Households','Comfortable Households','Less Affluent Households',\\\n",
    "    #                 'Poorer Households'] -[1,2,3,4,5]\n",
    "\n",
    "\n",
    "ORTSGR_KLS9\n",
    "Size of community\n",
    "\n",
    "HH_EINKOMMEN_SCORE\n",
    "Estimated household net income\n",
    "2.4. HH_EINKOMMEN_SCORE\n",
    "Estimated household net income\n",
    "- -1: unknown\n",
    "-  0: unknown\n",
    "-  1: highest income\n",
    "-  2: very high income\n",
    "-  3: high income\n",
    "-  4: average income\n",
    "-  5: lower income\n",
    "-  6: very low income\n",
    "\n",
    "EWDICHTE\n",
    "Density of households per square kilometer\n",
    "Density of households per square kilometer\n",
    "- -1: unknown\n",
    "-  1: less than 34 households per km^2\n",
    "-  2:  34 -  89 households per km^2\n",
    "-  3:  90 - 149 households per km^2\n",
    "-  4: 150 - 319 households per km^2\n",
    "-  5: 320 - 999 households per km^2\n",
    "-  6: more than 999 households per km^2\n",
    "\n",
    "**negatively related**\n",
    "\n",
    "PLZ8_ANTG1\n",
    "Number of 1-2 family houses in the PLZ8 region, share\n",
    "\n",
    "\n",
    "MOBI_REGIO\n",
    "Movement patterns\n",
    "Movement patterns\n",
    "- 1: very high movement\n",
    "- 2: high movement\n",
    "- 3: middle movement\n",
    "- 4: low movement\n",
    "- 5: very l\n",
    "\n",
    "FINANZ_MINIMALIST\n",
    "low financial interest\n",
    "\n",
    "KBA05_GBZ\n",
    "Number of buildings in the microcell\n",
    "Number of buildings in the microcell\n",
    "- -1: unknown\n",
    "-  0: unknown\n",
    "-  1: 1-2 buildings\n",
    "-  2: 3-4 buildings\n",
    "-  3: 5-16 buildings\n",
    "-  4: 17-22 buildings\n",
    "-  5: >=23 buildings\n",
    "\n",
    "KBA05_ANTG1\n",
    "Number of 1-2 family houses in the microcell\n",
    "Number of 1-2 family houses in the microcell\n",
    "- -1: unknown\n",
    "-  0: no 1-2 family homes\n",
    "-  1: lower share of 1-2 family homes\n",
    "-  2: average share of 1-2 family homes\n",
    "-  3: high share of 1-2 family homes\n",
    "-  4: very high share of 1-2 family homes\n",
    "\n",
    "\n",
    "\n",
    "# **component 2**\n",
    "\n",
    "**positive**\n",
    "\n",
    "ALTERSKATEGORIE_GROB\n",
    "Estimated age based on given name analysis\n",
    "Estimated age based on given name analysis\n",
    "- -1: unknown (missing)\n",
    "-  0: unknown (cannot be determined)\n",
    "-  1: < 30 years old\n",
    "-  2: 30 - 45 years old\n",
    "-  3: 46 - 60 years old\n",
    "-  4: > 60 years old\n",
    "-  9: uniformly distributed\n",
    "\n",
    "SEMIO_ERL,\n",
    "Personality typology, for each dimension:\n",
    "ERL: event-oriented\n",
    "\n",
    "\n",
    "FINANZ_VORSORGER: be prepared\n",
    "\n",
    "**negative**\n",
    "SEMIO,FINANZ, Decade\n",
    "\n",
    "SEMIO:\n",
    "\n",
    "- REL:- REL: religious\n",
    "- TRADV: tradional-minded\n",
    "- PFLICHT: dutiful\n",
    "- KULT: cultural-minded\n",
    "\n",
    "FINANZ:\n",
    "\n",
    "- SPARER: money-saver\n",
    "- UNAUFFAELLIGER: inconspicuous\n",
    "- FINANZ_ANLEGER: investor\n",
    "\n",
    "# **component 3**\n",
    "\n",
    "**positive**\n",
    "SEMIO\n",
    "KULT, FAM, SOZ, VERT\n",
    "Dimension translations:\n",
    "- SOZ: socially-minded\n",
    "- FAM: family-minded\n",
    "- VERT: dreamful\n",
    "- KULT: cultural-minded\n",
    "\n",
    "**Negative:**\n",
    "\n",
    "ANREDE_KZ\n",
    "Gender\n",
    "Gender\n",
    "- -1: unknown (missing)\n",
    "-  0: unknown (cannot be determined)\n",
    "-  1: male\n",
    "-  2: female\n",
    "\n",
    "SEMIO:\n",
    "- RAT: rational\n",
    "- KRIT: critical-minded\n",
    "- DOM: dominant-minded\n",
    "- KAEM: combative attitude"
   ]
  },
  {
   "cell_type": "markdown",
   "metadata": {},
   "source": [
    "## Step 3: Clustering\n",
    "\n",
    "### Step 3.1: Apply Clustering to General Population\n",
    "\n",
    "You've assessed and cleaned the demographics data, then scaled and transformed them. Now, it's time to see how the data clusters in the principal components space. In this substep, you will apply k-means clustering to the dataset and use the average within-cluster distances from each point to their assigned cluster's centroid to decide on a number of clusters to keep.\n",
    "\n",
    "- Use sklearn's [KMeans](http://scikit-learn.org/stable/modules/generated/sklearn.cluster.KMeans.html#sklearn.cluster.KMeans) class to perform k-means clustering on the PCA-transformed data.\n",
    "- Then, compute the average difference from each point to its assigned cluster's center. **Hint**: The KMeans object's `.score()` method might be useful here, but note that in sklearn, scores tend to be defined so that larger is better. Try applying it to a small, toy dataset, or use an internet search to help your understanding.\n",
    "- Perform the above two steps for a number of different cluster counts. You can then see how the average distance decreases with an increasing number of clusters. However, each additional cluster provides a smaller net benefit. Use this fact to select a final number of clusters in which to group the data. **Warning**: because of the large size of the dataset, it can take a long time for the algorithm to resolve. The more clusters to fit, the longer the algorithm will take. You should test for cluster counts through at least 10 clusters to get the full picture, but you shouldn't need to test for a number of clusters above about 30.\n",
    "- Once you've selected a final number of clusters to use, re-fit a KMeans instance to perform the clustering operation. Make sure that you also obtain the cluster assignments for the general demographics data, since you'll be using them in the final Step 3.3."
   ]
  },
  {
   "cell_type": "code",
   "execution_count": 205,
   "metadata": {
    "scrolled": true
   },
   "outputs": [
    {
     "data": {
      "text/plain": [
       "(797426, 26)"
      ]
     },
     "execution_count": 205,
     "metadata": {},
     "output_type": "execute_result"
    }
   ],
   "source": [
    "data_pca.shape"
   ]
  },
  {
   "cell_type": "code",
   "execution_count": 206,
   "metadata": {},
   "outputs": [],
   "source": [
    "# # Over a number of different cluster counts...\n",
    "\n",
    "# kmeans = cluster.KMeans(n_clusters=10)\n",
    "\n",
    "#     # run k-means clustering on the data and...\n",
    "# kmeans.fit(data_pca)    \n",
    "\n",
    "#     # compute the average within-cluster distances.\n",
    "    \n",
    "# sc = - kmeans.score(data_pca)  / data_pca.shape[0]  \n",
    "    "
   ]
  },
  {
   "cell_type": "code",
   "execution_count": 438,
   "metadata": {},
   "outputs": [],
   "source": [
    "sc_list_1 = []\n",
    "for i in range(1, 10, 2):\n",
    "    kmeans = cluster.KMeans(n_clusters= i )\n",
    "    kmeans.fit(data_pca)        \n",
    "    sc_list_1.append( - kmeans.score(data_pca)  / data_pca.shape[0] )\n"
   ]
  },
  {
   "cell_type": "code",
   "execution_count": null,
   "metadata": {},
   "outputs": [],
   "source": [
    "# Investigate the change in within-cluster distance across number of clusters.\n",
    "# HINT: Use matplotlib's plot function to visualize this relationship.\n",
    "sc_list = []\n",
    "for i in range(10, 30, 2):\n",
    "    kmeans = cluster.KMeans(n_clusters= i )\n",
    "    kmeans.fit(data_pca)        \n",
    "    sc_list.append( - kmeans.score(data_pca)  / data_pca.shape[0] )\n"
   ]
  },
  {
   "cell_type": "code",
   "execution_count": null,
   "metadata": {},
   "outputs": [],
   "source": [
    "sc_list_2 = sc_list"
   ]
  },
  {
   "cell_type": "code",
   "execution_count": 440,
   "metadata": {
    "scrolled": true
   },
   "outputs": [
    {
     "data": {
      "text/plain": [
       "([<matplotlib.axis.XTick at 0x1258adba8>,\n",
       "  <matplotlib.axis.XTick at 0x1258ad080>,\n",
       "  <matplotlib.axis.XTick at 0x125952f60>,\n",
       "  <matplotlib.axis.XTick at 0x12595d320>,\n",
       "  <matplotlib.axis.XTick at 0x12595d9b0>],\n",
       " <a list of 5 Text xticklabel objects>)"
      ]
     },
     "execution_count": 440,
     "metadata": {},
     "output_type": "execute_result"
    },
    {
     "data": {
      "image/png": "[encoded data removed]",
      "text/plain": [
       "<Figure size 432x288 with 1 Axes>"
      ]
     },
     "metadata": {},
     "output_type": "display_data"
    }
   ],
   "source": [
    "plt.plot(range(1,10,2), sc_list_1, \"*-\")\n",
    "plt.xticks(np.arange(1, 10, step=2))"
   ]
  },
  {
   "cell_type": "code",
   "execution_count": 449,
   "metadata": {},
   "outputs": [],
   "source": [
    "sc_list_3 = sc_list_1 + sc_list_2\n",
    "n_clusters = list(range(1,10,2)) + list(range(10,30,2))"
   ]
  },
  {
   "cell_type": "code",
   "execution_count": 451,
   "metadata": {
    "scrolled": true
   },
   "outputs": [
    {
     "data": {
      "text/plain": [
       "([<matplotlib.axis.XTick at 0x125ae2630>,\n",
       "  <matplotlib.axis.XTick at 0x125946eb8>,\n",
       "  <matplotlib.axis.XTick at 0x1259466a0>,\n",
       "  <matplotlib.axis.XTick at 0x125a8a668>,\n",
       "  <matplotlib.axis.XTick at 0x125a8acf8>,\n",
       "  <matplotlib.axis.XTick at 0x125b17160>,\n",
       "  <matplotlib.axis.XTick at 0x125b176a0>,\n",
       "  <matplotlib.axis.XTick at 0x125b17d30>,\n",
       "  <matplotlib.axis.XTick at 0x125a8ab00>,\n",
       "  <matplotlib.axis.XTick at 0x125b17048>,\n",
       "  <matplotlib.axis.XTick at 0x125b2c5f8>,\n",
       "  <matplotlib.axis.XTick at 0x125b2ccf8>,\n",
       "  <matplotlib.axis.XTick at 0x125b2cb00>,\n",
       "  <matplotlib.axis.XTick at 0x125b436a0>,\n",
       "  <matplotlib.axis.XTick at 0x125b432b0>],\n",
       " <a list of 15 Text xticklabel objects>)"
      ]
     },
     "execution_count": 451,
     "metadata": {},
     "output_type": "execute_result"
    },
    {
     "data": {
      "image/png": "[encoded data removed]",
      "text/plain": [
       "<Figure size 432x288 with 1 Axes>"
      ]
     },
     "metadata": {},
     "output_type": "display_data"
    }
   ],
   "source": [
    "plt.plot(n_clusters, sc_list_3, \"*-\")\n",
    "plt.xticks(np.arange(0, 30, step=2))"
   ]
  },
  {
   "cell_type": "markdown",
   "metadata": {},
   "source": [
    "undersatnding the KMeans Score:\n",
    "Returns:    \n",
    "score : float\n",
    "Opposite of the value of X on the K-means objective.\n",
    "To understand what that means you need to have a look at the k-means algorithm. What k-means essentially does is find cluster centers that minimize the sum of distances between data samples and their associated cluster centers.\n",
    "\n",
    "It is a two-step process, where (a) each data sample is associated to its closest cluster center, (b) cluster centers are adjusted to lie at the center of all samples associated to them. These steps are repeated until a criterion (max iterations / min change between last two iterations) is met.\n",
    "\n",
    "As you can see there remains a distance between the data samples and their associated cluster centers, and the objective of our minimization is that distance (sum of all distances).\n",
    "\n",
    "You naturally get large distances if you have a big variety in data samples, if the number of data samples is significantly higher than the number of clusters, which in your case is only two. On the contrary, if all data samples were the same, you would always get a zero distance regardless of number of clusters.\n",
    "\n",
    "From the documentation I would expect that all values are negative, though. If you observe both negative and positive values, maybe there is more to the score than that."
   ]
  },
  {
   "cell_type": "code",
   "execution_count": 207,
   "metadata": {},
   "outputs": [],
   "source": [
    "# Re-fit the k-means model with the selected number of clusters and obtain\n",
    "# cluster predictions for the general population demographics data.\n",
    "\n",
    "kmeans = cluster.KMeans(n_clusters = 12)\n",
    "label_general = kmeans.fit_predict(data_pca)"
   ]
  },
  {
   "cell_type": "markdown",
   "metadata": {},
   "source": [
    "### Discussion 3.1: Apply Clustering to General Population\n",
    "\n",
    "(Double-click this cell and replace this text with your own text, reporting your findings and decisions regarding clustering. Into how many clusters have you decided to segment the population?)\n",
    "\n",
    "I use 12, this is about where the decrease of the averaged within cluster distance starts to slow down."
   ]
  },
  {
   "cell_type": "markdown",
   "metadata": {},
   "source": [
    "### Step 3.2: Apply All Steps to the Customer Data\n",
    "\n",
    "Now that you have clusters and cluster centers for the general population, it's time to see how the customer data maps on to those clusters. Take care to not confuse this for re-fitting all of the models to the customer data. Instead, you're going to use the fits from the general population to clean, transform, and cluster the customer data. In the last step of the project, you will interpret how the general population fits apply to the customer data.\n",
    "\n",
    "- Don't forget when loading in the customers data, that it is semicolon (`;`) delimited.\n",
    "- Apply the same feature wrangling, selection, and engineering steps to the customer demographics using the `clean_data()` function you created earlier. (You can assume that the customer demographics data has similar meaning behind missing data patterns as the general demographics data.)\n",
    "- Use the sklearn objects from the general demographics data, and apply their transformations to the customers data. That is, you should not be using a `.fit()` or `.fit_transform()` method to re-fit the old objects, nor should you be creating new sklearn objects! Carry the data through the feature scaling, PCA, and clustering steps, obtaining cluster assignments for all of the data in the customer demographics data."
   ]
  },
  {
   "cell_type": "code",
   "execution_count": 208,
   "metadata": {},
   "outputs": [
    {
     "data": {
      "text/plain": [
       "(797426, 65)"
      ]
     },
     "execution_count": 208,
     "metadata": {},
     "output_type": "execute_result"
    }
   ],
   "source": [
    "df.shape"
   ]
  },
  {
   "cell_type": "code",
   "execution_count": 209,
   "metadata": {},
   "outputs": [
    {
     "name": "stdout",
     "output_type": "stream",
     "text": [
      "<class 'pandas.core.frame.DataFrame'>\n",
      "Int64Index: 797426 entries, 1 to 891220\n",
      "Data columns (total 65 columns):\n",
      "ALTERSKATEGORIE_GROB     794642 non-null float64\n",
      "ANREDE_KZ                797426 non-null int64\n",
      "FINANZ_MINIMALIST        797426 non-null int64\n",
      "FINANZ_SPARER            797426 non-null int64\n",
      "FINANZ_VORSORGER         797426 non-null int64\n",
      "FINANZ_ANLEGER           797426 non-null int64\n",
      "FINANZ_UNAUFFAELLIGER    797426 non-null int64\n",
      "FINANZ_HAUSBAUER         797426 non-null int64\n",
      "GREEN_AVANTGARDE         797426 non-null int64\n",
      "HEALTH_TYP               761009 non-null float64\n",
      "RETOURTYP_BK_S           792792 non-null float64\n",
      "SEMIO_SOZ                797426 non-null int64\n",
      "SEMIO_FAM                797426 non-null int64\n",
      "SEMIO_REL                797426 non-null int64\n",
      "SEMIO_MAT                797426 non-null int64\n",
      "SEMIO_VERT               797426 non-null int64\n",
      "SEMIO_LUST               797426 non-null int64\n",
      "SEMIO_ERL                797426 non-null int64\n",
      "SEMIO_KULT               797426 non-null int64\n",
      "SEMIO_RAT                797426 non-null int64\n",
      "SEMIO_KRIT               797426 non-null int64\n",
      "SEMIO_DOM                797426 non-null int64\n",
      "SEMIO_KAEM               797426 non-null int64\n",
      "SEMIO_PFLICHT            797426 non-null int64\n",
      "SEMIO_TRADV              797426 non-null int64\n",
      "SOHO_KZ                  797426 non-null float64\n",
      "VERS_TYP                 761009 non-null float64\n",
      "ANZ_PERSONEN             797426 non-null float64\n",
      "ANZ_TITEL                797426 non-null float64\n",
      "HH_EINKOMMEN_SCORE       797426 non-null float64\n",
      "W_KEIT_KIND_HH           738526 non-null float64\n",
      "WOHNDAUER_2008           797426 non-null float64\n",
      "ANZ_HAUSHALTE_AKTIV      791096 non-null float64\n",
      "ANZ_HH_TITEL             793698 non-null float64\n",
      "KONSUMNAEHE              797358 non-null float64\n",
      "MIN_GEBAEUDEJAHR         797426 non-null float64\n",
      "KBA05_ANTG1              757890 non-null float64\n",
      "KBA05_ANTG2              757890 non-null float64\n",
      "KBA05_ANTG3              757890 non-null float64\n",
      "KBA05_ANTG4              757890 non-null float64\n",
      "KBA05_GBZ                757890 non-null float64\n",
      "BALLRAUM                 796835 non-null float64\n",
      "EWDICHTE                 796835 non-null float64\n",
      "INNENSTADT               796835 non-null float64\n",
      "GEBAEUDETYP_RASTER       797421 non-null float64\n",
      "KKK                      732993 non-null float64\n",
      "MOBI_REGIO               757890 non-null float64\n",
      "ONLINE_AFFINITAET        792792 non-null float64\n",
      "REGIOTYP                 732993 non-null float64\n",
      "KBA13_ANZAHL_PKW         785169 non-null float64\n",
      "PLZ8_ANTG1               774697 non-null float64\n",
      "PLZ8_ANTG2               774697 non-null float64\n",
      "PLZ8_ANTG3               774697 non-null float64\n",
      "PLZ8_ANTG4               774697 non-null float64\n",
      "PLZ8_HHZ                 774697 non-null float64\n",
      "PLZ8_GBZ                 774697 non-null float64\n",
      "ARBEIT                   793208 non-null float64\n",
      "ORTSGR_KLS9              793308 non-null float64\n",
      "RELAT_AB                 793208 non-null float64\n",
      "O                        797426 non-null float64\n",
      "W                        797426 non-null float64\n",
      "decade                   768968 non-null float64\n",
      "movement                 768968 non-null float64\n",
      "wealth                   791423 non-null float64\n",
      "life_stage               791423 non-null float64\n",
      "dtypes: float64(43), int64(22)\n",
      "memory usage: 421.5 MB\n"
     ]
    }
   ],
   "source": [
    "df.info()"
   ]
  },
  {
   "cell_type": "code",
   "execution_count": 302,
   "metadata": {},
   "outputs": [],
   "source": [
    "# Load in the customer demographics data.\n",
    "df_customers = pd.read_csv('Udacity_CUSTOMERS_Subset.csv', sep = ';')"
   ]
  },
  {
   "cell_type": "code",
   "execution_count": 303,
   "metadata": {
    "scrolled": true
   },
   "outputs": [
    {
     "name": "stdout",
     "output_type": "stream",
     "text": [
      "<class 'pandas.core.frame.DataFrame'>\n",
      "RangeIndex: 191652 entries, 0 to 191651\n",
      "Data columns (total 85 columns):\n",
      "AGER_TYP                 191652 non-null int64\n",
      "ALTERSKATEGORIE_GROB     191652 non-null int64\n",
      "ANREDE_KZ                191652 non-null int64\n",
      "CJT_GESAMTTYP            188439 non-null float64\n",
      "FINANZ_MINIMALIST        191652 non-null int64\n",
      "FINANZ_SPARER            191652 non-null int64\n",
      "FINANZ_VORSORGER         191652 non-null int64\n",
      "FINANZ_ANLEGER           191652 non-null int64\n",
      "FINANZ_UNAUFFAELLIGER    191652 non-null int64\n",
      "FINANZ_HAUSBAUER         191652 non-null int64\n",
      "FINANZTYP                191652 non-null int64\n",
      "GEBURTSJAHR              191652 non-null int64\n",
      "GFK_URLAUBERTYP          188439 non-null float64\n",
      "GREEN_AVANTGARDE         191652 non-null int64\n",
      "HEALTH_TYP               191652 non-null int64\n",
      "LP_LEBENSPHASE_FEIN      188439 non-null float64\n",
      "LP_LEBENSPHASE_GROB      188439 non-null float64\n",
      "LP_FAMILIE_FEIN          188439 non-null float64\n",
      "LP_FAMILIE_GROB          188439 non-null float64\n",
      "LP_STATUS_FEIN           188439 non-null float64\n",
      "LP_STATUS_GROB           188439 non-null float64\n",
      "NATIONALITAET_KZ         191652 non-null int64\n",
      "PRAEGENDE_JUGENDJAHRE    191652 non-null int64\n",
      "RETOURTYP_BK_S           188439 non-null float64\n",
      "SEMIO_SOZ                191652 non-null int64\n",
      "SEMIO_FAM                191652 non-null int64\n",
      "SEMIO_REL                191652 non-null int64\n",
      "SEMIO_MAT                191652 non-null int64\n",
      "SEMIO_VERT               191652 non-null int64\n",
      "SEMIO_LUST               191652 non-null int64\n",
      "SEMIO_ERL                191652 non-null int64\n",
      "SEMIO_KULT               191652 non-null int64\n",
      "SEMIO_RAT                191652 non-null int64\n",
      "SEMIO_KRIT               191652 non-null int64\n",
      "SEMIO_DOM                191652 non-null int64\n",
      "SEMIO_KAEM               191652 non-null int64\n",
      "SEMIO_PFLICHT            191652 non-null int64\n",
      "SEMIO_TRADV              191652 non-null int64\n",
      "SHOPPER_TYP              191652 non-null int64\n",
      "SOHO_KZ                  145056 non-null float64\n",
      "TITEL_KZ                 145056 non-null float64\n",
      "VERS_TYP                 191652 non-null int64\n",
      "ZABEOTYP                 191652 non-null int64\n",
      "ALTER_HH                 145056 non-null float64\n",
      "ANZ_PERSONEN             145056 non-null float64\n",
      "ANZ_TITEL                145056 non-null float64\n",
      "HH_EINKOMMEN_SCORE       188684 non-null float64\n",
      "KK_KUNDENTYP             79715 non-null float64\n",
      "W_KEIT_KIND_HH           137910 non-null float64\n",
      "WOHNDAUER_2008           145056 non-null float64\n",
      "ANZ_HAUSHALTE_AKTIV      141725 non-null float64\n",
      "ANZ_HH_TITEL             139542 non-null float64\n",
      "GEBAEUDETYP              141725 non-null float64\n",
      "KONSUMNAEHE              145001 non-null float64\n",
      "MIN_GEBAEUDEJAHR         141725 non-null float64\n",
      "OST_WEST_KZ              141725 non-null object\n",
      "WOHNLAGE                 141725 non-null float64\n",
      "CAMEO_DEUG_2015          141224 non-null object\n",
      "CAMEO_DEU_2015           141224 non-null object\n",
      "CAMEO_INTL_2015          141224 non-null object\n",
      "KBA05_ANTG1              135672 non-null float64\n",
      "KBA05_ANTG2              135672 non-null float64\n",
      "KBA05_ANTG3              135672 non-null float64\n",
      "KBA05_ANTG4              135672 non-null float64\n",
      "KBA05_BAUMAX             135672 non-null float64\n",
      "KBA05_GBZ                135672 non-null float64\n",
      "BALLRAUM                 141693 non-null float64\n",
      "EWDICHTE                 141693 non-null float64\n",
      "INNENSTADT               141693 non-null float64\n",
      "GEBAEUDETYP_RASTER       141725 non-null float64\n",
      "KKK                      137392 non-null float64\n",
      "MOBI_REGIO               135672 non-null float64\n",
      "ONLINE_AFFINITAET        188439 non-null float64\n",
      "REGIOTYP                 137392 non-null float64\n",
      "KBA13_ANZAHL_PKW         140371 non-null float64\n",
      "PLZ8_ANTG1               138888 non-null float64\n",
      "PLZ8_ANTG2               138888 non-null float64\n",
      "PLZ8_ANTG3               138888 non-null float64\n",
      "PLZ8_ANTG4               138888 non-null float64\n",
      "PLZ8_BAUMAX              138888 non-null float64\n",
      "PLZ8_HHZ                 138888 non-null float64\n",
      "PLZ8_GBZ                 138888 non-null float64\n",
      "ARBEIT                   141176 non-null float64\n",
      "ORTSGR_KLS9              141176 non-null float64\n",
      "RELAT_AB                 141176 non-null float64\n",
      "dtypes: float64(49), int64(32), object(4)\n",
      "memory usage: 124.3+ MB\n"
     ]
    }
   ],
   "source": [
    "df_customers.info()"
   ]
  },
  {
   "cell_type": "code",
   "execution_count": 304,
   "metadata": {
    "scrolled": true
   },
   "outputs": [
    {
     "data": {
      "text/html": [
       "<div>\n",
       "<style scoped>\n",
       "    .dataframe tbody tr th:only-of-type {\n",
       "        vertical-align: middle;\n",
       "    }\n",
       "\n",
       "    .dataframe tbody tr th {\n",
       "        vertical-align: top;\n",
       "    }\n",
       "\n",
       "    .dataframe thead th {\n",
       "        text-align: right;\n",
       "    }\n",
       "</style>\n",
       "<table border=\"1\" class=\"dataframe\">\n",
       "  <thead>\n",
       "    <tr style=\"text-align: right;\">\n",
       "      <th></th>\n",
       "      <th>AGER_TYP</th>\n",
       "      <th>ALTERSKATEGORIE_GROB</th>\n",
       "      <th>ANREDE_KZ</th>\n",
       "      <th>CJT_GESAMTTYP</th>\n",
       "      <th>FINANZ_MINIMALIST</th>\n",
       "      <th>FINANZ_SPARER</th>\n",
       "      <th>FINANZ_VORSORGER</th>\n",
       "      <th>FINANZ_ANLEGER</th>\n",
       "      <th>FINANZ_UNAUFFAELLIGER</th>\n",
       "      <th>FINANZ_HAUSBAUER</th>\n",
       "      <th>...</th>\n",
       "      <th>PLZ8_ANTG1</th>\n",
       "      <th>PLZ8_ANTG2</th>\n",
       "      <th>PLZ8_ANTG3</th>\n",
       "      <th>PLZ8_ANTG4</th>\n",
       "      <th>PLZ8_BAUMAX</th>\n",
       "      <th>PLZ8_HHZ</th>\n",
       "      <th>PLZ8_GBZ</th>\n",
       "      <th>ARBEIT</th>\n",
       "      <th>ORTSGR_KLS9</th>\n",
       "      <th>RELAT_AB</th>\n",
       "    </tr>\n",
       "  </thead>\n",
       "  <tbody>\n",
       "    <tr>\n",
       "      <th>0</th>\n",
       "      <td>2</td>\n",
       "      <td>4</td>\n",
       "      <td>1</td>\n",
       "      <td>5.0</td>\n",
       "      <td>5</td>\n",
       "      <td>1</td>\n",
       "      <td>5</td>\n",
       "      <td>1</td>\n",
       "      <td>2</td>\n",
       "      <td>2</td>\n",
       "      <td>...</td>\n",
       "      <td>3.0</td>\n",
       "      <td>3.0</td>\n",
       "      <td>1.0</td>\n",
       "      <td>0.0</td>\n",
       "      <td>1.0</td>\n",
       "      <td>5.0</td>\n",
       "      <td>5.0</td>\n",
       "      <td>1.0</td>\n",
       "      <td>2.0</td>\n",
       "      <td>1.0</td>\n",
       "    </tr>\n",
       "    <tr>\n",
       "      <th>1</th>\n",
       "      <td>-1</td>\n",
       "      <td>4</td>\n",
       "      <td>1</td>\n",
       "      <td>NaN</td>\n",
       "      <td>5</td>\n",
       "      <td>1</td>\n",
       "      <td>5</td>\n",
       "      <td>1</td>\n",
       "      <td>3</td>\n",
       "      <td>2</td>\n",
       "      <td>...</td>\n",
       "      <td>NaN</td>\n",
       "      <td>NaN</td>\n",
       "      <td>NaN</td>\n",
       "      <td>NaN</td>\n",
       "      <td>NaN</td>\n",
       "      <td>NaN</td>\n",
       "      <td>NaN</td>\n",
       "      <td>NaN</td>\n",
       "      <td>NaN</td>\n",
       "      <td>NaN</td>\n",
       "    </tr>\n",
       "    <tr>\n",
       "      <th>2</th>\n",
       "      <td>-1</td>\n",
       "      <td>4</td>\n",
       "      <td>2</td>\n",
       "      <td>2.0</td>\n",
       "      <td>5</td>\n",
       "      <td>1</td>\n",
       "      <td>5</td>\n",
       "      <td>1</td>\n",
       "      <td>4</td>\n",
       "      <td>4</td>\n",
       "      <td>...</td>\n",
       "      <td>2.0</td>\n",
       "      <td>3.0</td>\n",
       "      <td>3.0</td>\n",
       "      <td>1.0</td>\n",
       "      <td>3.0</td>\n",
       "      <td>3.0</td>\n",
       "      <td>2.0</td>\n",
       "      <td>3.0</td>\n",
       "      <td>5.0</td>\n",
       "      <td>3.0</td>\n",
       "    </tr>\n",
       "    <tr>\n",
       "      <th>3</th>\n",
       "      <td>1</td>\n",
       "      <td>4</td>\n",
       "      <td>1</td>\n",
       "      <td>2.0</td>\n",
       "      <td>5</td>\n",
       "      <td>1</td>\n",
       "      <td>5</td>\n",
       "      <td>2</td>\n",
       "      <td>1</td>\n",
       "      <td>2</td>\n",
       "      <td>...</td>\n",
       "      <td>3.0</td>\n",
       "      <td>2.0</td>\n",
       "      <td>1.0</td>\n",
       "      <td>0.0</td>\n",
       "      <td>1.0</td>\n",
       "      <td>3.0</td>\n",
       "      <td>4.0</td>\n",
       "      <td>1.0</td>\n",
       "      <td>3.0</td>\n",
       "      <td>1.0</td>\n",
       "    </tr>\n",
       "    <tr>\n",
       "      <th>4</th>\n",
       "      <td>-1</td>\n",
       "      <td>3</td>\n",
       "      <td>1</td>\n",
       "      <td>6.0</td>\n",
       "      <td>3</td>\n",
       "      <td>1</td>\n",
       "      <td>4</td>\n",
       "      <td>4</td>\n",
       "      <td>5</td>\n",
       "      <td>2</td>\n",
       "      <td>...</td>\n",
       "      <td>2.0</td>\n",
       "      <td>4.0</td>\n",
       "      <td>2.0</td>\n",
       "      <td>1.0</td>\n",
       "      <td>2.0</td>\n",
       "      <td>3.0</td>\n",
       "      <td>3.0</td>\n",
       "      <td>3.0</td>\n",
       "      <td>5.0</td>\n",
       "      <td>1.0</td>\n",
       "    </tr>\n",
       "  </tbody>\n",
       "</table>\n",
       "<p>5 rows × 85 columns</p>\n",
       "</div>"
      ],
      "text/plain": [
       "   AGER_TYP  ALTERSKATEGORIE_GROB  ANREDE_KZ  CJT_GESAMTTYP  \\\n",
       "0         2                     4          1            5.0   \n",
       "1        -1                     4          1            NaN   \n",
       "2        -1                     4          2            2.0   \n",
       "3         1                     4          1            2.0   \n",
       "4        -1                     3          1            6.0   \n",
       "\n",
       "   FINANZ_MINIMALIST  FINANZ_SPARER  FINANZ_VORSORGER  FINANZ_ANLEGER  \\\n",
       "0                  5              1                 5               1   \n",
       "1                  5              1                 5               1   \n",
       "2                  5              1                 5               1   \n",
       "3                  5              1                 5               2   \n",
       "4                  3              1                 4               4   \n",
       "\n",
       "   FINANZ_UNAUFFAELLIGER  FINANZ_HAUSBAUER    ...     PLZ8_ANTG1  PLZ8_ANTG2  \\\n",
       "0                      2                 2    ...            3.0         3.0   \n",
       "1                      3                 2    ...            NaN         NaN   \n",
       "2                      4                 4    ...            2.0         3.0   \n",
       "3                      1                 2    ...            3.0         2.0   \n",
       "4                      5                 2    ...            2.0         4.0   \n",
       "\n",
       "   PLZ8_ANTG3  PLZ8_ANTG4  PLZ8_BAUMAX  PLZ8_HHZ  PLZ8_GBZ  ARBEIT  \\\n",
       "0         1.0         0.0          1.0       5.0       5.0     1.0   \n",
       "1         NaN         NaN          NaN       NaN       NaN     NaN   \n",
       "2         3.0         1.0          3.0       3.0       2.0     3.0   \n",
       "3         1.0         0.0          1.0       3.0       4.0     1.0   \n",
       "4         2.0         1.0          2.0       3.0       3.0     3.0   \n",
       "\n",
       "   ORTSGR_KLS9  RELAT_AB  \n",
       "0          2.0       1.0  \n",
       "1          NaN       NaN  \n",
       "2          5.0       3.0  \n",
       "3          3.0       1.0  \n",
       "4          5.0       1.0  \n",
       "\n",
       "[5 rows x 85 columns]"
      ]
     },
     "execution_count": 304,
     "metadata": {},
     "output_type": "execute_result"
    }
   ],
   "source": [
    "df_customers.head()"
   ]
  },
  {
   "cell_type": "code",
   "execution_count": 305,
   "metadata": {},
   "outputs": [
    {
     "data": {
      "text/plain": [
       "(191652, 85)"
      ]
     },
     "execution_count": 305,
     "metadata": {},
     "output_type": "execute_result"
    }
   ],
   "source": [
    "df_customers.shape"
   ]
  },
  {
   "cell_type": "code",
   "execution_count": 320,
   "metadata": {},
   "outputs": [
    {
     "name": "stdout",
     "output_type": "stream",
     "text": [
      "remove missing cols (191652, 79)\n",
      "remove missing rows (141640, 79)\n"
     ]
    }
   ],
   "source": [
    "# Apply preprocessing, feature transformation, and clustering from the general\n",
    "# demographics onto the customer data, obtaining cluster predictions for the\n",
    "# customer demographics data.\n",
    "df_cust = clean_data(df_customers)\n"
   ]
  },
  {
   "cell_type": "code",
   "execution_count": 307,
   "metadata": {},
   "outputs": [
    {
     "data": {
      "text/plain": [
       "(141640, 65)"
      ]
     },
     "execution_count": 307,
     "metadata": {},
     "output_type": "execute_result"
    }
   ],
   "source": [
    "df_cust.shape"
   ]
  },
  {
   "cell_type": "code",
   "execution_count": 285,
   "metadata": {
    "scrolled": true
   },
   "outputs": [
    {
     "name": "stdout",
     "output_type": "stream",
     "text": [
      "<class 'pandas.core.frame.DataFrame'>\n",
      "Int64Index: 141640 entries, 0 to 191651\n",
      "Data columns (total 65 columns):\n",
      "ALTERSKATEGORIE_GROB     141407 non-null float64\n",
      "ANREDE_KZ                141640 non-null int64\n",
      "FINANZ_MINIMALIST        141640 non-null int64\n",
      "FINANZ_SPARER            141640 non-null int64\n",
      "FINANZ_VORSORGER         141640 non-null int64\n",
      "FINANZ_ANLEGER           141640 non-null int64\n",
      "FINANZ_UNAUFFAELLIGER    141640 non-null int64\n",
      "FINANZ_HAUSBAUER         141640 non-null int64\n",
      "GREEN_AVANTGARDE         141640 non-null int64\n",
      "HEALTH_TYP               139321 non-null float64\n",
      "RETOURTYP_BK_S           138539 non-null float64\n",
      "SEMIO_SOZ                141640 non-null int64\n",
      "SEMIO_FAM                141640 non-null int64\n",
      "SEMIO_REL                141640 non-null int64\n",
      "SEMIO_MAT                141640 non-null int64\n",
      "SEMIO_VERT               141640 non-null int64\n",
      "SEMIO_LUST               141640 non-null int64\n",
      "SEMIO_ERL                141640 non-null int64\n",
      "SEMIO_KULT               141640 non-null int64\n",
      "SEMIO_RAT                141640 non-null int64\n",
      "SEMIO_KRIT               141640 non-null int64\n",
      "SEMIO_DOM                141640 non-null int64\n",
      "SEMIO_KAEM               141640 non-null int64\n",
      "SEMIO_PFLICHT            141640 non-null int64\n",
      "SEMIO_TRADV              141640 non-null int64\n",
      "SOHO_KZ                  141640 non-null float64\n",
      "VERS_TYP                 139321 non-null float64\n",
      "ANZ_PERSONEN             141640 non-null float64\n",
      "ANZ_TITEL                141640 non-null float64\n",
      "HH_EINKOMMEN_SCORE       141640 non-null float64\n",
      "W_KEIT_KIND_HH           133754 non-null float64\n",
      "WOHNDAUER_2008           141640 non-null float64\n",
      "ANZ_HAUSHALTE_AKTIV      139217 non-null float64\n",
      "ANZ_HH_TITEL             139484 non-null float64\n",
      "KONSUMNAEHE              141634 non-null float64\n",
      "MIN_GEBAEUDEJAHR         141640 non-null float64\n",
      "KBA05_ANTG1              135670 non-null float64\n",
      "KBA05_ANTG2              135670 non-null float64\n",
      "KBA05_ANTG3              135670 non-null float64\n",
      "KBA05_ANTG4              135670 non-null float64\n",
      "KBA05_GBZ                135668 non-null float64\n",
      "BALLRAUM                 141608 non-null float64\n",
      "EWDICHTE                 141608 non-null float64\n",
      "INNENSTADT               141608 non-null float64\n",
      "GEBAEUDETYP_RASTER       141640 non-null float64\n",
      "KKK                      131558 non-null float64\n",
      "MOBI_REGIO               135670 non-null float64\n",
      "ONLINE_AFFINITAET        138539 non-null float64\n",
      "REGIOTYP                 131558 non-null float64\n",
      "KBA13_ANZAHL_PKW         140345 non-null float64\n",
      "PLZ8_ANTG1               138888 non-null float64\n",
      "PLZ8_ANTG2               138888 non-null float64\n",
      "PLZ8_ANTG3               138888 non-null float64\n",
      "PLZ8_ANTG4               138888 non-null float64\n",
      "PLZ8_HHZ                 138888 non-null float64\n",
      "PLZ8_GBZ                 138888 non-null float64\n",
      "ARBEIT                   141069 non-null float64\n",
      "ORTSGR_KLS9              141092 non-null float64\n",
      "RELAT_AB                 141069 non-null float64\n",
      "O                        141640 non-null float64\n",
      "W                        141640 non-null float64\n",
      "decade                   140357 non-null float64\n",
      "movement                 140357 non-null float64\n",
      "wealth                   0 non-null float64\n",
      "life_stage               0 non-null float64\n",
      "dtypes: float64(43), int64(22)\n",
      "memory usage: 71.3 MB\n"
     ]
    }
   ],
   "source": [
    "df_cust.info()"
   ]
  },
  {
   "cell_type": "code",
   "execution_count": 286,
   "metadata": {
    "scrolled": false
   },
   "outputs": [],
   "source": [
    "data_cust = imputer.transform(df_cust)\n",
    "data_cust = ss.transform(data_cust)\n",
    "data_cust = pca.transform(data_cust)\n",
    "label_cust = kmeans.predict(data_cust)"
   ]
  },
  {
   "cell_type": "code",
   "execution_count": 287,
   "metadata": {},
   "outputs": [
    {
     "data": {
      "text/plain": [
       "26"
      ]
     },
     "execution_count": 287,
     "metadata": {},
     "output_type": "execute_result"
    }
   ],
   "source": [
    "pca.n_components_"
   ]
  },
  {
   "cell_type": "code",
   "execution_count": 288,
   "metadata": {},
   "outputs": [
    {
     "data": {
      "text/plain": [
       "(141640, 26)"
      ]
     },
     "execution_count": 288,
     "metadata": {},
     "output_type": "execute_result"
    }
   ],
   "source": [
    "data_cust.shape"
   ]
  },
  {
   "cell_type": "markdown",
   "metadata": {},
   "source": [
    "### Step 3.3: Compare Customer Data to Demographics Data\n",
    "\n",
    "At this point, you have clustered data based on demographics of the general population of Germany, and seen how the customer data for a mail-order sales company maps onto those demographic clusters. In this final substep, you will compare the two cluster distributions to see where the strongest customer base for the company is.\n",
    "\n",
    "Consider the proportion of persons in each cluster for the general population, and the proportions for the customers. If we think the company's customer base to be universal, then the cluster assignment proportions should be fairly similar between the two. If there are only particular segments of the population that are interested in the company's products, then we should see a mismatch from one to the other. If there is a higher proportion of persons in a cluster for the customer data compared to the general population (e.g. 5% of persons are assigned to a cluster for the general population, but 15% of the customer data is closest to that cluster's centroid) then that suggests the people in that cluster to be a target audience for the company. On the other hand, the proportion of the data in a cluster being larger in the general population than the customer data (e.g. only 2% of customers closest to a population centroid that captures 6% of the data) suggests that group of persons to be outside of the target demographics.\n",
    "\n",
    "Take a look at the following points in this step:\n",
    "\n",
    "- Compute the proportion of data points in each cluster for the general population and the customer data. Visualizations will be useful here: both for the individual dataset proportions, but also to visualize the ratios in cluster representation between groups. Seaborn's [`countplot()`](https://seaborn.pydata.org/generated/seaborn.countplot.html) or [`barplot()`](https://seaborn.pydata.org/generated/seaborn.barplot.html) function could be handy.\n",
    "  - Recall the analysis you performed in step 1.1.3 of the project, where you separated out certain data points from the dataset if they had more than a specified threshold of missing values. If you found that this group was qualitatively different from the main bulk of the data, you should treat this as an additional data cluster in this analysis. Make sure that you account for the number of data points in this subset, for both the general population and customer datasets, when making your computations!\n",
    "- Which cluster or clusters are overrepresented in the customer dataset compared to the general population? Select at least one such cluster and infer what kind of people might be represented by that cluster. Use the principal component interpretations from step 2.3 or look at additional components to help you make this inference. Alternatively, you can use the `.inverse_transform()` method of the PCA and StandardScaler objects to transform centroids back to the original data space and interpret the retrieved values directly.\n",
    "- Perform a similar investigation for the underrepresented clusters. Which cluster or clusters are underrepresented in the customer dataset compared to the general population, and what kinds of people are typified by these clusters?"
   ]
  },
  {
   "cell_type": "code",
   "execution_count": 289,
   "metadata": {},
   "outputs": [],
   "source": [
    "# Compare the proportion of data in each cluster for the customer data to the\n",
    "# proportion of data in each cluster for the general population."
   ]
  },
  {
   "cell_type": "markdown",
   "metadata": {},
   "source": [
    "## customer data"
   ]
  },
  {
   "cell_type": "code",
   "execution_count": 357,
   "metadata": {},
   "outputs": [
    {
     "data": {
      "text/plain": [
       "(141640,)"
      ]
     },
     "execution_count": 357,
     "metadata": {},
     "output_type": "execute_result"
    }
   ],
   "source": [
    "label_cust.shape"
   ]
  },
  {
   "cell_type": "code",
   "execution_count": 324,
   "metadata": {},
   "outputs": [
    {
     "data": {
      "text/plain": [
       "(191652, 85)"
      ]
     },
     "execution_count": 324,
     "metadata": {},
     "output_type": "execute_result"
    }
   ],
   "source": [
    "df_customers.shape"
   ]
  },
  {
   "cell_type": "code",
   "execution_count": 347,
   "metadata": {},
   "outputs": [
    {
     "data": {
      "text/plain": [
       "(141640, 26)"
      ]
     },
     "execution_count": 347,
     "metadata": {},
     "output_type": "execute_result"
    }
   ],
   "source": [
    "data_cust.shape"
   ]
  },
  {
   "cell_type": "code",
   "execution_count": 350,
   "metadata": {},
   "outputs": [],
   "source": [
    "missing_rows_cust =  df_customers.shape[0] - data_cust.shape[0]"
   ]
  },
  {
   "cell_type": "code",
   "execution_count": 351,
   "metadata": {},
   "outputs": [
    {
     "data": {
      "text/plain": [
       "array([ 8,  1,  8, ...,  8,  1, 11], dtype=int32)"
      ]
     },
     "execution_count": 351,
     "metadata": {},
     "output_type": "execute_result"
    }
   ],
   "source": [
    "label_cust"
   ]
  },
  {
   "cell_type": "code",
   "execution_count": 352,
   "metadata": {
    "scrolled": true
   },
   "outputs": [
    {
     "data": {
      "text/plain": [
       "(array([ 0,  1,  2,  3,  4,  5,  6,  7,  8,  9, 10, 11], dtype=int32),\n",
       " array([ 2534, 14690,  1542,  1535,  2568,  5731, 20572, 10453, 46397,\n",
       "        17600,  2778, 15240]))"
      ]
     },
     "execution_count": 352,
     "metadata": {},
     "output_type": "execute_result"
    }
   ],
   "source": [
    "np.unique(label_cust,return_counts=True)"
   ]
  },
  {
   "cell_type": "code",
   "execution_count": 353,
   "metadata": {
    "scrolled": true
   },
   "outputs": [],
   "source": [
    "label_nans_cust = np.concatenate(([missing_rows_cust], np.unique(label_cust,return_counts=True)[1] ) )"
   ]
  },
  {
   "cell_type": "code",
   "execution_count": 354,
   "metadata": {},
   "outputs": [
    {
     "data": {
      "text/plain": [
       "array([50012,  2534, 14690,  1542,  1535,  2568,  5731, 20572, 10453,\n",
       "       46397, 17600,  2778, 15240])"
      ]
     },
     "execution_count": 354,
     "metadata": {},
     "output_type": "execute_result"
    }
   ],
   "source": [
    "label_nans_cust"
   ]
  },
  {
   "cell_type": "code",
   "execution_count": 355,
   "metadata": {},
   "outputs": [],
   "source": [
    "proportion_cust = label_nans_cust/label_nans_cust.sum()*100"
   ]
  },
  {
   "cell_type": "code",
   "execution_count": 356,
   "metadata": {
    "scrolled": true
   },
   "outputs": [
    {
     "data": {
      "text/plain": [
       "array([26.09521424,  1.32218813,  7.66493436,  0.80458331,  0.80093085,\n",
       "        1.33992862,  2.99031578, 10.73403878,  5.45415649, 24.20898295,\n",
       "        9.18331142,  1.44950222,  7.95191284])"
      ]
     },
     "execution_count": 356,
     "metadata": {},
     "output_type": "execute_result"
    }
   ],
   "source": [
    "proportion_cust"
   ]
  },
  {
   "cell_type": "markdown",
   "metadata": {},
   "source": [
    "## general data"
   ]
  },
  {
   "cell_type": "code",
   "execution_count": 221,
   "metadata": {},
   "outputs": [
    {
     "data": {
      "text/plain": [
       "(797426,)"
      ]
     },
     "execution_count": 221,
     "metadata": {},
     "output_type": "execute_result"
    }
   ],
   "source": [
    "label_general.shape"
   ]
  },
  {
   "cell_type": "code",
   "execution_count": 358,
   "metadata": {},
   "outputs": [
    {
     "data": {
      "text/plain": [
       "(891221, 79)"
      ]
     },
     "execution_count": 358,
     "metadata": {},
     "output_type": "execute_result"
    }
   ],
   "source": [
    "azdias.shape"
   ]
  },
  {
   "cell_type": "code",
   "execution_count": 359,
   "metadata": {},
   "outputs": [
    {
     "data": {
      "text/plain": [
       "(797426, 65)"
      ]
     },
     "execution_count": 359,
     "metadata": {},
     "output_type": "execute_result"
    }
   ],
   "source": [
    "df.shape"
   ]
  },
  {
   "cell_type": "code",
   "execution_count": 360,
   "metadata": {},
   "outputs": [],
   "source": [
    "missing_rows_general = azdias.shape[0] - df.shape[0]"
   ]
  },
  {
   "cell_type": "code",
   "execution_count": 361,
   "metadata": {
    "scrolled": false
   },
   "outputs": [
    {
     "data": {
      "text/plain": [
       "(array([ 0,  1,  2,  3,  4,  5,  6,  7,  8,  9, 10, 11], dtype=int32),\n",
       " array([ 2534, 14690,  1542,  1535,  2568,  5731, 20572, 10453, 46397,\n",
       "        17600,  2778, 15240]))"
      ]
     },
     "execution_count": 361,
     "metadata": {},
     "output_type": "execute_result"
    }
   ],
   "source": [
    "np.unique(label_cust,return_counts=True)"
   ]
  },
  {
   "cell_type": "code",
   "execution_count": 363,
   "metadata": {},
   "outputs": [],
   "source": [
    "label_nans_general = np.concatenate( ( [missing_rows_general], np.unique(label_cust,return_counts=True)[1] ) )"
   ]
  },
  {
   "cell_type": "code",
   "execution_count": 374,
   "metadata": {},
   "outputs": [
    {
     "data": {
      "text/plain": [
       "array([93795,  2534, 14690,  1542,  1535,  2568,  5731, 20572, 10453,\n",
       "       46397, 17600,  2778, 15240])"
      ]
     },
     "execution_count": 374,
     "metadata": {},
     "output_type": "execute_result"
    }
   ],
   "source": [
    "label_nans_general"
   ]
  },
  {
   "cell_type": "code",
   "execution_count": 364,
   "metadata": {},
   "outputs": [],
   "source": [
    "proportion_general = label_nans_general / label_nans_general.sum() *100"
   ]
  },
  {
   "cell_type": "code",
   "execution_count": 365,
   "metadata": {},
   "outputs": [
    {
     "data": {
      "text/plain": [
       "array([39.83902139,  1.07630556,  6.23951409,  0.65495784,  0.65198462,\n",
       "        1.09074692,  2.43421751,  8.7378682 ,  4.43986663, 19.70692548,\n",
       "        7.47552403,  1.17994351,  6.47312422])"
      ]
     },
     "execution_count": 365,
     "metadata": {},
     "output_type": "execute_result"
    }
   ],
   "source": [
    "proportion_general"
   ]
  },
  {
   "cell_type": "markdown",
   "metadata": {},
   "source": [
    "# proportion of customer data and general data"
   ]
  },
  {
   "cell_type": "code",
   "execution_count": 375,
   "metadata": {},
   "outputs": [],
   "source": [
    "proportion_diff_with_nans = proportion_cust - proportion_general"
   ]
  },
  {
   "cell_type": "code",
   "execution_count": 383,
   "metadata": {
    "scrolled": true
   },
   "outputs": [
    {
     "data": {
      "text/plain": [
       "<BarContainer object of 13 artists>"
      ]
     },
     "execution_count": 383,
     "metadata": {},
     "output_type": "execute_result"
    },
    {
     "data": {
      "image/png": "[encoded data removed]",
      "text/plain": [
       "<Figure size 432x288 with 1 Axes>"
      ]
     },
     "metadata": {},
     "output_type": "display_data"
    }
   ],
   "source": [
    "plt.bar(range(-1,12),proportion_diff_with_nans)"
   ]
  },
  {
   "cell_type": "code",
   "execution_count": 384,
   "metadata": {},
   "outputs": [],
   "source": [
    "prop_cust = np.unique(label_cust,return_counts=True)[1]/np.unique(label_cust,return_counts=True)[1].sum()"
   ]
  },
  {
   "cell_type": "code",
   "execution_count": 388,
   "metadata": {},
   "outputs": [
    {
     "data": {
      "text/plain": [
       "array([0.01789043, 0.10371364, 0.01088676, 0.01083733, 0.01813047,\n",
       "       0.04046173, 0.14524146, 0.07379977, 0.3275699 , 0.12425868,\n",
       "       0.0196131 , 0.10759672])"
      ]
     },
     "execution_count": 388,
     "metadata": {},
     "output_type": "execute_result"
    }
   ],
   "source": [
    "prop_cust"
   ]
  },
  {
   "cell_type": "code",
   "execution_count": 385,
   "metadata": {},
   "outputs": [],
   "source": [
    "prop_general = np.unique(label_general,return_counts=True)[1]/np.unique(label_general,return_counts=True)[1].sum()"
   ]
  },
  {
   "cell_type": "code",
   "execution_count": 389,
   "metadata": {},
   "outputs": [
    {
     "data": {
      "text/plain": [
       "array([0.07427899, 0.11255464, 0.0817731 , 0.10280954, 0.11443068,\n",
       "       0.05832391, 0.13509718, 0.03984821, 0.08120377, 0.10487117,\n",
       "       0.00406182, 0.09074698])"
      ]
     },
     "execution_count": 389,
     "metadata": {},
     "output_type": "execute_result"
    }
   ],
   "source": [
    "prop_general"
   ]
  },
  {
   "cell_type": "code",
   "execution_count": 390,
   "metadata": {},
   "outputs": [],
   "source": [
    "prop_diff = prop_cust - prop_general"
   ]
  },
  {
   "cell_type": "code",
   "execution_count": 391,
   "metadata": {},
   "outputs": [
    {
     "data": {
      "text/plain": [
       "array([-0.05638857, -0.008841  , -0.07088635, -0.09197221, -0.09630021,\n",
       "       -0.01786217,  0.01014428,  0.03395156,  0.24636612,  0.01938751,\n",
       "        0.01555128,  0.01684975])"
      ]
     },
     "execution_count": 391,
     "metadata": {},
     "output_type": "execute_result"
    }
   ],
   "source": [
    "prop_diff"
   ]
  },
  {
   "cell_type": "code",
   "execution_count": 392,
   "metadata": {},
   "outputs": [
    {
     "data": {
      "text/plain": [
       "<BarContainer object of 12 artists>"
      ]
     },
     "execution_count": 392,
     "metadata": {},
     "output_type": "execute_result"
    },
    {
     "data": {
      "image/png": "[encoded data removed]",
      "text/plain": [
       "<Figure size 432x288 with 1 Axes>"
      ]
     },
     "metadata": {},
     "output_type": "display_data"
    }
   ],
   "source": [
    "plt.bar(range(0,12),prop_diff)"
   ]
  },
  {
   "cell_type": "code",
   "execution_count": 373,
   "metadata": {
    "scrolled": true
   },
   "outputs": [
    {
     "data": {
      "text/plain": [
       "<matplotlib.axes._subplots.AxesSubplot at 0x12a793470>"
      ]
     },
     "execution_count": 373,
     "metadata": {},
     "output_type": "execute_result"
    },
    {
     "data": {
      "image/png": "[encoded data removed]",
      "text/plain": [
       "<Figure size 432x288 with 1 Axes>"
      ]
     },
     "metadata": {},
     "output_type": "display_data"
    }
   ],
   "source": [
    "sns.countplot(label_cust)"
   ]
  },
  {
   "cell_type": "code",
   "execution_count": 370,
   "metadata": {
    "scrolled": false
   },
   "outputs": [
    {
     "data": {
      "text/plain": [
       "<matplotlib.axes._subplots.AxesSubplot at 0x127a972b0>"
      ]
     },
     "execution_count": 370,
     "metadata": {},
     "output_type": "execute_result"
    },
    {
     "data": {
      "image/png": "[encoded data removed]",
      "text/plain": [
       "<Figure size 432x288 with 1 Axes>"
      ]
     },
     "metadata": {},
     "output_type": "display_data"
    }
   ],
   "source": [
    "sns.countplot(label_general)"
   ]
  },
  {
   "cell_type": "code",
   "execution_count": 228,
   "metadata": {},
   "outputs": [
    {
     "data": {
      "text/plain": [
       "(12, 26)"
      ]
     },
     "execution_count": 228,
     "metadata": {},
     "output_type": "execute_result"
    }
   ],
   "source": [
    "kmeans.cluster_centers_.shape"
   ]
  },
  {
   "cell_type": "markdown",
   "metadata": {},
   "source": [
    "### What kinds of people are part of a cluster that is overrepresented in the\n",
    "### customer data compared to the general population?\n",
    "\n",
    "cluter 8 \n"
   ]
  },
  {
   "cell_type": "code",
   "execution_count": 393,
   "metadata": {},
   "outputs": [
    {
     "data": {
      "text/plain": [
       "array([-3.64277555e+00,  7.84106873e-01,  2.91754851e+00, -7.24140556e-02,\n",
       "       -3.66908993e-02,  1.10400154e-01, -3.29319384e-01,  2.08225615e-01,\n",
       "       -3.01581588e-01,  4.57188058e-01,  2.38176625e-01,  4.52168477e-01,\n",
       "       -2.35685675e-01, -6.03678950e-02,  9.98491500e-03,  2.04162789e-02,\n",
       "        2.22337096e-01, -2.92843005e-02,  2.17586461e-01,  1.23906873e-01,\n",
       "        1.67221290e-02, -7.83861394e-03,  8.87912499e-02,  9.68693519e-02,\n",
       "       -2.02032656e-03,  9.84047817e-02])"
      ]
     },
     "execution_count": 393,
     "metadata": {},
     "output_type": "execute_result"
    }
   ],
   "source": [
    "kmeans.cluster_centers_[8]"
   ]
  },
  {
   "cell_type": "markdown",
   "metadata": {},
   "source": [
    "cluster 1 is negatively related with pca component 1, and positvely related with pca component 3.\n",
    "\n",
    "# **Overrepresented:**\n",
    "\n",
    "Hence cluster 1 are related with people who are wealthy, have high income, have finacial interests, have a a big family, live in spacious neighboorhood, don't move often; and people who are less socially minded, more rational, ambitious, male."
   ]
  },
  {
   "cell_type": "markdown",
   "metadata": {},
   "source": [
    "### What kinds of people are part of a cluster that is underrepresented in the\n",
    "### customer data compared to the general population?\n",
    "\n",
    "cluster 4, 3, 2, 0"
   ]
  },
  {
   "cell_type": "code",
   "execution_count": 399,
   "metadata": {
    "scrolled": true
   },
   "outputs": [
    {
     "data": {
      "text/plain": [
       "array([-6.94214028e-01, -2.88092953e+00, -3.10731478e+00,  1.36271366e-02,\n",
       "       -5.25726994e-02,  1.72720599e-01, -2.01416593e-01,  2.51999956e-01,\n",
       "       -9.87348027e-02,  3.41473420e-01,  2.38020846e-02, -2.63132237e-02,\n",
       "       -1.26608756e-02, -2.52995842e-02,  5.61187405e-02,  1.29019582e-02,\n",
       "        1.09289307e-01, -2.01087020e-01,  1.15381013e-01, -1.03766203e-01,\n",
       "       -6.13905303e-02, -1.81975654e-01,  4.35788441e-03,  1.07053169e-01,\n",
       "        7.51845360e-02,  1.45780637e-03])"
      ]
     },
     "execution_count": 399,
     "metadata": {},
     "output_type": "execute_result"
    }
   ],
   "source": [
    "kmeans.cluster_centers_[4]"
   ]
  },
  {
   "cell_type": "code",
   "execution_count": 400,
   "metadata": {},
   "outputs": [
    {
     "data": {
      "text/plain": [
       "array([ 4.34912919e+00, -1.02506056e+00, -2.60324321e+00,  2.24963059e-01,\n",
       "        5.88511986e-02, -1.87581599e-01, -2.57768074e-01,  1.64439147e-01,\n",
       "       -1.55109480e-01,  3.97360139e-01,  2.28244926e-01, -2.35694584e-02,\n",
       "       -6.81975592e-02, -5.22850545e-02,  1.22495649e-02, -3.99981417e-03,\n",
       "       -1.18497148e-01,  1.29489331e-01,  6.57711655e-02,  5.87251404e-02,\n",
       "       -5.49362428e-02, -7.90841243e-02,  4.71657955e-02,  1.80015948e-01,\n",
       "       -9.70009881e-03, -2.36672950e-02])"
      ]
     },
     "execution_count": 400,
     "metadata": {},
     "output_type": "execute_result"
    }
   ],
   "source": [
    "kmeans.cluster_centers_[3]"
   ]
  },
  {
   "cell_type": "code",
   "execution_count": 401,
   "metadata": {
    "scrolled": true
   },
   "outputs": [
    {
     "data": {
      "text/plain": [
       "array([ 4.33951303, -2.39453896,  2.42799061, -0.07060551,  0.00634855,\n",
       "       -0.05889683,  0.01486148, -0.12033329,  0.09550029, -0.35510758,\n",
       "       -0.10691158,  0.34034706, -0.12721042,  0.0461622 , -0.05133927,\n",
       "       -0.01449843, -0.15789633,  0.10029203, -0.01030475,  0.09375237,\n",
       "        0.08601756,  0.15215204,  0.01037621, -0.05852661, -0.04398647,\n",
       "        0.09857862])"
      ]
     },
     "execution_count": 401,
     "metadata": {},
     "output_type": "execute_result"
    }
   ],
   "source": [
    "kmeans.cluster_centers_[2]"
   ]
  },
  {
   "cell_type": "code",
   "execution_count": 402,
   "metadata": {},
   "outputs": [
    {
     "data": {
      "text/plain": [
       "array([-0.51144559, -4.89774223,  2.07764818, -0.05391381, -0.07473227,\n",
       "        0.16402508, -0.15976351,  0.0110507 , -0.0736203 ,  0.01349455,\n",
       "        0.04578793,  0.46476298, -0.10633947,  0.20016999,  0.02853078,\n",
       "        0.00653957,  0.01088987, -0.03033104,  0.18255802, -0.06636911,\n",
       "       -0.09102491,  0.04827193,  0.14233929, -0.09913325,  0.16646569,\n",
       "        0.09530842])"
      ]
     },
     "execution_count": 402,
     "metadata": {},
     "output_type": "execute_result"
    }
   ],
   "source": [
    "kmeans.cluster_centers_[0]"
   ]
  },
  {
   "cell_type": "markdown",
   "metadata": {},
   "source": [
    "people who are negatively related with pca component 3, 2, and positively related with pca component 1 \n",
    "\n",
    "# **underrepresented:**\n",
    "\n",
    "people whose information have more missing columns are underrepresented.\n",
    "\n",
    "And people who are:\n",
    "\n",
    "socially minded, agreeable, female, less ambitious, young, conservative, money-saver;\n",
    "\n",
    "less wealthy, low house income, shared housing, large population community, densed neighboorhood, move frequent"
   ]
  },
  {
   "cell_type": "markdown",
   "metadata": {},
   "source": [
    "### Discussion 3.3: Compare Customer Data to Demographics Data\n",
    "\n",
    "(Double-click this cell and replace this text with your own text, reporting findings and conclusions from the clustering analysis. Can we describe segments of the population that are relatively popular with the mail-order company, or relatively unpopular with the company?)"
   ]
  },
  {
   "cell_type": "markdown",
   "metadata": {},
   "source": [
    "Yes.\n",
    "\n",
    "Customers are more among people who are wealthy, have high income, have finacial interests, have a a big family, live in spacious neighboorhood, don't move often; and people who are less socially minded, more rational, ambitious, male.\n",
    "\n",
    "\n",
    "Custermore are NOT peopel who are socially minded, agreeable, female, less ambitious, young, conservative, money-saver; less wealthy, low house income, shared housing, large population community, densed neighboorhood, move frequent\n",
    "\n",
    "\n",
    "For the cluster of rows with > 20 missing values, it occupies 26.9% of the customer population, and 39.8% of the genral population."
   ]
  },
  {
   "cell_type": "markdown",
   "metadata": {},
   "source": [
    "> Congratulations on making it this far in the project! Before you finish, make sure to check through the entire notebook from top to bottom to make sure that your analysis follows a logical flow and all of your findings are documented in **Discussion** cells. Once you've checked over all of your work, you should export the notebook as an HTML document to submit for evaluation. You can do this from the menu, navigating to **File -> Download as -> HTML (.html)**. You will submit both that document and this notebook for your project submission."
   ]
  },
  {
   "cell_type": "code",
   "execution_count": null,
   "metadata": {},
   "outputs": [],
   "source": []
  }
 ],
 "metadata": {
  "kernelspec": {
   "display_name": "Python 3",
   "language": "python",
   "name": "python3"
  },
  "language_info": {
   "codemirror_mode": {
    "name": "ipython",
    "version": 3
   },
   "file_extension": ".py",
   "mimetype": "text/x-python",
   "name": "python",
   "nbconvert_exporter": "python",
   "pygments_lexer": "ipython3",
   "version": "3.6.5"
  }
 },
 "nbformat": 4,
 "nbformat_minor": 2
}
